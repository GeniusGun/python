{
  "nbformat": 4,
  "nbformat_minor": 0,
  "metadata": {
    "colab": {
      "name": "MNIST_deeplearning.ipynb",
      "provenance": [],
      "authorship_tag": "ABX9TyN/7DXjMJsmH1aet3qcN/a3",
      "include_colab_link": true
    },
    "kernelspec": {
      "name": "python3",
      "display_name": "Python 3"
    }
  },
  "cells": [
    {
      "cell_type": "markdown",
      "metadata": {
        "id": "view-in-github",
        "colab_type": "text"
      },
      "source": [
        "<a href=\"https://colab.research.google.com/github/GeniusGun/python/blob/master/MC/MNIST_deeplearning.ipynb\" target=\"_parent\"><img src=\"https://colab.research.google.com/assets/colab-badge.svg\" alt=\"Open In Colab\"/></a>"
      ]
    },
    {
      "cell_type": "code",
      "metadata": {
        "id": "5ru5F8XqPeXZ",
        "colab_type": "code",
        "colab": {
          "base_uri": "https://localhost:8080/",
          "height": 89
        },
        "outputId": "70a7e4c3-462c-45b1-a8da-c3c816bfa5c0"
      },
      "source": [
        "import tensorflow.compat.v1 as tf\n",
        "tf.disable_v2_behavior()\n",
        "from tensorflow.examples.tutorials.mnist import input_data\n",
        "import warnings\n",
        "warnings.filterwarnings(action='ignore')     # woarning 출력 x\n",
        "\n",
        "# Data Loading\n",
        "mnist = input_data.read_data_sets('./data/mnist', one_hot=True)"
      ],
      "execution_count": 21,
      "outputs": [
        {
          "output_type": "stream",
          "text": [
            "Extracting ./data/mnist/train-images-idx3-ubyte.gz\n",
            "Extracting ./data/mnist/train-labels-idx1-ubyte.gz\n",
            "Extracting ./data/mnist/t10k-images-idx3-ubyte.gz\n",
            "Extracting ./data/mnist/t10k-labels-idx1-ubyte.gz\n"
          ],
          "name": "stdout"
        }
      ]
    },
    {
      "cell_type": "code",
      "metadata": {
        "id": "p9blQKscRFO8",
        "colab_type": "code",
        "colab": {
          "base_uri": "https://localhost:8080/",
          "height": 197
        },
        "outputId": "f7461815-3411-4f4b-bb27-a5da04ed74c4"
      },
      "source": [
        "# placeholder\n",
        "X = tf.placeholder(shape=[None,784], dtype=tf.float32)\n",
        "Y = tf.placeholder(shape=[None,10], dtype=tf.float32)\n",
        "\n",
        "# Weight & bias (Deep & Wide)\n",
        "W1 = tf.Variable(tf.random_normal([784, 256]), name='weight1')\n",
        "b1 = tf.Variable(tf.random_normal([256]), name='bias1')\n",
        "layer1 = tf.sigmoid(tf.matmul(X,W1) + b1)\n",
        "\n",
        "W2 = tf.Variable(tf.random_normal([256, 256]), name='weight2')\n",
        "b2 = tf.Variable(tf.random_normal([256]), name='bias2')\n",
        "layer2 = tf.sigmoid(tf.matmul(layer1, W2) + b2)\n",
        "\n",
        "W3 = tf.Variable(tf.random_normal([256, 10]), name='weight3')\n",
        "b3 = tf.Variable(tf.random_normal([10]), name='bias3')\n",
        "\n",
        "# Hypothesis\n",
        "logit = tf.matmul(layer2, W3) + b3\n",
        "H = tf.nn.softmax(logit)\n",
        "\n",
        "# cost\n",
        "cost = tf.reduce_mean(tf.nn.softmax_cross_entropy_with_logits_v2(logits = logit,\n",
        "                                                                labels = Y))\n",
        "\n",
        "# train\n",
        "train = tf.train.GradientDescentOptimizer(learning_rate=0.1).minimize(cost)\n",
        "\n",
        "# Session, 초기화\n",
        "sess = tf.Session()\n",
        "sess.run(tf.global_variables_initializer())\n",
        "\n",
        "# 학습\n",
        "num_of_epoch = 30\n",
        "batch_size = 100\n",
        "\n",
        "for step in range(num_of_epoch):\n",
        "    num_of_epoch = int(mnist.train.num_examples / batch_size)\n",
        "    cost_val = 0\n",
        "    for i in range(num_of_epoch):\n",
        "        batch_x, batch_y = mnist.train.next_batch(batch_size)\n",
        "        _, cost_val = sess.run([train, cost], feed_dict = {X:batch_x,\n",
        "                                                           Y:batch_y})\n",
        "    if step % 3 == 0:\n",
        "        print('cost : {}'.format(cost_val))"
      ],
      "execution_count": 22,
      "outputs": [
        {
          "output_type": "stream",
          "text": [
            "cost : 0.8758203983306885\n",
            "cost : 0.36867770552635193\n",
            "cost : 0.7385092973709106\n",
            "cost : 0.1518549770116806\n",
            "cost : 0.27280181646347046\n",
            "cost : 0.1520392894744873\n",
            "cost : 0.2230745255947113\n",
            "cost : 0.19195149838924408\n",
            "cost : 0.1810695081949234\n",
            "cost : 0.16888748109340668\n"
          ],
          "name": "stdout"
        }
      ]
    },
    {
      "cell_type": "code",
      "metadata": {
        "id": "YzjWEZNyWWYN",
        "colab_type": "code",
        "colab": {
          "base_uri": "https://localhost:8080/",
          "height": 35
        },
        "outputId": "3bbda070-723c-4e15-ab1a-dda2401e0aa6"
      },
      "source": [
        "# accuracy 측정\n",
        "predict = tf.argmax(H,1)\n",
        "correct = tf.equal(predict, tf.argmax(Y,1))\n",
        "accuracy = tf.reduce_mean(tf.cast(correct, dtype=tf.float32))\n",
        "\n",
        "print('정확도 : {}'.format(sess.run(accuracy, feed_dict = {X:mnist.test.images,\n",
        "                                                    Y:mnist.test.labels})))"
      ],
      "execution_count": 23,
      "outputs": [
        {
          "output_type": "stream",
          "text": [
            "정확도 : 0.9214000105857849\n"
          ],
          "name": "stdout"
        }
      ]
    }
  ]
}