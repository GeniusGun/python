{
  "nbformat": 4,
  "nbformat_minor": 0,
  "metadata": {
    "colab": {
      "name": "python_04.ipynb",
      "provenance": [],
      "authorship_tag": "ABX9TyNNnrJ3TPgXAnH8GN9xraC6",
      "include_colab_link": true
    },
    "kernelspec": {
      "name": "python3",
      "display_name": "Python 3"
    }
  },
  "cells": [
    {
      "cell_type": "markdown",
      "metadata": {
        "id": "view-in-github",
        "colab_type": "text"
      },
      "source": [
        "<a href=\"https://colab.research.google.com/github/GeniusGun/python/blob/master/pandas/pandas_04.ipynb\" target=\"_parent\"><img src=\"https://colab.research.google.com/assets/colab-badge.svg\" alt=\"Open In Colab\"/></a>"
      ]
    },
    {
      "cell_type": "code",
      "metadata": {
        "id": "dVZAWAQPlYB8",
        "colab_type": "code",
        "outputId": "5fbec251-f9b8-40b8-a527-1e7aebf6675b",
        "colab": {
          "base_uri": "https://localhost:8080/",
          "height": 35
        }
      },
      "source": [
        "from google.colab import drive\n",
        "drive.mount('/content/drive')"
      ],
      "execution_count": 48,
      "outputs": [
        {
          "output_type": "stream",
          "text": [
            "Drive already mounted at /content/drive; to attempt to forcibly remount, call drive.mount(\"/content/drive\", force_remount=True).\n"
          ],
          "name": "stdout"
        }
      ]
    },
    {
      "cell_type": "markdown",
      "metadata": {
        "id": "U-YalK4RlOgu",
        "colab_type": "text"
      },
      "source": [
        "# 04-1 데이터 시각화가 필요한 이유"
      ]
    },
    {
      "cell_type": "markdown",
      "metadata": {
        "id": "EhGwPdkQpRLB",
        "colab_type": "text"
      },
      "source": [
        "## [1] 앤스콤 4분할 그래프 살펴보기\n",
        ">데이터 시각화를 보여주는 전형적인 사례로 앤스콤 4분할 그래프(Anscombe's quartet)가 있습니다. 이 그래프는 영국의 프랭크 앤스콤(frank Anscombe)이 데이터를 시각화하지 않고 수치만 확인할 때 발생할 수 있는 함정을 보여주기 위해 만든 그래프 입니다. 그러면 앤스콤이 지적한 '함정'이란 무엇일까요?\n",
        ">\n",
        "> ### 앤스콤이 지적한 함정과 데이터 시각화의 필요성\n",
        ">앤스콤 4분할 그래프를 구성하는 데이터 집합은 4개의 그룹으로 구성되어 있으며 모든 데이터 그룹은 x, y열을 가지고 있습니다. 그런데 이 4개의 데이터 그룹은 각각 편균, 분산과 같은 수칫값이나 상관관계, 회귀선이 같다는 특징이 있습니다. 그래서 이런 결과만 보고 __'데이터 그룹 1, 2, 3, 4의 데이터는 모두 같을 것이다'__ 라고 착각할 수 있습니다. 바로 이것이 앤스콤이 지적한 '함정'입니다. 하지막 각 데이터 그룹을 시각화하면 데이터그룹이 서로 다른 데이터 패턴을 가지고 있다는 점을 금방 알 수 있습니다. 이런 점에서 데이터 시각화는 데이터 분석 분야에서 아주 중요한 요소라고 할 수 있습니다. 그러면 데이터 시각화란 무엇인지 직접 실습하며 알아보겠습니다."
      ]
    },
    {
      "cell_type": "markdown",
      "metadata": {
        "id": "Kd71D9tqp2aC",
        "colab_type": "text"
      },
      "source": [
        "### (1) 앤스콤 데이터 집합 불러온 후 그래프 그리기"
      ]
    },
    {
      "cell_type": "markdown",
      "metadata": {
        "id": "6002m505qzlp",
        "colab_type": "text"
      },
      "source": [
        "#### _1._ 앤스콤 데이터 집합 불러오기\n",
        ">앤스콤 데이터 집합은 seaborn 라이브러리에 포람되어 있습니다. seaborn 라이브러리의 load_dataset 메서드에 문자열 sndcombe을 전달하면 앤스콤 데이터 집합을 불러올 수 있습니다. 이때 데이터프레임의 열 이름 중 dataset 열이 데이터 그룹을 구분한다는 것을 알 수 있습니다."
      ]
    },
    {
      "cell_type": "code",
      "metadata": {
        "id": "zOdRuEOJr-jm",
        "colab_type": "code",
        "colab": {
          "base_uri": "https://localhost:8080/",
          "height": 755
        },
        "outputId": "78582a4f-f09c-4401-d100-48da3c0f3e1d"
      },
      "source": [
        "import seaborn as sns\n",
        "anscombe = sns.load_dataset('anscombe')\n",
        "print(anscombe.sample(10).sort_index())\n",
        "print('-'*30)\n",
        "print(type(anscombe))\n",
        "print('-'*30)\n",
        "print(anscombe.groupby('dataset')['x', 'y'].mean())\n",
        "print('-'*30)\n",
        "print(anscombe.groupby('dataset')['x', 'y'].max())\n",
        "print('-'*30)\n",
        "print(anscombe.groupby('dataset')['x', 'y'].min())\n",
        "print('-'*30)\n",
        "print(anscombe.groupby('dataset')['x', 'y'].median())"
      ],
      "execution_count": 49,
      "outputs": [
        {
          "output_type": "stream",
          "text": [
            "   dataset     x      y\n",
            "1        I   8.0   6.95\n",
            "7        I   4.0   4.26\n",
            "9        I   7.0   4.82\n",
            "11      II  10.0   9.14\n",
            "15      II  11.0   9.26\n",
            "22     III  10.0   7.46\n",
            "36      IV   8.0   8.84\n",
            "37      IV   8.0   8.47\n",
            "40      IV  19.0  12.50\n",
            "43      IV   8.0   6.89\n",
            "------------------------------\n",
            "<class 'pandas.core.frame.DataFrame'>\n",
            "------------------------------\n",
            "           x         y\n",
            "dataset               \n",
            "I        9.0  7.500909\n",
            "II       9.0  7.500909\n",
            "III      9.0  7.500000\n",
            "IV       9.0  7.500909\n",
            "------------------------------\n",
            "            x      y\n",
            "dataset             \n",
            "I        14.0  10.84\n",
            "II       14.0   9.26\n",
            "III      14.0  12.74\n",
            "IV       19.0  12.50\n",
            "------------------------------\n",
            "           x     y\n",
            "dataset           \n",
            "I        4.0  4.26\n",
            "II       4.0  3.10\n",
            "III      4.0  5.39\n",
            "IV       8.0  5.25\n",
            "------------------------------\n",
            "           x     y\n",
            "dataset           \n",
            "I        9.0  7.58\n",
            "II       9.0  8.14\n",
            "III      9.0  7.11\n",
            "IV       8.0  7.04\n"
          ],
          "name": "stdout"
        }
      ]
    },
    {
      "cell_type": "markdown",
      "metadata": {
        "id": "Cfu60o_ytkSa",
        "colab_type": "text"
      },
      "source": [
        "#### _4._ matplotlib 라이브러리로 그래프 그리기\n",
        ">앤스콤 데이터 집합을 잘 불러왔나요? 데이터 집합이 준비되었으면 이제 그래프로 시각화를 하면 됩니다. 이 책에서는 그래프를 그리기 위해 matplotlib 라이브러리를 사용합니다. 먼저 그래프를 그리기 위해 matplotlib 라이브러리를 불러오겠습니다."
      ]
    },
    {
      "cell_type": "code",
      "metadata": {
        "id": "CNNhWe0-v_Dk",
        "colab_type": "code",
        "colab": {}
      },
      "source": [
        "%matplotlib inline      # 책에는 [ %matplotlib notebook ] 이라고 되어있지만 colab의 경우 지금과 같이 사용한다.\n",
        "import matplotlib.pyplot as plt"
      ],
      "execution_count": 0,
      "outputs": []
    },
    {
      "cell_type": "markdown",
      "metadata": {
        "id": "jjvdBVHawDfG",
        "colab_type": "text"
      },
      "source": [
        "### _3._\n",
        ">다음은 anscombe 데이터프레임의 dataset 열에서 데이터값이 1인것만 추출한 것입니다."
      ]
    },
    {
      "cell_type": "code",
      "metadata": {
        "id": "sSK5mA23wTji",
        "colab_type": "code",
        "colab": {
          "base_uri": "https://localhost:8080/",
          "height": 233
        },
        "outputId": "dd50d3ec-3859-4c40-93e3-b104c2b8df10"
      },
      "source": [
        "dataset_1 = anscombe[anscombe['dataset']=='I']\n",
        "print(dataset_1)"
      ],
      "execution_count": 51,
      "outputs": [
        {
          "output_type": "stream",
          "text": [
            "   dataset     x      y\n",
            "0        I  10.0   8.04\n",
            "1        I   8.0   6.95\n",
            "2        I  13.0   7.58\n",
            "3        I   9.0   8.81\n",
            "4        I  11.0   8.33\n",
            "5        I  14.0   9.96\n",
            "6        I   6.0   7.24\n",
            "7        I   4.0   4.26\n",
            "8        I  12.0  10.84\n",
            "9        I   7.0   4.82\n",
            "10       I   5.0   5.68\n"
          ],
          "name": "stdout"
        }
      ]
    },
    {
      "cell_type": "markdown",
      "metadata": {
        "id": "IaNnrV18xCdx",
        "colab_type": "text"
      },
      "source": [
        "#### _4._\n",
        ">선 그래프는 plot 메서드로 그릴 수 있습니다. plot 메서드에 x, y축 데이터를 전달하면 선 그래프가 나타납니다. 앞에서 준비한 dataset_1의 x, y열을 전달하세요."
      ]
    },
    {
      "cell_type": "code",
      "metadata": {
        "id": "T8I_V0joxU7v",
        "colab_type": "code",
        "colab": {
          "base_uri": "https://localhost:8080/",
          "height": 283
        },
        "outputId": "1e261814-5f0e-42da-d799-279519ab4f20"
      },
      "source": [
        "plt.plot(dataset_1['x'], dataset_1['y'])"
      ],
      "execution_count": 52,
      "outputs": [
        {
          "output_type": "execute_result",
          "data": {
            "text/plain": [
              "[<matplotlib.lines.Line2D at 0x7f587287fe10>]"
            ]
          },
          "metadata": {
            "tags": []
          },
          "execution_count": 52
        },
        {
          "output_type": "display_data",
          "data": {
            "image/png": "[encoded data removed]",
            "text/plain": [
              "<Figure size 432x288 with 1 Axes>"
            ]
          },
          "metadata": {
            "tags": []
          }
        }
      ]
    },
    {
      "cell_type": "markdown",
      "metadata": {
        "id": "_X9Paxkeymcp",
        "colab_type": "text"
      },
      "source": [
        "#### _5._\n",
        ">plot 메서드는 기본적으로 선으로 그래프를 그립니다. 만약 점으로 그래프를 그리려면 o을 세번째 인자로 전달하면 됩니다."
      ]
    },
    {
      "cell_type": "code",
      "metadata": {
        "id": "SMnSu63rx5Sf",
        "colab_type": "code",
        "colab": {
          "base_uri": "https://localhost:8080/",
          "height": 283
        },
        "outputId": "0612297c-e47f-4877-a041-95188e6a923b"
      },
      "source": [
        "plt.plot(dataset_1['x'], dataset_1['y'],'o')"
      ],
      "execution_count": 53,
      "outputs": [
        {
          "output_type": "execute_result",
          "data": {
            "text/plain": [
              "[<matplotlib.lines.Line2D at 0x7f58727edd30>]"
            ]
          },
          "metadata": {
            "tags": []
          },
          "execution_count": 53
        },
        {
          "output_type": "display_data",
          "data": {
            "image/png": "[encoded data removed]",
            "text/plain": [
              "<Figure size 432x288 with 1 Axes>"
            ]
          },
          "metadata": {
            "tags": []
          }
        }
      ]
    }
  ]
}