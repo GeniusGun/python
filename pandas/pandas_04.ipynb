{
  "nbformat": 4,
  "nbformat_minor": 0,
  "metadata": {
    "colab": {
      "name": "pandas_04.ipynb",
      "provenance": [],
      "toc_visible": true,
      "authorship_tag": "ABX9TyOseZxYjPFcWAadlYu7t6os",
      "include_colab_link": true
    },
    "kernelspec": {
      "name": "python3",
      "display_name": "Python 3"
    }
  },
  "cells": [
    {
      "cell_type": "markdown",
      "metadata": {
        "id": "view-in-github",
        "colab_type": "text"
      },
      "source": [
        "<a href=\"https://colab.research.google.com/github/GeniusGun/python/blob/master/pandas/pandas_04.ipynb\" target=\"_parent\"><img src=\"https://colab.research.google.com/assets/colab-badge.svg\" alt=\"Open In Colab\"/></a>"
      ]
    },
    {
      "cell_type": "code",
      "metadata": {
        "id": "dVZAWAQPlYB8",
        "colab_type": "code",
        "outputId": "c4bc1518-9c89-4ec7-ac6d-c3a2a2004371",
        "colab": {
          "base_uri": "https://localhost:8080/",
          "height": 127
        }
      },
      "source": [
        "from google.colab import drive\n",
        "drive.mount('/content/drive')"
      ],
      "execution_count": 0,
      "outputs": [
        {
          "output_type": "stream",
          "text": [
            "Go to this URL in a browser: https://accounts.google.com/o/oauth2/auth?client_id=947318989803-6bn6qk8qdgf4n4g3pfee6491hc0brc4i.apps.googleusercontent.com&redirect_uri=urn%3aietf%3awg%3aoauth%3a2.0%3aoob&response_type=code&scope=email%20https%3a%2f%2fwww.googleapis.com%2fauth%2fdocs.test%20https%3a%2f%2fwww.googleapis.com%2fauth%2fdrive%20https%3a%2f%2fwww.googleapis.com%2fauth%2fdrive.photos.readonly%20https%3a%2f%2fwww.googleapis.com%2fauth%2fpeopleapi.readonly\n",
            "\n",
            "Enter your authorization code:\n",
            "··········\n",
            "Mounted at /content/drive\n"
          ],
          "name": "stdout"
        }
      ]
    },
    {
      "cell_type": "markdown",
      "metadata": {
        "id": "U-YalK4RlOgu",
        "colab_type": "text"
      },
      "source": [
        "# 04-1 데이터 시각화가 필요한 이유"
      ]
    },
    {
      "cell_type": "markdown",
      "metadata": {
        "id": "EhGwPdkQpRLB",
        "colab_type": "text"
      },
      "source": [
        "## [1] 앤스콤 4분할 그래프 살펴보기\n",
        ">데이터 시각화를 보여주는 전형적인 사례로 앤스콤 4분할 그래프(Anscombe's quartet)가 있습니다. 이 그래프는 영국의 프랭크 앤스콤(frank Anscombe)이 데이터를 시각화하지 않고 수치만 확인할 때 발생할 수 있는 함정을 보여주기 위해 만든 그래프 입니다. 그러면 앤스콤이 지적한 '함정'이란 무엇일까요?\n",
        ">\n",
        "> ### 앤스콤이 지적한 함정과 데이터 시각화의 필요성\n",
        ">앤스콤 4분할 그래프를 구성하는 데이터 집합은 4개의 그룹으로 구성되어 있으며 모든 데이터 그룹은 x, y열을 가지고 있습니다. 그런데 이 4개의 데이터 그룹은 각각 편균, 분산과 같은 수칫값이나 상관관계, 회귀선이 같다는 특징이 있습니다. 그래서 이런 결과만 보고 __'데이터 그룹 1, 2, 3, 4의 데이터는 모두 같을 것이다'__ 라고 착각할 수 있습니다. 바로 이것이 앤스콤이 지적한 '함정'입니다. 하지막 각 데이터 그룹을 시각화하면 데이터그룹이 서로 다른 데이터 패턴을 가지고 있다는 점을 금방 알 수 있습니다. 이런 점에서 데이터 시각화는 데이터 분석 분야에서 아주 중요한 요소라고 할 수 있습니다. 그러면 데이터 시각화란 무엇인지 직접 실습하며 알아보겠습니다."
      ]
    },
    {
      "cell_type": "markdown",
      "metadata": {
        "id": "Kd71D9tqp2aC",
        "colab_type": "text"
      },
      "source": [
        "### (1) 앤스콤 데이터 집합 불러온 후 그래프 그리기"
      ]
    },
    {
      "cell_type": "markdown",
      "metadata": {
        "id": "6002m505qzlp",
        "colab_type": "text"
      },
      "source": [
        "#### _1._ 앤스콤 데이터 집합 불러오기\n",
        ">앤스콤 데이터 집합은 seaborn 라이브러리에 포람되어 있습니다. seaborn 라이브러리의 load_dataset 메서드에 문자열 sndcombe을 전달하면 앤스콤 데이터 집합을 불러올 수 있습니다. 이때 데이터프레임의 열 이름 중 dataset 열이 데이터 그룹을 구분한다는 것을 알 수 있습니다."
      ]
    },
    {
      "cell_type": "code",
      "metadata": {
        "id": "zOdRuEOJr-jm",
        "colab_type": "code",
        "outputId": "564fa89c-47e1-406e-daf3-3d4825361558",
        "colab": {
          "base_uri": "https://localhost:8080/",
          "height": 755
        }
      },
      "source": [
        "import seaborn as sns\n",
        "anscombe = sns.load_dataset('anscombe')\n",
        "print(anscombe.sample(10).sort_index())\n",
        "print('-'*30)\n",
        "print(type(anscombe))\n",
        "print('-'*30)\n",
        "print(anscombe.groupby('dataset')['x', 'y'].mean())\n",
        "print('-'*30)\n",
        "print(anscombe.groupby('dataset')['x', 'y'].max())\n",
        "print('-'*30)\n",
        "print(anscombe.groupby('dataset')['x', 'y'].min())\n",
        "print('-'*30)\n",
        "print(anscombe.groupby('dataset')['x', 'y'].median())"
      ],
      "execution_count": 0,
      "outputs": [
        {
          "output_type": "stream",
          "text": [
            "   dataset     x     y\n",
            "0        I  10.0  8.04\n",
            "1        I   8.0  6.95\n",
            "3        I   9.0  8.81\n",
            "5        I  14.0  9.96\n",
            "13      II  13.0  8.74\n",
            "15      II  11.0  9.26\n",
            "19      II  12.0  9.13\n",
            "20      II   7.0  7.26\n",
            "28     III   6.0  6.08\n",
            "29     III   4.0  5.39\n",
            "------------------------------\n",
            "<class 'pandas.core.frame.DataFrame'>\n",
            "------------------------------\n",
            "           x         y\n",
            "dataset               \n",
            "I        9.0  7.500909\n",
            "II       9.0  7.500909\n",
            "III      9.0  7.500000\n",
            "IV       9.0  7.500909\n",
            "------------------------------\n",
            "            x      y\n",
            "dataset             \n",
            "I        14.0  10.84\n",
            "II       14.0   9.26\n",
            "III      14.0  12.74\n",
            "IV       19.0  12.50\n",
            "------------------------------\n",
            "           x     y\n",
            "dataset           \n",
            "I        4.0  4.26\n",
            "II       4.0  3.10\n",
            "III      4.0  5.39\n",
            "IV       8.0  5.25\n",
            "------------------------------\n",
            "           x     y\n",
            "dataset           \n",
            "I        9.0  7.58\n",
            "II       9.0  8.14\n",
            "III      9.0  7.11\n",
            "IV       8.0  7.04\n"
          ],
          "name": "stdout"
        }
      ]
    },
    {
      "cell_type": "markdown",
      "metadata": {
        "id": "Cfu60o_ytkSa",
        "colab_type": "text"
      },
      "source": [
        "#### _2._ matplotlib 라이브러리로 그래프 그리기\n",
        ">앤스콤 데이터 집합을 잘 불러왔나요? 데이터 집합이 준비되었으면 이제 그래프로 시각화를 하면 됩니다. 이 책에서는 그래프를 그리기 위해 matplotlib 라이브러리를 사용합니다. 먼저 그래프를 그리기 위해 matplotlib 라이브러리를 불러오겠습니다."
      ]
    },
    {
      "cell_type": "code",
      "metadata": {
        "id": "CNNhWe0-v_Dk",
        "colab_type": "code",
        "colab": {}
      },
      "source": [
        "%matplotlib inline      \n",
        "# 책에는 [ %matplotlib notebook ] 이라고 되어있지만 colab의 경우 지금과 같이 사용한다.\n",
        "import matplotlib.pyplot as plt"
      ],
      "execution_count": 0,
      "outputs": []
    },
    {
      "cell_type": "markdown",
      "metadata": {
        "id": "jjvdBVHawDfG",
        "colab_type": "text"
      },
      "source": [
        "#### _3._\n",
        ">다음은 anscombe 데이터프레임의 dataset 열에서 데이터값이 1인것만 추출한 것입니다."
      ]
    },
    {
      "cell_type": "code",
      "metadata": {
        "id": "sSK5mA23wTji",
        "colab_type": "code",
        "outputId": "c7d60f73-9d95-40b8-c7b2-87a8d6a9f4d1",
        "colab": {
          "base_uri": "https://localhost:8080/",
          "height": 233
        }
      },
      "source": [
        "dataset_1 = anscombe[anscombe['dataset']=='I']\n",
        "print(dataset_1)"
      ],
      "execution_count": 0,
      "outputs": [
        {
          "output_type": "stream",
          "text": [
            "   dataset     x      y\n",
            "0        I  10.0   8.04\n",
            "1        I   8.0   6.95\n",
            "2        I  13.0   7.58\n",
            "3        I   9.0   8.81\n",
            "4        I  11.0   8.33\n",
            "5        I  14.0   9.96\n",
            "6        I   6.0   7.24\n",
            "7        I   4.0   4.26\n",
            "8        I  12.0  10.84\n",
            "9        I   7.0   4.82\n",
            "10       I   5.0   5.68\n"
          ],
          "name": "stdout"
        }
      ]
    },
    {
      "cell_type": "markdown",
      "metadata": {
        "id": "IaNnrV18xCdx",
        "colab_type": "text"
      },
      "source": [
        "#### _4._\n",
        ">선 그래프는 plot 메서드로 그릴 수 있습니다. plot 메서드에 x, y축 데이터를 전달하면 선 그래프가 나타납니다. 앞에서 준비한 dataset_1의 x, y열을 전달하세요."
      ]
    },
    {
      "cell_type": "code",
      "metadata": {
        "id": "T8I_V0joxU7v",
        "colab_type": "code",
        "outputId": "61836009-6378-43a6-9a41-e8e13c4f41b7",
        "colab": {
          "base_uri": "https://localhost:8080/",
          "height": 283
        }
      },
      "source": [
        "plt.plot(dataset_1['x'], dataset_1['y'])"
      ],
      "execution_count": 0,
      "outputs": [
        {
          "output_type": "execute_result",
          "data": {
            "text/plain": [
              "[<matplotlib.lines.Line2D at 0x7f0ba6714f28>]"
            ]
          },
          "metadata": {
            "tags": []
          },
          "execution_count": 6
        },
        {
          "output_type": "display_data",
          "data": {
            "image/png": "[encoded data removed]",
            "text/plain": [
              "<Figure size 432x288 with 1 Axes>"
            ]
          },
          "metadata": {
            "tags": []
          }
        }
      ]
    },
    {
      "cell_type": "markdown",
      "metadata": {
        "id": "_X9Paxkeymcp",
        "colab_type": "text"
      },
      "source": [
        "#### _5._\n",
        ">plot 메서드는 기본적으로 선으로 그래프를 그립니다. 만약 점으로 그래프를 그리려면 o을 세번째 인자로 전달하면 됩니다."
      ]
    },
    {
      "cell_type": "code",
      "metadata": {
        "id": "SMnSu63rx5Sf",
        "colab_type": "code",
        "outputId": "35125d47-1629-4bdb-ea11-b1f5c989d06f",
        "colab": {
          "base_uri": "https://localhost:8080/",
          "height": 283
        }
      },
      "source": [
        "plt.plot(dataset_1['x'], dataset_1['y'],'o')"
      ],
      "execution_count": 0,
      "outputs": [
        {
          "output_type": "execute_result",
          "data": {
            "text/plain": [
              "[<matplotlib.lines.Line2D at 0x7f0ba62722b0>]"
            ]
          },
          "metadata": {
            "tags": []
          },
          "execution_count": 7
        },
        {
          "output_type": "display_data",
          "data": {
            "image/png": "[encoded data removed]",
            "text/plain": [
              "<Figure size 432x288 with 1 Axes>"
            ]
          },
          "metadata": {
            "tags": []
          }
        }
      ]
    },
    {
      "cell_type": "markdown",
      "metadata": {
        "id": "3olGagcjWgpa",
        "colab_type": "text"
      },
      "source": [
        "## [2] 앤스콤 데이터 집합 모두 사용해 그래프 만들기\n",
        "> 앤스콤 데이터 집합은 4개의 데이터 그룹으로 구성되어 있으며 각 데이터 그룹의 차이를 파악하려면 그래프로 시각화 해야 한다고 했습니다. 이번에는 모든 데이터 그룹에 대하여 그래프를 그려보겠습니다.\n",
        ">#### matplotlib 라이브러리로 그래프 그리기\n",
        ">이번에 소개할 내용은 'matp;otlib 라이브러리로 그래프를 그리는 방법'입니다. 아래에 정리한 과정을 잘 읽어보면 블록을 조립하는 과정와 비슷하다는 것을 알 수 있을 것입니다.\n",
        ">> ① 전체 그래프가 위치할 기본 틀을 만듭니다.\n",
        ">>\n",
        ">> ② 그래프를 그려 넣을 그래프 격자를 만듭니다.\n",
        ">>\n",
        ">> ③ 그런 다음 격자에 그래프를 하나씩 추가합니다. 격자에 그래프가 추가되는 순서는 왼쪽에서 오른쪽 방향입니다.\n",
        ">>\n",
        ">> ④ 만약 격자의 첫 번째 행이 꽉차면 두 번째 행에 그래프를 그려 넣습니다.\n",
        ">\n",
        ">즉, 이후 실습에서 핸스콤 데이터 집합으로 그리게 될 그래프의 격자 크기는 4이고 세 번째 그래프의 경우 2행 1열위치에 그려집니다. 그러면 바로 그래프를 그려 보겠습니다."
      ]
    },
    {
      "cell_type": "markdown",
      "metadata": {
        "id": "DIyR58fBW6Is",
        "colab_type": "text"
      },
      "source": [
        "### (1) 한번에 4개의 그래프 그리기"
      ]
    },
    {
      "cell_type": "markdown",
      "metadata": {
        "id": "3-vAyWyEYeMD",
        "colab_type": "text"
      },
      "source": [
        "#### _1._\n",
        ">앤스콤 데이터프레임의 dataset 열의 값이 Ⅰ, Ⅱ, Ⅲ, Ⅳ인 것을 불린 추출하여 dataset_1, 2, 3, 4에 저장합니다. (dataset_1은 앞에서 추출 했습니다.)"
      ]
    },
    {
      "cell_type": "code",
      "metadata": {
        "id": "_z7aHkpWY9Sc",
        "colab_type": "code",
        "colab": {}
      },
      "source": [
        "dataset_2 = anscombe[anscombe['dataset'] == 'II']\n",
        "dataset_3 = anscombe[anscombe['dataset'] == 'III']\n",
        "dataset_4 = anscombe[anscombe['dataset'] == 'IV']"
      ],
      "execution_count": 0,
      "outputs": []
    },
    {
      "cell_type": "markdown",
      "metadata": {
        "id": "f9iHIjrBZgRe",
        "colab_type": "text"
      },
      "source": [
        "#### _2._\n",
        ">먼저 그래프 격자가 위치할 기본 틀을 만듭니다."
      ]
    },
    {
      "cell_type": "code",
      "metadata": {
        "id": "FJQkMCZ-ZmHA",
        "colab_type": "code",
        "outputId": "67482b0f-81dd-4f8e-ec2b-bb2a2edfd90e",
        "colab": {
          "base_uri": "https://localhost:8080/",
          "height": 35
        }
      },
      "source": [
        "fig  = plt.figure()"
      ],
      "execution_count": 0,
      "outputs": [
        {
          "output_type": "display_data",
          "data": {
            "text/plain": [
              "<Figure size 432x288 with 0 Axes>"
            ]
          },
          "metadata": {
            "tags": []
          }
        }
      ]
    },
    {
      "cell_type": "markdown",
      "metadata": {
        "id": "5xO0wSl7Z6kb",
        "colab_type": "text"
      },
      "source": [
        "#### _3._\n",
        ">그런 다음 add_subplot 메서드로 그래프 격자를 그립니다. 기본 틀(fig)에 격자를 추가한다는 기분으로 add_subplot 메서드를 사용하면 됩니다. add_subplot의 첫 번째 인자에는 그래프 기본 틀의 행 크기를, 두 번째 인자에는 그래프 기본 틀의 열 크기를 지정합니다."
      ]
    },
    {
      "cell_type": "code",
      "metadata": {
        "id": "412wTATpabeU",
        "colab_type": "code",
        "outputId": "9b72e9c7-3dbd-4c2e-9d5d-51b8ba086f75",
        "colab": {
          "base_uri": "https://localhost:8080/",
          "height": 269
        }
      },
      "source": [
        "fig  = plt.figure()                  # fig = plt.figure() 를 다른 셀에 쓸 경우 그래프가 나타나지 않을 수 도 있습니다.\n",
        "axes1 = fig.add_subplot(2, 2, 1)\n",
        "axes2 = fig.add_subplot(2, 2, 2)\n",
        "axes3 = fig.add_subplot(2, 2, 3)\n",
        "axes4 = fig.add_subplot(2, 2, 4)"
      ],
      "execution_count": 0,
      "outputs": [
        {
          "output_type": "display_data",
          "data": {
            "image/png": "[encoded data removed]",
            "text/plain": [
              "<Figure size 432x288 with 4 Axes>"
            ]
          },
          "metadata": {
            "tags": []
          }
        }
      ]
    },
    {
      "cell_type": "markdown",
      "metadata": {
        "id": "D_CQ1BmcbNap",
        "colab_type": "text"
      },
      "source": [
        "#### _4._\n",
        ">이제 plot 메서드에 데이터를 전달하여 그래프를 그리면 됩니다. 이번에는 점으로 그래프를 표현했습니다. 그래프를 확인하려면 fig를 반드시 입력해야 합니다.\n",
        ">\n",
        ">참고 : 점의 색상은 매 실행시 마다 다를 수 있습니다."
      ]
    },
    {
      "cell_type": "code",
      "metadata": {
        "id": "_X9K2X0obg0w",
        "colab_type": "code",
        "outputId": "d4ae216e-7f8e-4bdf-e4b4-930014656ba9",
        "colab": {
          "base_uri": "https://localhost:8080/",
          "height": 265
        }
      },
      "source": [
        "axes1.plot(dataset_1['x'], dataset_1['y'], 'o')\n",
        "axes2.plot(dataset_2['x'], dataset_2['y'], 'o')\n",
        "axes3.plot(dataset_3['x'], dataset_3['y'], 'o')\n",
        "axes4.plot(dataset_4['x'], dataset_4['y'], 'o')\n",
        "fig"
      ],
      "execution_count": 0,
      "outputs": [
        {
          "output_type": "execute_result",
          "data": {
            "image/png": "[encoded data removed]",
            "text/plain": [
              "<Figure size 432x288 with 4 Axes>"
            ]
          },
          "metadata": {
            "tags": []
          },
          "execution_count": 11
        }
      ]
    },
    {
      "cell_type": "markdown",
      "metadata": {
        "id": "qPs8f0l-dTqw",
        "colab_type": "text"
      },
      "source": [
        "#### _5._\n",
        ">각각의 스래프를 쉽게 구분할 수 있도록 그래프 격자에 제목을 추가해 볼까요? set_title 메서드로 그래프 이름을 전달하면 그래프 격자에 제목이 추가됩니다."
      ]
    },
    {
      "cell_type": "code",
      "metadata": {
        "id": "yCPjglAgdiMf",
        "colab_type": "code",
        "outputId": "9e1a5d51-baf7-4ae0-f371-2ce51d2aa1e4",
        "colab": {
          "base_uri": "https://localhost:8080/",
          "height": 281
        }
      },
      "source": [
        "axes1.set_title('dataset_1')\n",
        "axes2.set_title('dataset_2')\n",
        "axes3.set_title('dataset_3')\n",
        "axes4.set_title('dataset_4')\n",
        "fig"
      ],
      "execution_count": 0,
      "outputs": [
        {
          "output_type": "execute_result",
          "data": {
            "image/png": "[encoded data removed]",
            "text/plain": [
              "<Figure size 432x288 with 4 Axes>"
            ]
          },
          "metadata": {
            "tags": []
          },
          "execution_count": 12
        }
      ]
    },
    {
      "cell_type": "markdown",
      "metadata": {
        "id": "2NZ9KS1_eEFU",
        "colab_type": "text"
      },
      "source": [
        "#### _6._\n",
        ">기본 틀(fig)에도 제목을 추가해 볼까요? 기본 틀에 제목을 추가하려면 suptitle 메서드를 사용하면 됩니다."
      ]
    },
    {
      "cell_type": "code",
      "metadata": {
        "id": "g4vmH386e6DQ",
        "colab_type": "code",
        "outputId": "71a6f795-bcb5-4783-c557-03a02d30643d",
        "colab": {
          "base_uri": "https://localhost:8080/",
          "height": 294
        }
      },
      "source": [
        "fig.suptitle('Anscombe Data')\n",
        "fig"
      ],
      "execution_count": 0,
      "outputs": [
        {
          "output_type": "execute_result",
          "data": {
            "image/png": "[encoded data removed]",
            "text/plain": [
              "<Figure size 432x288 with 4 Axes>"
            ]
          },
          "metadata": {
            "tags": []
          },
          "execution_count": 13
        }
      ]
    },
    {
      "cell_type": "markdown",
      "metadata": {
        "id": "RUiLZ2qufZOc",
        "colab_type": "text"
      },
      "source": [
        "#### _7._\n",
        ">그런데 [ 과정 5, 6 ]의 그래프를 보면 각 그래프의 이름과 숫자가 겹쳐 보입니다. 이런 경우에는 tight_layout 메서드를 호출하여 각 그래프의 레이아웃을 조절할 수 있습니다."
      ]
    },
    {
      "cell_type": "code",
      "metadata": {
        "id": "Vxw5dh9_ftdl",
        "colab_type": "code",
        "outputId": "5715695d-225e-4e71-b5f0-e473e45bb246",
        "colab": {
          "base_uri": "https://localhost:8080/",
          "height": 302
        }
      },
      "source": [
        "fig.tight_layout()\n",
        "fig"
      ],
      "execution_count": 0,
      "outputs": [
        {
          "output_type": "execute_result",
          "data": {
            "image/png": "[encoded data removed]",
            "text/plain": [
              "<Figure size 432x288 with 4 Axes>"
            ]
          },
          "metadata": {
            "tags": []
          },
          "execution_count": 14
        }
      ]
    },
    {
      "cell_type": "markdown",
      "metadata": {
        "id": "-y4NdAq5gnP8",
        "colab_type": "text"
      },
      "source": [
        "> 자 어떤가요? 편균, 분산, 상관관계, 회귀선의 통계 수치가 같아도 그래프의 형태는 다를 수 있습니다. 앤스콤 4분할 그래프는 데이터 분석 시 수치에만 의존하면 잘못된 판단을 할 수 있다는 것을 알려주는 좋은 예시입니다."
      ]
    },
    {
      "cell_type": "markdown",
      "metadata": {
        "id": "rUlVFHp7hH2j",
        "colab_type": "text"
      },
      "source": [
        "# 04-2 matolitlib 라이브러리\n",
        "> [ 04-1 ]에서 앤스콤 4분할 그래프를 그릴 때 제목을 추가하기 위해 set_title 메서드를 사용했습니다. 이밖에도 matplotlib 라이브러리에는 그래프를 그리기 위한 다양한 메서드가 준비되어 있습니다. 지금부터 matplotlib 라이브러리에는 어떤 메서드가 있는지 실습을 통해 하나씩 알아보겠습니다. 더불어 고급 그래프 라이브러리인 seaborn 라이브러리도 함께 알아보겠습니다."
      ]
    },
    {
      "cell_type": "markdown",
      "metadata": {
        "id": "AzkT2QNOhtoI",
        "colab_type": "text"
      },
      "source": [
        "## [1] 기초 그래프 그리기\n",
        "> seaborn 라이브러리에는 tips라는 데이터 집합이 있습니다. tips 데이터 집합은 어떤 식당에서 팁을 지불한 손님의 정보를 모아둔 것입니다. 이번 실습에서는 tips 데이터 집합을 사용해 다양한 그래프를 그려보겠습니다. 그래프를 이해하는 데 필요한 개념은 그래프를 그리기 전에 설명하겠습니다."
      ]
    },
    {
      "cell_type": "markdown",
      "metadata": {
        "id": "H4w7EcdtiIKC",
        "colab_type": "text"
      },
      "source": [
        "### (1) 기초그래프 그리기 - 히스토그램, 산점도 그래프 , 박스 그래프"
      ]
    },
    {
      "cell_type": "markdown",
      "metadata": {
        "id": "ks8qU8C8iPg-",
        "colab_type": "text"
      },
      "source": [
        "#### _1._\n",
        "> tips 데이터 집합을 불러와 변수 tips에 저장합니다. tips 데이터프레임은 지불 금액, 팁, 성별, 흡연 유무, 요일, 시간, 전체 인원 정보를 담고 있습니다."
      ]
    },
    {
      "cell_type": "code",
      "metadata": {
        "id": "nbggQ5Q7igpG",
        "colab_type": "code",
        "outputId": "1b20576d-0c0e-4985-ea60-f817219355e4",
        "colab": {
          "base_uri": "https://localhost:8080/",
          "height": 503
        }
      },
      "source": [
        "tips = sns.load_dataset('tips')\n",
        "print(tips.sample(10).sort_index())\n",
        "print('-'*60)\n",
        "print(type(tips))\n",
        "print('-'*60)\n",
        "print(tips.info())"
      ],
      "execution_count": 0,
      "outputs": [
        {
          "output_type": "stream",
          "text": [
            "     total_bill   tip     sex smoker   day    time  size\n",
            "32        15.06  3.00  Female     No   Sat  Dinner     2\n",
            "45        18.29  3.00    Male     No   Sun  Dinner     2\n",
            "50        12.54  2.50    Male     No   Sun  Dinner     2\n",
            "64        17.59  2.64    Male     No   Sat  Dinner     3\n",
            "110       14.00  3.00    Male     No   Sat  Dinner     2\n",
            "111        7.25  1.00  Female     No   Sat  Dinner     1\n",
            "126        8.52  1.48    Male     No  Thur   Lunch     2\n",
            "166       20.76  2.24    Male     No   Sun  Dinner     2\n",
            "189       23.10  4.00    Male    Yes   Sun  Dinner     3\n",
            "237       32.83  1.17    Male    Yes   Sat  Dinner     2\n",
            "------------------------------------------------------------\n",
            "<class 'pandas.core.frame.DataFrame'>\n",
            "------------------------------------------------------------\n",
            "<class 'pandas.core.frame.DataFrame'>\n",
            "RangeIndex: 244 entries, 0 to 243\n",
            "Data columns (total 7 columns):\n",
            "total_bill    244 non-null float64\n",
            "tip           244 non-null float64\n",
            "sex           244 non-null category\n",
            "smoker        244 non-null category\n",
            "day           244 non-null category\n",
            "time          244 non-null category\n",
            "size          244 non-null int64\n",
            "dtypes: category(4), float64(2), int64(1)\n",
            "memory usage: 7.3 KB\n",
            "None\n"
          ],
          "name": "stdout"
        }
      ]
    },
    {
      "cell_type": "markdown",
      "metadata": {
        "id": "kjWQQ55fjqy6",
        "colab_type": "text"
      },
      "source": [
        "#### _2._ 히스토그램\n",
        ">히스토그램은 데이터프레임의 열 데이터 분포와 빈도를 살펴보는 용도로 자주 사용하는 그래프입니다. 이때 데이터프레임의 total_bill, tip 등의 열을 변수라고 부르기도 합니다. 그리고 변수를 하나만 사용해서 그린 그래프를 '일변량 그래프'라고 부릅니다."
      ]
    },
    {
      "cell_type": "markdown",
      "metadata": {
        "id": "no7yoEclk0i1",
        "colab_type": "text"
      },
      "source": [
        "#### _3._\n",
        ">기본 틀(fig)을 마련하고 그래프 격자(axes1)를 구성하는 것까지는 앞에서 진행한 실습과 동일합니다."
      ]
    },
    {
      "cell_type": "code",
      "metadata": {
        "id": "QFCKRRtuk_PM",
        "colab_type": "code",
        "outputId": "93509751-f78c-4e94-f737-47f0be5a3e71",
        "colab": {
          "base_uri": "https://localhost:8080/",
          "height": 269
        }
      },
      "source": [
        "fig = plt.figure()\n",
        "axes1 = fig.add_subplot(1, 1, 1)"
      ],
      "execution_count": 0,
      "outputs": [
        {
          "output_type": "display_data",
          "data": {
            "image/png": "[encoded data removed]",
            "text/plain": [
              "<Figure size 432x288 with 1 Axes>"
            ]
          },
          "metadata": {
            "tags": []
          }
        }
      ]
    },
    {
      "cell_type": "markdown",
      "metadata": {
        "id": "H1MJXWbew9Vs",
        "colab_type": "text"
      },
      "source": [
        "#### _4._\n",
        ">hist 메서드에 total_bill 열을 전달하면 히스토그램이 만들어집니다. 이때 x축의 간격은 bins 인잣값으로 조정할 수 있습니다. bins 인잣값을 10으로 지정하면 x축의 간격을 10으로 조정할 수 있습니다. 나머지는 그래프의 제목과 x, y축의 제목을 추가하는 코드립니다."
      ]
    },
    {
      "cell_type": "code",
      "metadata": {
        "id": "b73ELvEAxaUV",
        "colab_type": "code",
        "outputId": "29472ad2-8c15-4c4a-8ffb-2a2ec45a934d",
        "colab": {
          "base_uri": "https://localhost:8080/",
          "height": 295
        }
      },
      "source": [
        "axes1.hist(tips['total_bill'], bins = 10)\n",
        "axes1.set_title('Histogram of Total Bill')\n",
        "axes1.set_xlabel('Frequwncy')\n",
        "axes1.set_ylabel('Total bill')\n",
        "fig"
      ],
      "execution_count": 0,
      "outputs": [
        {
          "output_type": "execute_result",
          "data": {
            "image/png": "[encoded data removed]",
            "text/plain": [
              "<Figure size 432x288 with 1 Axes>"
            ]
          },
          "metadata": {
            "tags": []
          },
          "execution_count": 17
        }
      ]
    },
    {
      "cell_type": "markdown",
      "metadata": {
        "id": "vhe9npZt3nHq",
        "colab_type": "text"
      },
      "source": [
        "#### _5._ 산점도 그래프\n",
        ">산점도 그래프는 변수 2개를 사용해서 만드는 그래프이며 변수 2개를 사용하기때문에 통계용어로 '이변량 그래프'라고 부릅니다. 다음은 total_bill 열에 따른 tips 열의 분포를 나타낸 산점도 그래프입니다."
      ]
    },
    {
      "cell_type": "markdown",
      "metadata": {
        "id": "Iwb0y7lC4WxB",
        "colab_type": "text"
      },
      "source": [
        "#### _6._\n",
        ">기본 틀과 격자를 만들고 scatter 메서드에 total_bill, tips 열을 전달하면 산점도 그래프가 만들어집니다.\n",
        ">\n",
        "> 참고 : 히스토그램과 같은 방법으로 그래프 제목과 x, y축의 이름을 추가했습니다."
      ]
    },
    {
      "cell_type": "code",
      "metadata": {
        "id": "dZfJbbLv45do",
        "colab_type": "code",
        "outputId": "735c0251-5336-486a-be36-d1294c635e46",
        "colab": {
          "base_uri": "https://localhost:8080/",
          "height": 313
        }
      },
      "source": [
        "scatter_plot = plt.figure()\n",
        "axes1 = scatter_plot.add_subplot(1, 1, 1)\n",
        "axes1.scatter(tips['total_bill'], tips['tip'])\n",
        "axes1.set_title('Sctterplot of Total Bill vs Tip')\n",
        "axes1.set_xlabel('Total Bill')\n",
        "axes1.set_ylabel('Tip')"
      ],
      "execution_count": 0,
      "outputs": [
        {
          "output_type": "execute_result",
          "data": {
            "text/plain": [
              "Text(0, 0.5, 'Tip')"
            ]
          },
          "metadata": {
            "tags": []
          },
          "execution_count": 18
        },
        {
          "output_type": "display_data",
          "data": {
            "image/png": "[encoded data removed]",
            "text/plain": [
              "<Figure size 432x288 with 1 Axes>"
            ]
          },
          "metadata": {
            "tags": []
          }
        }
      ]
    },
    {
      "cell_type": "markdown",
      "metadata": {
        "id": "8knCO-O89N_a",
        "colab_type": "text"
      },
      "source": [
        "#### _7._ 박스 그래프\n",
        ">박스 그래프는 이산형 변수와 연속형 변수를 함께 사용하는 그래프입니다. 이산형 변수란 Female, Male과 같이 명확하게 구분되는 값을 의미하고, 연속형 변수란 Tip과 같이 병확하게 셀 수 없는 볌위의 값을 의미합니다."
      ]
    },
    {
      "cell_type": "markdown",
      "metadata": {
        "id": "J3nE-jti9nUT",
        "colab_type": "text"
      },
      "source": [
        "#### _8._\n",
        ">boxplot 메서드의 첫 번째 인자로  전달하는 값이 조금은 복잡해 보일 수 있습니다. tips 데이터프레임에서 성별이 Female인 데이터와 Male인 데이터에서 tip 열 데이터만 추출하여 리스트에 담아 전달한 것입니다. 두 번째 인자에는 labels 인잣값으로 성별을 구분하기 위한 이름을 추가합니다."
      ]
    },
    {
      "cell_type": "code",
      "metadata": {
        "id": "0obuI20O-jGZ",
        "colab_type": "code",
        "outputId": "9c0626cd-fb45-414c-b0e9-c0c7c558ae89",
        "colab": {
          "base_uri": "https://localhost:8080/",
          "height": 313
        }
      },
      "source": [
        "boxplot = plt.figure()\n",
        "axes1 = boxplot.add_subplot(1, 1, 1)\n",
        "axes1.boxplot([tips[tips['sex'] == 'Female']['tip'],\n",
        "              tips[tips['sex'] =='Male']['tip']],\n",
        "              labels=['Female', 'Male'])\n",
        "axes1.set_title('Boxplot of Tips by Sex')\n",
        "axes1.set_xlabel('Sex')\n",
        "axes1.set_ylabel('Tip')"
      ],
      "execution_count": 0,
      "outputs": [
        {
          "output_type": "execute_result",
          "data": {
            "text/plain": [
              "Text(0, 0.5, 'Tip')"
            ]
          },
          "metadata": {
            "tags": []
          },
          "execution_count": 19
        },
        {
          "output_type": "display_data",
          "data": {
            "image/png": "[encoded data removed]",
            "text/plain": [
              "<Figure size 432x288 with 1 Axes>"
            ]
          },
          "metadata": {
            "tags": []
          }
        }
      ]
    },
    {
      "cell_type": "markdown",
      "metadata": {
        "id": "FovRCeHCH6cb",
        "colab_type": "text"
      },
      "source": [
        "## [2] 다변량 그래프 그리기\n",
        "> 앞에서 2개의 변수를 사용한 이변량 그래프라고 했습니다. 그러면 3개 이상의 변수를 사용한 그래프를 다변량 그래프라고 합니다. \n",
        "> ### 다변량 그래프가 필요한 이유\n",
        ">> 앞에서는 지불금액(total_bill)과 팁(tip)만을 사용하여 산점도를 그렸습니다. 만약 여기에 성별을 추가하여 산점도 그래프를 표현할 때는 점의 색상을 다르게 하면 됩니다.. 만약 식사비용을 추가한다면 점의 크기를 다르게하는 방법으로 산점도 그래프를 표현할 수 있습니다. 이렇게 3개 이상의 변수를 사용하는 다변량 그래프는 적재 적소에 맞는 그래프 요소를 추가하여 그래프를 표현해야 했습니다.\n",
        ">\n",
        ">참고 : 점의 크기를 다르게 하는 대신 점의 투명도를 조절하는 방법도 있습니다."
      ]
    },
    {
      "cell_type": "markdown",
      "metadata": {
        "id": "K1V0GGS-Jnde",
        "colab_type": "text"
      },
      "source": [
        "### (1) 다변량 데이터로 다변량 그래프 그리기 - 산점도 그래프"
      ]
    },
    {
      "cell_type": "markdown",
      "metadata": {
        "id": "OiFuUJlKKHbF",
        "colab_type": "text"
      },
      "source": [
        "#### _1._\n",
        ">앞에서 실습한 산점도 그래프(scatter_plot)에 성별을 새 변수로 추가해 보겠습니다. 성별은 산점도 그래프에서 색상으로 구분하면 적당합니다. 하지만 Female, Male과 같은 문자열은 산점도 그래프의 색상을 지정하는 값으로 사용할 수 없습니다. 0, 1과 같은 정수르로 치환하는 함수를 만들어야 합니다. 다음은 여성(Female)인 경우 0을반환하고, 남성(Male)인 경우 1을 반환하는 함수입니다."
      ]
    },
    {
      "cell_type": "code",
      "metadata": {
        "id": "QbtCqGwpGc58",
        "colab_type": "code",
        "colab": {}
      },
      "source": [
        "def recode_sex(sex):\n",
        "    if sex == 'Female':\n",
        "        return 0\n",
        "    else:\n",
        "        return 1"
      ],
      "execution_count": 0,
      "outputs": []
    },
    {
      "cell_type": "markdown",
      "metadata": {
        "id": "vIB3GEJjHgGi",
        "colab_type": "text"
      },
      "source": [
        "#### _2._\n",
        "> 이제 recode_sex 메서드가 반환한 값(0, 1)을 데이터프레임에 추가하면 됩니다. 다음은  recorde_sex 함수가 반환한 값(0, 1)을 데이터프레임에 sex_color 열을 새로 생성하여 추가한 것입니다. 이때 sex 열에 recorde_sex 함수를 브로드캐스팅하기 위해 apply 메서드를 사용했습니다."
      ]
    },
    {
      "cell_type": "code",
      "metadata": {
        "id": "4sNBs6pgHNx7",
        "colab_type": "code",
        "colab": {}
      },
      "source": [
        "tips['sex_color'] = tips['sex'].apply(recode_sex)"
      ],
      "execution_count": 0,
      "outputs": []
    },
    {
      "cell_type": "markdown",
      "metadata": {
        "id": "c5oBHIIZI8Iu",
        "colab_type": "text"
      },
      "source": [
        "#### _3._\n",
        "> 그래프를 그리는 김에 테이블당 인원 수(size)도 산점도 그래프에 추가해 불러오겠습니다. 테이블당 인원 수는 점의 크기로 표현하면 적당합니다. 다음은 scatter 메서드에 s, c 인잣값으로 테이블당 인원 수와 성별의 치환값을 전당한 것입니다.\n",
        ">\n",
        ">참고 : s는 점의 크기(size)를, c는 색상(color)을 의미합니다.\n",
        ">\n",
        ">참괴 : alpha 인잣값을 0.5로 지정하여 점의 투명도를 보기 좋게 조절했습니다."
      ]
    },
    {
      "cell_type": "code",
      "metadata": {
        "id": "jOUMPQN6JuPU",
        "colab_type": "code",
        "outputId": "2cd71e2c-dc20-4e21-da12-2184b07c297b",
        "colab": {
          "base_uri": "https://localhost:8080/",
          "height": 313
        }
      },
      "source": [
        "scatter_plot = plt.figure()\n",
        "axes1 = scatter_plot.add_subplot(1, 1, 1)\n",
        "axes1.scatter(\n",
        "    x=tips['total_bill'],\n",
        "    y=tips['tip'],\n",
        "    s=tips['size'] * 10,\n",
        "    c=tips['sex_color'],\n",
        "    alpha=0.5)\n",
        "axes1.set_title('Total Bill vs Tip Colored by Sex and Size by Size')\n",
        "axes1.set_xlabel('Total Bill')\n",
        "axes1.set_ylabel('Tip')"
      ],
      "execution_count": 0,
      "outputs": [
        {
          "output_type": "execute_result",
          "data": {
            "text/plain": [
              "Text(0, 0.5, 'Tip')"
            ]
          },
          "metadata": {
            "tags": []
          },
          "execution_count": 23
        },
        {
          "output_type": "display_data",
          "data": {
            "image/png": "[encoded data removed]",
            "text/plain": [
              "<Figure size 432x288 with 1 Axes>"
            ]
          },
          "metadata": {
            "tags": []
          }
        }
      ]
    },
    {
      "cell_type": "markdown",
      "metadata": {
        "id": "r_MlINc2LPlF",
        "colab_type": "text"
      },
      "source": [
        "# 04-3 seaborn 라이브러리\n"
      ]
    },
    {
      "cell_type": "markdown",
      "metadata": {
        "id": "qhnN1oCNMMpj",
        "colab_type": "text"
      },
      "source": [
        "## [1]"
      ]
    },
    {
      "cell_type": "markdown",
      "metadata": {
        "id": "FOcVJIEwMBmy",
        "colab_type": "text"
      },
      "source": [
        "### (1) 단변량 그래프 - 히스토그램"
      ]
    },
    {
      "cell_type": "code",
      "metadata": {
        "id": "-tl2YFEFLePd",
        "colab_type": "code",
        "colab": {}
      },
      "source": [
        "import seaborn as sns\n",
        "tips = sns.load_dataset('tips')"
      ],
      "execution_count": 0,
      "outputs": []
    },
    {
      "cell_type": "code",
      "metadata": {
        "id": "-wKNCnLfLpj2",
        "colab_type": "code",
        "outputId": "60450f8b-b40c-4d70-994e-3072ab300cf3",
        "colab": {
          "base_uri": "https://localhost:8080/",
          "height": 314
        }
      },
      "source": [
        "ax = plt.subplots()\n",
        "ax = sns.distplot(tips['total_bill'])\n",
        "ax.set_title('Total Bill Histogram with Density Plot')"
      ],
      "execution_count": 0,
      "outputs": [
        {
          "output_type": "execute_result",
          "data": {
            "text/plain": [
              "Text(0.5, 1.0, 'Total Bill Histogram with Density Plot')"
            ]
          },
          "metadata": {
            "tags": []
          },
          "execution_count": 26
        },
        {
          "output_type": "display_data",
          "data": {
            "image/png": "[encoded data removed]",
            "text/plain": [
              "<Figure size 432x288 with 1 Axes>"
            ]
          },
          "metadata": {
            "tags": []
          }
        }
      ]
    },
    {
      "cell_type": "code",
      "metadata": {
        "id": "bCm1FBRdMP6L",
        "colab_type": "code",
        "colab": {}
      },
      "source": [
        ""
      ],
      "execution_count": 0,
      "outputs": []
    }
  ]
}