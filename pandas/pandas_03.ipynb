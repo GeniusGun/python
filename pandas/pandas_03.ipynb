{
  "nbformat": 4,
  "nbformat_minor": 0,
  "metadata": {
    "colab": {
      "name": "pandas_03.ipynb",
      "provenance": [],
      "authorship_tag": "ABX9TyNaTBCcePRlAL8b7tyUnmjg",
      "include_colab_link": true
    },
    "kernelspec": {
      "name": "python3",
      "display_name": "Python 3"
    }
  },
  "cells": [
    {
      "cell_type": "markdown",
      "metadata": {
        "id": "view-in-github",
        "colab_type": "text"
      },
      "source": [
        "<a href=\"https://colab.research.google.com/github/GeniusGun/python/blob/master/pandas/pandas_03.ipynb\" target=\"_parent\"><img src=\"https://colab.research.google.com/assets/colab-badge.svg\" alt=\"Open In Colab\"/></a>"
      ]
    },
    {
      "cell_type": "code",
      "metadata": {
        "id": "jjIH4kGE6igs",
        "colab_type": "code",
        "colab": {
          "base_uri": "https://localhost:8080/",
          "height": 127
        },
        "outputId": "9f382265-c339-41ce-a6f3-62f293b2032b"
      },
      "source": [
        "from google.colab import drive\n",
        "drive.mount('/content/drive')"
      ],
      "execution_count": 1,
      "outputs": [
        {
          "output_type": "stream",
          "text": [
            "Go to this URL in a browser: https://accounts.google.com/o/oauth2/auth?client_id=947318989803-6bn6qk8qdgf4n4g3pfee6491hc0brc4i.apps.googleusercontent.com&redirect_uri=urn%3aietf%3awg%3aoauth%3a2.0%3aoob&response_type=code&scope=email%20https%3a%2f%2fwww.googleapis.com%2fauth%2fdocs.test%20https%3a%2f%2fwww.googleapis.com%2fauth%2fdrive%20https%3a%2f%2fwww.googleapis.com%2fauth%2fdrive.photos.readonly%20https%3a%2f%2fwww.googleapis.com%2fauth%2fpeopleapi.readonly\n",
            "\n",
            "Enter your authorization code:\n",
            "··········\n",
            "Mounted at /content/drive\n"
          ],
          "name": "stdout"
        }
      ]
    },
    {
      "cell_type": "markdown",
      "metadata": {
        "id": "aW-0kvfM7IpK",
        "colab_type": "text"
      },
      "source": [
        "# 03-1 나만의 데이터 만들기"
      ]
    },
    {
      "cell_type": "markdown",
      "metadata": {
        "id": "WHNCC2ZM9wSK",
        "colab_type": "text"
      },
      "source": [
        "## [1]"
      ]
    },
    {
      "cell_type": "markdown",
      "metadata": {
        "id": "2xJn8IxB7PDV",
        "colab_type": "text"
      },
      "source": [
        "### (1) 시리즈와 데이터프레임 직접 만들기"
      ]
    },
    {
      "cell_type": "markdown",
      "metadata": {
        "id": "_KYNM_p28B0m",
        "colab_type": "text"
      },
      "source": [
        "#### _1._\n",
        ">판다스의 Series 메서드에 리스트를 전달하여 시리즈를 생성합니다."
      ]
    },
    {
      "cell_type": "code",
      "metadata": {
        "id": "GOABRcRU6d3h",
        "colab_type": "code",
        "colab": {
          "base_uri": "https://localhost:8080/",
          "height": 71
        },
        "outputId": "02e48305-7148-4b2d-a236-89c5d4b7b851"
      },
      "source": [
        "import pandas as pd\n",
        "s = pd.Series(['banana', 42])\n",
        "print(s)"
      ],
      "execution_count": 4,
      "outputs": [
        {
          "output_type": "stream",
          "text": [
            "0    banana\n",
            "1        42\n",
            "dtype: object\n"
          ],
          "name": "stdout"
        }
      ]
    },
    {
      "cell_type": "markdown",
      "metadata": {
        "id": "-ZZfBY918juc",
        "colab_type": "text"
      },
      "source": [
        "#### _2._\n",
        ">[ 02 장 ]에서 인덱스는 보통 0부터 시작한다고 설명했던 것을 기억하나요? 하지만 시리즈를 생성할 때 문자열을 인덱스로 지정할 수도 있습니다. 문자열을 인덱스로 지정하려면 Series 메서드의 index 인자를 통해 인덱스로 사용하고자 하는 문자열을 리스트에 담아 전달하면 됩니다."
      ]
    },
    {
      "cell_type": "code",
      "metadata": {
        "id": "3zZ32n-49J9f",
        "colab_type": "code",
        "colab": {
          "base_uri": "https://localhost:8080/",
          "height": 143
        },
        "outputId": "7bdab899-6921-4a91-b5d9-7185c97de6af"
      },
      "source": [
        "s = pd.Series(['Wes McKinny', 'Creator of Pandas'])\n",
        "print(s)\n",
        "print('-'*30)\n",
        "\n",
        "s = pd.Series(['Wes McKinny', 'Creator of Pandas'], index=['Person', 'Who'])\n",
        "print(s)"
      ],
      "execution_count": 9,
      "outputs": [
        {
          "output_type": "stream",
          "text": [
            "0          Wes McKinny\n",
            "1    Creator of Pandas\n",
            "dtype: object\n",
            "------------------------------\n",
            "Person          Wes McKinny\n",
            "Who       Creator of Pandas\n",
            "dtype: object\n"
          ],
          "name": "stdout"
        }
      ]
    },
    {
      "cell_type": "markdown",
      "metadata": {
        "id": "hhdpCtxB9-lO",
        "colab_type": "text"
      },
      "source": [
        "#### _3._ 데이터프레임 만들기\n",
        "> 데이터프레임을 만들기 위해서는 딕셔너리를 DataFrame 클래스에 전달해야 합니다."
      ]
    },
    {
      "cell_type": "code",
      "metadata": {
        "id": "eEFUWo0B-JwE",
        "colab_type": "code",
        "colab": {
          "base_uri": "https://localhost:8080/",
          "height": 71
        },
        "outputId": "4ba59f01-0bcc-45d0-a4ac-e41c0d56edd0"
      },
      "source": [
        "scientists = pd.DataFrame({\n",
        "    'Name' : ['Rosaline Franklin', 'William Gosset'],\n",
        "    'Occupation' : ['Chemist', 'Statistician'],\n",
        "    'Born' : ['1920-07-25', '1876-06-13'],\n",
        "    'Died' : ['1958-04-16', '1937-10-16'],\n",
        "    'Age' : [37, 61]\n",
        "})\n",
        "print(scientists)"
      ],
      "execution_count": 12,
      "outputs": [
        {
          "output_type": "stream",
          "text": [
            "                Name    Occupation        Born        Died  Age\n",
            "0  Rosaline Franklin       Chemist  1920-07-25  1958-04-16   37\n",
            "1     William Gosset  Statistician  1876-06-13  1937-10-16   61\n"
          ],
          "name": "stdout"
        }
      ]
    },
    {
      "cell_type": "markdown",
      "metadata": {
        "id": "i4sri3_X_wIb",
        "colab_type": "text"
      },
      "source": [
        "#### _4._\n",
        ">시리즈와 마찬가지로 데이터프레임도 인덱스를 따로 지정하지 않으면 인덱스를 0부터 자동으로 생성합니다. 인덱스를 따로 지정하려면 index 인자에 리스트를 전달하면 됩니다. 또 columns인자를 사용하면 데이터프레임의 열 순서를 지정할 수 있습니다. 예를 들어 데이터프레임을 만들때 Occuptaion, Born, Died, Age의 순으로 딕셔너리를 전달했어도 columns 인자에 Occuption, Born, Age, Died의 순서로 열 이름을 전달하면 생성된 데이터프레임의 열 순서는 columns에 전달한 값을 따라갑니다."
      ]
    },
    {
      "cell_type": "code",
      "metadata": {
        "id": "3u9pVOk1Ae6P",
        "colab_type": "code",
        "colab": {
          "base_uri": "https://localhost:8080/",
          "height": 71
        },
        "outputId": "25d4ef59-a434-4a52-a7f2-2ca6b17965a6"
      },
      "source": [
        "scientists = pd.DataFrame(\n",
        "    data = {'Occupation' : ['Chemist', 'Statistician'],\n",
        "            'Born' : ['1920-07-25', '1876-06-13'],\n",
        "            'Died' : ['1958-04-16', '1937-10-16'],\n",
        "            'Age' : [37, 61]},\n",
        "    index = ['Rosaline Franklin', 'William Gosset'],\n",
        "    columns = ['Occupation', 'Born', 'Age', 'Died']\n",
        ")\n",
        "\n",
        "print(scientists)"
      ],
      "execution_count": 14,
      "outputs": [
        {
          "output_type": "stream",
          "text": [
            "                     Occupation        Born  Age        Died\n",
            "Rosaline Franklin       Chemist  1920-07-25   37  1958-04-16\n",
            "William Gosset     Statistician  1876-06-13   61  1937-10-16\n"
          ],
          "name": "stdout"
        }
      ]
    },
    {
      "cell_type": "markdown",
      "metadata": {
        "id": "DRbvUurXBu_H",
        "colab_type": "text"
      },
      "source": [
        "#### _5._\n",
        ">[ 과정 1 ]에서 데이터프레임을 만들 때 딕셔너리를 전달한다고 했습니다.그런데 딕셔너리는 키(Key)와 값(Value)으로 이루어진 한 쌍의 데이터들의 순서는 보장하지 않습니다. 만약 순서가 보장된 딕셔너리를 전달하려면 OrderedDict를 사용해야 합니다. 다음과 같이 입력하면 딕셔너리의 데이터 수너를 그대로 유지하면서 데이터프레임을 만들 수 있습니다."
      ]
    },
    {
      "cell_type": "code",
      "metadata": {
        "id": "b4C4wshZCqOp",
        "colab_type": "code",
        "colab": {
          "base_uri": "https://localhost:8080/",
          "height": 71
        },
        "outputId": "35f18953-9044-4095-eba1-8c2780c31b84"
      },
      "source": [
        "from collections import OrderedDict\n",
        "\n",
        "scientists = pd.DataFrame(OrderedDict([\n",
        "                                       ('Name', ['Rosaline Franklin', 'William Gosset']),\n",
        "                                       ('Occupation', ['Chemist', 'Statistician']),\n",
        "                                       ('Born', ['1920-07-25', '1876-06-13']),\n",
        "                                       ('Died', ['1958-04-16', '1937-10-16']),\n",
        "                                       ('Age', [37, 61])\n",
        "]))\n",
        "print(scientists)"
      ],
      "execution_count": 17,
      "outputs": [
        {
          "output_type": "stream",
          "text": [
            "                Name    Occupation        Born        Died  Age\n",
            "0  Rosaline Franklin       Chemist  1920-07-25  1958-04-16   37\n",
            "1     William Gosset  Statistician  1876-06-13  1937-10-16   61\n"
          ],
          "name": "stdout"
        }
      ]
    }
  ]
}