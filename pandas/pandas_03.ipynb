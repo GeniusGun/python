{
  "nbformat": 4,
  "nbformat_minor": 0,
  "metadata": {
    "colab": {
      "name": "pandas_03.ipynb",
      "provenance": [],
      "collapsed_sections": [],
      "toc_visible": true,
      "include_colab_link": true
    },
    "kernelspec": {
      "name": "python3",
      "display_name": "Python 3"
    }
  },
  "cells": [
    {
      "cell_type": "markdown",
      "metadata": {
        "id": "view-in-github",
        "colab_type": "text"
      },
      "source": [
        "<a href=\"https://colab.research.google.com/github/GeniusGun/python/blob/master/pandas/pandas_03.ipynb\" target=\"_parent\"><img src=\"https://colab.research.google.com/assets/colab-badge.svg\" alt=\"Open In Colab\"/></a>"
      ]
    },
    {
      "cell_type": "code",
      "metadata": {
        "id": "jjIH4kGE6igs",
        "colab_type": "code",
        "outputId": "02f80b87-4f22-4cc2-ce4c-bdb6b10f184b",
        "colab": {
          "base_uri": "https://localhost:8080/",
          "height": 127
        }
      },
      "source": [
        "from google.colab import drive\n",
        "drive.mount('/content/drive')"
      ],
      "execution_count": 1,
      "outputs": [
        {
          "output_type": "stream",
          "text": [
            "Go to this URL in a browser: https://accounts.google.com/o/oauth2/auth?client_id=947318989803-6bn6qk8qdgf4n4g3pfee6491hc0brc4i.apps.googleusercontent.com&redirect_uri=urn%3aietf%3awg%3aoauth%3a2.0%3aoob&response_type=code&scope=email%20https%3a%2f%2fwww.googleapis.com%2fauth%2fdocs.test%20https%3a%2f%2fwww.googleapis.com%2fauth%2fdrive%20https%3a%2f%2fwww.googleapis.com%2fauth%2fdrive.photos.readonly%20https%3a%2f%2fwww.googleapis.com%2fauth%2fpeopleapi.readonly\n",
            "\n",
            "Enter your authorization code:\n",
            "··········\n",
            "Mounted at /content/drive\n"
          ],
          "name": "stdout"
        }
      ]
    },
    {
      "cell_type": "markdown",
      "metadata": {
        "id": "aW-0kvfM7IpK",
        "colab_type": "text"
      },
      "source": [
        "# 03-1 데이터 만들기"
      ]
    },
    {
      "cell_type": "markdown",
      "metadata": {
        "id": "WHNCC2ZM9wSK",
        "colab_type": "text"
      },
      "source": [
        "## [1] 시리즈와 데이터프레임"
      ]
    },
    {
      "cell_type": "markdown",
      "metadata": {
        "id": "2xJn8IxB7PDV",
        "colab_type": "text"
      },
      "source": [
        "### (1) 시리즈와 데이터프레임 직접 만들기"
      ]
    },
    {
      "cell_type": "markdown",
      "metadata": {
        "id": "_KYNM_p28B0m",
        "colab_type": "text"
      },
      "source": [
        " #### _1._ Serise 메서드\n",
        ">판다스의 Series 메서드에 리스트를 전달하여 시리즈를 생성합니다."
      ]
    },
    {
      "cell_type": "code",
      "metadata": {
        "id": "GOABRcRU6d3h",
        "colab_type": "code",
        "outputId": "88ddd3df-3adf-4b69-d777-5ab166e7056d",
        "colab": {
          "base_uri": "https://localhost:8080/",
          "height": 71
        }
      },
      "source": [
        "import pandas as pd\n",
        "s = pd.Series(['banana', 42])\n",
        "print(s)"
      ],
      "execution_count": 2,
      "outputs": [
        {
          "output_type": "stream",
          "text": [
            "0    banana\n",
            "1        42\n",
            "dtype: object\n"
          ],
          "name": "stdout"
        }
      ]
    },
    {
      "cell_type": "markdown",
      "metadata": {
        "id": "-ZZfBY918juc",
        "colab_type": "text"
      },
      "source": [
        " #### _2._ Serise 메서드의 index 인자\n",
        ">인덱스는 보통 0부터 시작 하지만 시리즈를 생성할 때 문자열을 인덱스로 지정할 수도 있습니다. 문자열을 인덱스로 지정하려면 Series 메서드의 index 인자를 통해 인덱스로 사용하고자 하는 문자열을 리스트에 담아 전달하면 됩니다."
      ]
    },
    {
      "cell_type": "code",
      "metadata": {
        "id": "3zZ32n-49J9f",
        "colab_type": "code",
        "outputId": "f3ca81b0-bdeb-4361-8aa2-c45ca50bfd6a",
        "colab": {
          "base_uri": "https://localhost:8080/",
          "height": 143
        }
      },
      "source": [
        "s = pd.Series(['Wes McKinny', 'Creator of Pandas'])\n",
        "print(s)\n",
        "print('-'*30)\n",
        "\n",
        "s = pd.Series(['Wes McKinny', 'Creator of Pandas'], index=['Person', 'Who'])\n",
        "print(s)"
      ],
      "execution_count": 3,
      "outputs": [
        {
          "output_type": "stream",
          "text": [
            "0          Wes McKinny\n",
            "1    Creator of Pandas\n",
            "dtype: object\n",
            "------------------------------\n",
            "Person          Wes McKinny\n",
            "Who       Creator of Pandas\n",
            "dtype: object\n"
          ],
          "name": "stdout"
        }
      ]
    },
    {
      "cell_type": "markdown",
      "metadata": {
        "id": "hhdpCtxB9-lO",
        "colab_type": "text"
      },
      "source": [
        "#### _3._ 데이터프레임 만들기\n",
        "> 데이터프레임을 만들기 위해서는 딕셔너리를 DataFrame 클래스에 전달해야 합니다."
      ]
    },
    {
      "cell_type": "code",
      "metadata": {
        "id": "eEFUWo0B-JwE",
        "colab_type": "code",
        "outputId": "1a829e46-e1fb-4730-ab47-7543cf44eca3",
        "colab": {
          "base_uri": "https://localhost:8080/",
          "height": 71
        }
      },
      "source": [
        "scientists = pd.DataFrame({\n",
        "    'Name' : ['Rosaline Franklin', 'William Gosset'],\n",
        "    'Occupation' : ['Chemist', 'Statistician'],\n",
        "    'Born' : ['1920-07-25', '1876-06-13'],\n",
        "    'Died' : ['1958-04-16', '1937-10-16'],\n",
        "    'Age' : [37, 61]\n",
        "})\n",
        "print(scientists)"
      ],
      "execution_count": 4,
      "outputs": [
        {
          "output_type": "stream",
          "text": [
            "                Name    Occupation        Born        Died  Age\n",
            "0  Rosaline Franklin       Chemist  1920-07-25  1958-04-16   37\n",
            "1     William Gosset  Statistician  1876-06-13  1937-10-16   61\n"
          ],
          "name": "stdout"
        }
      ]
    },
    {
      "cell_type": "markdown",
      "metadata": {
        "id": "i4sri3_X_wIb",
        "colab_type": "text"
      },
      "source": [
        " #### _4._ 데이터프레임의 index 인자, columns 인자\n",
        ">시리즈와 마찬가지로 데이터프레임도 인덱스를 따로 지정하지 않으면 인덱스를 0부터 자동으로 생성합니다. 인덱스를 따로 지정하려면 index 인자에 리스트를 전달하면 됩니다. 또 columns인자를 사용하면 데이터프레임의 열 순서를 지정할 수 있습니다. 예를 들어 데이터프레임을 만들때 Occuptaion, Born, Died, Age의 순으로 딕셔너리를 전달했어도 columns 인자에 Occuption, Born, Age, Died의 순서로 열 이름을 전달하면 생성된 데이터프레임의 열 순서는 columns에 전달한 값을 따라갑니다."
      ]
    },
    {
      "cell_type": "code",
      "metadata": {
        "id": "3u9pVOk1Ae6P",
        "colab_type": "code",
        "outputId": "cde6f2d1-916a-49b6-b34f-170f5f891cb7",
        "colab": {
          "base_uri": "https://localhost:8080/",
          "height": 71
        }
      },
      "source": [
        "scientists = pd.DataFrame(\n",
        "    data = {'Occupation' : ['Chemist', 'Statistician'],\n",
        "            'Born' : ['1920-07-25', '1876-06-13'],\n",
        "            'Died' : ['1958-04-16', '1937-10-16'],\n",
        "            'Age' : [37, 61]},\n",
        "    index = ['Rosaline Franklin', 'William Gosset'],\n",
        "    columns = ['Occupation', 'Born', 'Age', 'Died']\n",
        ")\n",
        "\n",
        "print(scientists)"
      ],
      "execution_count": 5,
      "outputs": [
        {
          "output_type": "stream",
          "text": [
            "                     Occupation        Born  Age        Died\n",
            "Rosaline Franklin       Chemist  1920-07-25   37  1958-04-16\n",
            "William Gosset     Statistician  1876-06-13   61  1937-10-16\n"
          ],
          "name": "stdout"
        }
      ]
    },
    {
      "cell_type": "markdown",
      "metadata": {
        "id": "DRbvUurXBu_H",
        "colab_type": "text"
      },
      "source": [
        "#### _5._ 딕셔너리(dict) - OrderedDict\n",
        ">[ 과정 1 ]에서 데이터프레임을 만들 때 딕셔너리를 전달한다고 했습니다. 그런데 딕셔너리는 키(Key)와 값(Value)으로 이루어진 한 쌍의 데이터들의 순서는 보장하지 않습니다. 만약 순서가 보장된 딕셔너리를 전달하려면 OrderedDict를 사용해야 합니다. 다음과 같이 입력하면 딕셔너리의 데이터 순서를 그대로 유지하면서 데이터프레임을 만들 수 있습니다."
      ]
    },
    {
      "cell_type": "code",
      "metadata": {
        "id": "b4C4wshZCqOp",
        "colab_type": "code",
        "outputId": "59006689-9237-40b6-e0ee-5d9203b78105",
        "colab": {
          "base_uri": "https://localhost:8080/",
          "height": 71
        }
      },
      "source": [
        "from collections import OrderedDict\n",
        "\n",
        "scientists = pd.DataFrame(OrderedDict([\n",
        "                                       ('Name', ['Rosaline Franklin', 'William Gosset']),\n",
        "                                       ('Occupation', ['Chemist', 'Statistician']),\n",
        "                                       ('Born', ['1920-07-25', '1876-06-13']),\n",
        "                                       ('Died', ['1958-04-16', '1937-10-16']),\n",
        "                                       ('Age', [37, 61])\n",
        "]))\n",
        "print(scientists)"
      ],
      "execution_count": 6,
      "outputs": [
        {
          "output_type": "stream",
          "text": [
            "                Name    Occupation        Born        Died  Age\n",
            "0  Rosaline Franklin       Chemist  1920-07-25  1958-04-16   37\n",
            "1     William Gosset  Statistician  1876-06-13  1937-10-16   61\n"
          ],
          "name": "stdout"
        }
      ]
    },
    {
      "cell_type": "markdown",
      "metadata": {
        "id": "SShSijA1x0yy",
        "colab_type": "text"
      },
      "source": [
        "# 03-2 시리즈 다루기 - 기초\n",
        ">판다스의 데이터를 구성하는 가장 기본 단위는 시리즈입니다. 이번에는 데이터프레임에서 시리즈를 선택하는 방법에 대해 알아보겠습니다."
      ]
    },
    {
      "cell_type": "markdown",
      "metadata": {
        "id": "bNLlpE_9yGua",
        "colab_type": "text"
      },
      "source": [
        "## [1] 시리즈 다루기"
      ]
    },
    {
      "cell_type": "markdown",
      "metadata": {
        "id": "c8qj77csyI0_",
        "colab_type": "text"
      },
      "source": [
        "### (1) 데이터프레임에서 시리즈 선택하기"
      ]
    },
    {
      "cell_type": "markdown",
      "metadata": {
        "id": "LEuCyXYtyNKf",
        "colab_type": "text"
      },
      "source": [
        "#### _1._ 데이터프레임 만들기\n",
        ">먼저 변수 Scientists에 데이터프레임을 준비합니다."
      ]
    },
    {
      "cell_type": "code",
      "metadata": {
        "id": "dUZp2FEGyW3O",
        "colab_type": "code",
        "outputId": "bb646a6b-4824-4f67-b1bf-fae45b8b60ef",
        "colab": {
          "base_uri": "https://localhost:8080/",
          "height": 71
        }
      },
      "source": [
        "scientists = pd.DataFrame(\n",
        "    data = {'Occupation': ['Chemist', 'Statistician'],\n",
        "            'Born' : ['1920-07-25', '1876-06-13'],\n",
        "            'Died' : ['1958-04-16', '1937-10-16'],\n",
        "            'Age' : [37, 61]},   \n",
        "    index = ['Rosaline Franklin', 'William Gosset'],\n",
        "    columns = ['Occupation', 'Born', 'Died', 'Age']\n",
        ");print(scientists)"
      ],
      "execution_count": 7,
      "outputs": [
        {
          "output_type": "stream",
          "text": [
            "                     Occupation        Born        Died  Age\n",
            "Rosaline Franklin       Chemist  1920-07-25  1958-04-16   37\n",
            "William Gosset     Statistician  1876-06-13  1937-10-16   61\n"
          ],
          "name": "stdout"
        }
      ]
    },
    {
      "cell_type": "markdown",
      "metadata": {
        "id": "fgXvoGFrznME",
        "colab_type": "text"
      },
      "source": [
        "#### _2._ 시리즈 선택하기 - loc 속성\n",
        ">데이터프레임에서 시리즈를 선택하려면 loc 속성에 인덱스(과학자 이름)를 전달하면 됩니다."
      ]
    },
    {
      "cell_type": "code",
      "metadata": {
        "id": "cBu6721xz79d",
        "colab_type": "code",
        "outputId": "018fcd95-2dc4-402a-c8f6-86764781bab0",
        "colab": {
          "base_uri": "https://localhost:8080/",
          "height": 35
        }
      },
      "source": [
        "first_row = scientists.loc['William Gosset']\n",
        "print(type(first_row))"
      ],
      "execution_count": 8,
      "outputs": [
        {
          "output_type": "stream",
          "text": [
            "<class 'pandas.core.series.Series'>\n"
          ],
          "name": "stdout"
        }
      ]
    },
    {
      "cell_type": "markdown",
      "metadata": {
        "id": "aqf73C4k0kp_",
        "colab_type": "text"
      },
      "source": [
        "#### _3._ 시리즈  자료형\n",
        ">여기서 주목해야 할 점은 데이터프레임을 만들 때 Age열에 정수형 리스트를 전달해도 시리즈(first_row)를 출력해 보면 시리즈의 자료형을 오브젝트로 인식한다는 점입니다."
      ]
    },
    {
      "cell_type": "code",
      "metadata": {
        "id": "OX-IaYdU08Gn",
        "colab_type": "code",
        "outputId": "4a99ef34-bb84-4423-8efb-3f511201684e",
        "colab": {
          "base_uri": "https://localhost:8080/",
          "height": 107
        }
      },
      "source": [
        "print(first_row)        # Age의 자료형은 무시합니다."
      ],
      "execution_count": 9,
      "outputs": [
        {
          "output_type": "stream",
          "text": [
            "Occupation    Statistician\n",
            "Born            1876-06-13\n",
            "Died            1937-10-16\n",
            "Age                     61\n",
            "Name: William Gosset, dtype: object\n"
          ],
          "name": "stdout"
        }
      ]
    },
    {
      "cell_type": "markdown",
      "metadata": {
        "id": "fVCdXWkK1HKI",
        "colab_type": "text"
      },
      "source": [
        "## [2] 시리즈 속성과 메서드 사용하기 - index, values, keys"
      ]
    },
    {
      "cell_type": "markdown",
      "metadata": {
        "id": "IxJG5OV11Pn6",
        "colab_type": "text"
      },
      "source": [
        "### (1) index, values 속성과 keys 메서드 사용하기"
      ]
    },
    {
      "cell_type": "markdown",
      "metadata": {
        "id": "7E5Yy8zE1fIJ",
        "colab_type": "text"
      },
      "source": [
        "#### _1._ index 속성 사용하기\n",
        ">index 속성에는 시리즈의 인덱스가 들어 있습니다."
      ]
    },
    {
      "cell_type": "code",
      "metadata": {
        "id": "1HTNlJ8D1v2s",
        "colab_type": "code",
        "outputId": "c97ebbb3-1714-4e11-b851-6869f608d821",
        "colab": {
          "base_uri": "https://localhost:8080/",
          "height": 35
        }
      },
      "source": [
        "print(first_row.index)"
      ],
      "execution_count": 10,
      "outputs": [
        {
          "output_type": "stream",
          "text": [
            "Index(['Occupation', 'Born', 'Died', 'Age'], dtype='object')\n"
          ],
          "name": "stdout"
        }
      ]
    },
    {
      "cell_type": "markdown",
      "metadata": {
        "id": "K-QyvuEV3FiG",
        "colab_type": "text"
      },
      "source": [
        "#### _2._ values 속성 사용하기\n",
        ">values 속성에는 시리즈의 데이터가 저장되어 있습니다."
      ]
    },
    {
      "cell_type": "code",
      "metadata": {
        "id": "_AZffRqU3B4R",
        "colab_type": "code",
        "outputId": "2de97515-c1a6-42f0-fc90-583d6812a282",
        "colab": {
          "base_uri": "https://localhost:8080/",
          "height": 35
        }
      },
      "source": [
        "print(first_row.values)"
      ],
      "execution_count": 11,
      "outputs": [
        {
          "output_type": "stream",
          "text": [
            "['Statistician' '1876-06-13' '1937-10-16' 61]\n"
          ],
          "name": "stdout"
        }
      ]
    },
    {
      "cell_type": "markdown",
      "metadata": {
        "id": "mkQWiLpk34hx",
        "colab_type": "text"
      },
      "source": [
        "#### _3._ keys 메서드 사용하기\n",
        ">keys는 속성이 아니라 메서드 입니다. keys 메서드는 index 속성과 같은 역할을 합니다. 즉 [ 과정 1 ] 의 결과와 동일한 결괏값을 얻을 수 있습니다."
      ]
    },
    {
      "cell_type": "code",
      "metadata": {
        "id": "0v4l-UTE4PZj",
        "colab_type": "code",
        "outputId": "0869911b-f322-414c-f09e-2fcf1ed67980",
        "colab": {
          "base_uri": "https://localhost:8080/",
          "height": 35
        }
      },
      "source": [
        "print(first_row.keys())"
      ],
      "execution_count": 12,
      "outputs": [
        {
          "output_type": "stream",
          "text": [
            "Index(['Occupation', 'Born', 'Died', 'Age'], dtype='object')\n"
          ],
          "name": "stdout"
        }
      ]
    },
    {
      "cell_type": "markdown",
      "metadata": {
        "id": "LdfwRk4o4h5h",
        "colab_type": "text"
      },
      "source": [
        "#### _4._ index 속성 응용하기\n",
        "> 만약 index 속성의 첫 번째 값을 추출하려면 다음과 같이 코드를 작성하면 됩니다."
      ]
    },
    {
      "cell_type": "code",
      "metadata": {
        "id": "W4dj5Tmm4wfN",
        "colab_type": "code",
        "outputId": "43523545-6c1a-41b5-f361-e6b5590142a3",
        "colab": {
          "base_uri": "https://localhost:8080/",
          "height": 35
        }
      },
      "source": [
        "print(first_row.index[0])"
      ],
      "execution_count": 13,
      "outputs": [
        {
          "output_type": "stream",
          "text": [
            "Occupation\n"
          ],
          "name": "stdout"
        }
      ]
    },
    {
      "cell_type": "markdown",
      "metadata": {
        "id": "AEihRrRE44RY",
        "colab_type": "text"
      },
      "source": [
        "#### _5._ keys 메서드 응용하기\n",
        "> 시리즈에는 keys 메서드의 결과값을 이욜하여 인덱스의 첫 번째 값을 추출하는 방법은 다음과 같습니다."
      ]
    },
    {
      "cell_type": "code",
      "metadata": {
        "id": "bL6mnUKw5HWY",
        "colab_type": "code",
        "outputId": "2905b7c7-fbad-4530-af60-02ef73eaf579",
        "colab": {
          "base_uri": "https://localhost:8080/",
          "height": 35
        }
      },
      "source": [
        "print(first_row.keys()[0])"
      ],
      "execution_count": 14,
      "outputs": [
        {
          "output_type": "stream",
          "text": [
            "Occupation\n"
          ],
          "name": "stdout"
        }
      ]
    },
    {
      "cell_type": "markdown",
      "metadata": {
        "id": "aOnSE9fr7LXS",
        "colab_type": "text"
      },
      "source": [
        "## [3] 시리즈의 기초 통계 메서드 사용하기\n",
        ">시리즈에는 keys 메서드 외에도 다양한 메서드가 있습니다. 이번에는 시리즈에 미리 정의되어 있는 mean, min, max, std 메서드의 사용방법을 알아보겠습니다."
      ]
    },
    {
      "cell_type": "markdown",
      "metadata": {
        "id": "lZuqO91u7l7A",
        "colab_type": "text"
      },
      "source": [
        "### (1) 시리즈의 mean, min, max, std 메서드 사용하기"
      ]
    },
    {
      "cell_type": "markdown",
      "metadata": {
        "id": "Wj9JTjt27ub_",
        "colab_type": "text"
      },
      "source": [
        "#### _1._ 키초 동계 메서드를 사용할 열 추출\n",
        "> 이번에는 scientists의 Age 열을 추출해 보겠습니다."
      ]
    },
    {
      "cell_type": "code",
      "metadata": {
        "id": "4s9wTaCM783V",
        "colab_type": "code",
        "outputId": "91b5608e-46d4-4f0c-8b8a-05d89e5a0298",
        "colab": {
          "base_uri": "https://localhost:8080/",
          "height": 71
        }
      },
      "source": [
        "ages = scientists['Age']\n",
        "print(ages)"
      ],
      "execution_count": 15,
      "outputs": [
        {
          "output_type": "stream",
          "text": [
            "Rosaline Franklin    37\n",
            "William Gosset       61\n",
            "Name: Age, dtype: int64\n"
          ],
          "name": "stdout"
        }
      ]
    },
    {
      "cell_type": "markdown",
      "metadata": {
        "id": "7feb3Lna8Wd5",
        "colab_type": "text"
      },
      "source": [
        "#### _2._ 시리즈의 mean, min, max, std 메서드 사용하기\n",
        ">만약 시리즈를 구성하는 데이터가 정수라면 mean, min, max, std와 같은 통계 메서드를 사용할 수 있습니다."
      ]
    },
    {
      "cell_type": "code",
      "metadata": {
        "id": "x9pdqNRW8iFj",
        "colab_type": "code",
        "outputId": "be0347b4-bfb9-4f03-dd95-52ce03f825a8",
        "colab": {
          "base_uri": "https://localhost:8080/",
          "height": 143
        }
      },
      "source": [
        "print(ages.mean())\n",
        "print('-'*20)\n",
        "\n",
        "print(ages.min())\n",
        "print('-'*20)\n",
        "\n",
        "print(ages.max())\n",
        "print('-'*20)\n",
        "\n",
        "print(ages.std())"
      ],
      "execution_count": 16,
      "outputs": [
        {
          "output_type": "stream",
          "text": [
            "49.0\n",
            "--------------------\n",
            "37\n",
            "--------------------\n",
            "61\n",
            "--------------------\n",
            "16.97056274847714\n"
          ],
          "name": "stdout"
        }
      ]
    },
    {
      "cell_type": "markdown",
      "metadata": {
        "id": "0Z9MoQF39GC8",
        "colab_type": "text"
      },
      "source": [
        "#### _3._ 시리즈 메서드 정리\n",
        "> 다음은 시리즈에서 자주 사용하는 메서드를 정리한 표입니다. 앞으로 종종 사용할 메서드이므로 한 번 읽어보고 넘어가기 바랍니다.\n",
        ">```\n",
        ">시리즈 메서드       설명\n",
        ">-----------------------------------------------------------------\n",
        "append              2개 이상의 시리즈 연결\n",
        "describe            요약 통계량 계산\n",
        "drop_duplicates     중복값이 없는 시리즈 반환\n",
        "equals              시리즈에 해당 값을 가진 요소가 있는지 확인\n",
        "get_values          시리즈 값 구하기(value 속성과 동일)\n",
        "isin                시리즈에 포함된 값이 있는지 확인\n",
        "min, max            최소값 반환, 최대값 반환\n",
        "cummin, cummax      누적 최소값, 누적 최대값\n",
        "argmin, argmax      최소값, 최대값을 가지고 있는 색인 위치 반환\n",
        "idxmin, idxmax      최소값, 최대값을 가지고 있는 색인의 값을 반환\n",
        "count               na값을 제외한값의 수를 반환\n",
        "quantile            0부터 1까지의 분위수 계산                 \n",
        "sum, mean           합, 산술 평균 반환\n",
        "cumsum              누적 합\n",
        "cumprod             누적 곱\n",
        "median              중간값 반환\n",
        "std                 표본 정규분산\n",
        "mad                 평균값에 대한 절대 평균편차\n",
        "var                 표본 분산\n",
        "skew                표본 비대칭도\n",
        "kurt                표본 첨도\n",
        "diff                1차 산술차 (시계열 데이커 사용시 유용)\n",
        "pct_change          퍼센트 변화율 계산 (주가 예측을 위한 데이터 전처리에서 전일 \n",
        "                    또는 어떤 기간에서의 변화율을 쉽게 계산 할 수 있음)\n",
        "replace             특정 값을 가진 시리즈 값을 교체\n",
        "sample              시리즈에서 임의의 값을 반환\n",
        "sort_values         값을 정렬\n",
        "to_frame            시리즈를 데이터프레임으로 변환\n",
        "```"
      ]
    },
    {
      "cell_type": "code",
      "metadata": {
        "id": "YcjxdY4J1M-_",
        "colab_type": "code",
        "colab": {
          "base_uri": "https://localhost:8080/",
          "height": 35
        },
        "outputId": "21e4324d-5865-4e69-dfac-f457d26789c3"
      },
      "source": [
        "scientists['Age'].std()"
      ],
      "execution_count": 62,
      "outputs": [
        {
          "output_type": "execute_result",
          "data": {
            "text/plain": [
              "18.325918413937288"
            ]
          },
          "metadata": {
            "tags": []
          },
          "execution_count": 62
        }
      ]
    },
    {
      "cell_type": "markdown",
      "metadata": {
        "id": "lePa1wU2x-39",
        "colab_type": "text"
      },
      "source": [
        "# 03-3 시리즈 다루기 - 응용"
      ]
    },
    {
      "cell_type": "markdown",
      "metadata": {
        "id": "EggYp9X9yEQV",
        "colab_type": "text"
      },
      "source": [
        "## [1] 시리즈와 불린 추출\n",
        "> [ 02 장 ]에서는 원하는 데이터를 추출할 때 특정 인덱스를 지정하여 추출했습니다. 하지만 보통은 데이터의 정확한 인덱스를 모르는 경우가 더 많습니다. 이런 경우에 사용하는 방법이 불린 추출입니다. 불린 추출은 특정 조건을 만족하는 값만 추출할 수 있습니다."
      ]
    },
    {
      "cell_type": "markdown",
      "metadata": {
        "id": "wOXLvNwzydbh",
        "colab_type": "text"
      },
      "source": [
        "### (1) 시리즈와 불린 추출 사용하기"
      ]
    },
    {
      "cell_type": "markdown",
      "metadata": {
        "id": "dQh4LJJiyirM",
        "colab_type": "text"
      },
      "source": [
        "#### _1._ 불린 추출에 사용 할 데이터 불러오기\n",
        ">이번에는 'scientists.csv'라는 이름의 데이터를 불러옵니다."
      ]
    },
    {
      "cell_type": "code",
      "metadata": {
        "id": "UKiNh5hpx9Yt",
        "colab_type": "code",
        "colab": {}
      },
      "source": [
        "scientists = pd.read_csv('/content/drive/My Drive/Colab Notebooks/pandas/data/doit_pandas-master/data/scientists.csv')"
      ],
      "execution_count": 0,
      "outputs": []
    },
    {
      "cell_type": "code",
      "metadata": {
        "id": "tk5xT6eE2VwS",
        "colab_type": "code",
        "outputId": "05030df3-1037-4140-d199-67bb7f233d72",
        "colab": {
          "base_uri": "https://localhost:8080/",
          "height": 179
        }
      },
      "source": [
        "print(scientists)"
      ],
      "execution_count": 19,
      "outputs": [
        {
          "output_type": "stream",
          "text": [
            "                   Name        Born        Died  Age          Occupation\n",
            "0     Rosaline Franklin  1920-07-25  1958-04-16   37             Chemist\n",
            "1        William Gosset  1876-06-13  1937-10-16   61        Statistician\n",
            "2  Florence Nightingale  1820-05-12  1910-08-13   90               Nurse\n",
            "3           Marie Curie  1867-11-07  1934-07-04   66             Chemist\n",
            "4         Rachel Carson  1907-05-27  1964-04-14   56           Biologist\n",
            "5             John Snow  1813-03-15  1858-06-16   45           Physician\n",
            "6           Alan Turing  1912-06-23  1954-06-07   41  Computer Scientist\n",
            "7          Johann Gauss  1777-04-30  1855-02-23   77       Mathematician\n"
          ],
          "name": "stdout"
        }
      ]
    },
    {
      "cell_type": "markdown",
      "metadata": {
        "id": "DgZqKLUAzF8d",
        "colab_type": "text"
      },
      "source": [
        "#### _2._ 불린추출 적용 할 열 선택\n",
        ">통계 수치의 결과값을 이용하여 불린 추출을 진행해 보겠습니다. 다음은 Age열을 추출하여 max, mean 메서드를 사용한 것입니다."
      ]
    },
    {
      "cell_type": "code",
      "metadata": {
        "id": "jMCa3S_LzEjd",
        "colab_type": "code",
        "outputId": "8b90420b-ac3a-41f5-e7cd-bcce8230e547",
        "colab": {
          "base_uri": "https://localhost:8080/",
          "height": 71
        }
      },
      "source": [
        "ages = scientists['Age']\n",
        "\n",
        "print(ages.max())\n",
        "print('-'*10)\n",
        "print(ages.mean())"
      ],
      "execution_count": 20,
      "outputs": [
        {
          "output_type": "stream",
          "text": [
            "90\n",
            "----------\n",
            "59.125\n"
          ],
          "name": "stdout"
        }
      ]
    },
    {
      "cell_type": "markdown",
      "metadata": {
        "id": "ctTHlVhQ0RTJ",
        "colab_type": "text"
      },
      "source": [
        "#### _3._ 불린 추출\n",
        ">이제 불린 추출을 사용할 차례이니다. 예를 들어 평균 나이보다 나이가 많은 사람의 데이터를 추출하려면 어떻게 해야 할까요? 다음의 코드를 실행하면 평균 나이보다 나이가 많은 사람의 데이터만 출력됩니다."
      ]
    },
    {
      "cell_type": "code",
      "metadata": {
        "id": "QQ3WX0NL0lVl",
        "colab_type": "code",
        "outputId": "81849bff-eaa6-43f6-b9e1-8ea0466bb771",
        "colab": {
          "base_uri": "https://localhost:8080/",
          "height": 107
        }
      },
      "source": [
        "print(ages[ages > ages.mean()])"
      ],
      "execution_count": 21,
      "outputs": [
        {
          "output_type": "stream",
          "text": [
            "1    61\n",
            "2    90\n",
            "3    66\n",
            "7    77\n",
            "Name: Age, dtype: int64\n"
          ],
          "name": "stdout"
        }
      ]
    },
    {
      "cell_type": "markdown",
      "metadata": {
        "id": "TzVq_pAu0yTj",
        "colab_type": "text"
      },
      "source": [
        "#### _4._ 불린 추출의 원리 1\n",
        ">먼저 ages > ages.mean()의 결과를 출력해 보겠습니다. 그러면 1, 2, 3, 7 인덱스의 데이터가 참(True)이라는 것을 알 수 있습니다. 즉, 조건식을 만족한 값만 출력된 것입니다."
      ]
    },
    {
      "cell_type": "code",
      "metadata": {
        "id": "bLA5Xxk51KxT",
        "colab_type": "code",
        "outputId": "695164e3-278d-49cd-c3a8-a901153850fa",
        "colab": {
          "base_uri": "https://localhost:8080/",
          "height": 215
        }
      },
      "source": [
        "print(ages > ages.mean())\n",
        "print('-'*30)\n",
        "print(type(ages > ages.mean()))"
      ],
      "execution_count": 22,
      "outputs": [
        {
          "output_type": "stream",
          "text": [
            "0    False\n",
            "1     True\n",
            "2     True\n",
            "3     True\n",
            "4    False\n",
            "5    False\n",
            "6    False\n",
            "7     True\n",
            "Name: Age, dtype: bool\n",
            "------------------------------\n",
            "<class 'pandas.core.series.Series'>\n"
          ],
          "name": "stdout"
        }
      ]
    },
    {
      "cell_type": "markdown",
      "metadata": {
        "id": "tG27FOiw1bKz",
        "colab_type": "text"
      },
      "source": [
        "#### _5._ 불린 추출의 원리 2\n",
        ">[ 과정 3 ], [ 과정 4 ]를 모두 합친 코드는 다음과 같습니다. 즉, 리스트 형태로 탐이나 거짓을 담아 시리즈에 전달하면 참인 인덱스의 데이터만 추출할 수 있습니다. 바로 이것을 불린 추출이라고 합니다."
      ]
    },
    {
      "cell_type": "code",
      "metadata": {
        "id": "TdQUMR0Z1ywk",
        "colab_type": "code",
        "outputId": "b4f9b0fa-8442-4590-fa41-4217eb4caa36",
        "colab": {
          "base_uri": "https://localhost:8080/",
          "height": 125
        }
      },
      "source": [
        "manual_bool_values = [True, True, False, False, True, True, False, True]\n",
        "print(ages[manual_bool_values])"
      ],
      "execution_count": 23,
      "outputs": [
        {
          "output_type": "stream",
          "text": [
            "0    37\n",
            "1    61\n",
            "4    56\n",
            "5    45\n",
            "7    77\n",
            "Name: Age, dtype: int64\n"
          ],
          "name": "stdout"
        }
      ]
    },
    {
      "cell_type": "markdown",
      "metadata": {
        "id": "viIa9qiz2ibv",
        "colab_type": "text"
      },
      "source": [
        "## [2] 시리즈와 브로드캐스팅\n",
        ">시리즈나 데이터프레임에 있는 모든 데이터에 대해 한 번에 연산하는 것을 브로드캐스팅(Broadcasting)이라고 합니다. 그리고 시리즈처럼 여러개의 값을 가진 데이터를 벡터라 하고 단순 크기를 나타내는 데이터를 스칼라라고 합니다.(시리즈는 벡터의 한 종류입니다.)"
      ]
    },
    {
      "cell_type": "markdown",
      "metadata": {
        "id": "dFBeTswS3X5H",
        "colab_type": "text"
      },
      "source": [
        "### (1) 벡터와 스칼라로 브로드캐스팅 수행하기"
      ]
    },
    {
      "cell_type": "markdown",
      "metadata": {
        "id": "_wr3C2yc3gMF",
        "colab_type": "text"
      },
      "source": [
        "#### _1._ 벡터 , 벡터 연산\n",
        ">다음은 같은 길이의 벡터로 더하기 연산과 곱하기 연산을 수행한 것입니다. 결괏값으로 같은 길이의 벡터가 출력됩니다"
      ]
    },
    {
      "cell_type": "code",
      "metadata": {
        "id": "O2EtnbBF3Rxl",
        "colab_type": "code",
        "outputId": "dd2a4782-c1cb-45c2-a6dc-700fb5a488cf",
        "colab": {
          "base_uri": "https://localhost:8080/",
          "height": 359
        }
      },
      "source": [
        "print(ages + ages)\n",
        "print('-'*30)\n",
        "print(ages * ages)"
      ],
      "execution_count": 24,
      "outputs": [
        {
          "output_type": "stream",
          "text": [
            "0     74\n",
            "1    122\n",
            "2    180\n",
            "3    132\n",
            "4    112\n",
            "5     90\n",
            "6     82\n",
            "7    154\n",
            "Name: Age, dtype: int64\n",
            "------------------------------\n",
            "0    1369\n",
            "1    3721\n",
            "2    8100\n",
            "3    4356\n",
            "4    3136\n",
            "5    2025\n",
            "6    1681\n",
            "7    5929\n",
            "Name: Age, dtype: int64\n"
          ],
          "name": "stdout"
        }
      ]
    },
    {
      "cell_type": "markdown",
      "metadata": {
        "id": "qb-wTWU74sTS",
        "colab_type": "text"
      },
      "source": [
        "#### _2._ 벡터, 스칼라 연산\n",
        ">만약 벡터에 스칼라를 연산하면 어떻게 될까요? 다음은 벡터의 모든 값에 스칼라를 이용하여 브로드캐스팅한 결과입니다."
      ]
    },
    {
      "cell_type": "code",
      "metadata": {
        "id": "7_iS7GXX45_j",
        "colab_type": "code",
        "outputId": "16104724-c94c-4fd1-8788-d45fc5e51322",
        "colab": {
          "base_uri": "https://localhost:8080/",
          "height": 359
        }
      },
      "source": [
        "print(ages + 100)\n",
        "print('-'*30)\n",
        "print(ages *2)"
      ],
      "execution_count": 25,
      "outputs": [
        {
          "output_type": "stream",
          "text": [
            "0    137\n",
            "1    161\n",
            "2    190\n",
            "3    166\n",
            "4    156\n",
            "5    145\n",
            "6    141\n",
            "7    177\n",
            "Name: Age, dtype: int64\n",
            "------------------------------\n",
            "0     74\n",
            "1    122\n",
            "2    180\n",
            "3    132\n",
            "4    112\n",
            "5     90\n",
            "6     82\n",
            "7    154\n",
            "Name: Age, dtype: int64\n"
          ],
          "name": "stdout"
        }
      ]
    },
    {
      "cell_type": "markdown",
      "metadata": {
        "id": "f0EHqCpQ5NOL",
        "colab_type": "text"
      },
      "source": [
        "#### _3._ 길이가 다른 벡터, 벡터 연산\n",
        ">길이가 서로다른 벡터를 연산하면 어떻게 될까요? 시리즈와 시리즈를 연산하는 경우 같은 인덱스 값만 계산합니다. 다음은 데이터의 개수가 2개인 시리즈와 8개인 시리즈를 더한 것입니다. 결괏값을 살펴보면 인덱스가 일치한 0, 1만 계산했다는 것을 알 수 있습니다. 나머지 인덱스(2~7)는 계산을 할 수 없기 때문에 누락값(NaN)으로 처리합니다.\n",
        ">\n",
        ">참고 : 벡터의 자료형에 따라 브로드캐스팅 방식이 달라집니다."
      ]
    },
    {
      "cell_type": "code",
      "metadata": {
        "id": "1ff5pMgL5100",
        "colab_type": "code",
        "outputId": "b678483a-7148-4ba7-b3ae-ded5ae578ced",
        "colab": {
          "base_uri": "https://localhost:8080/",
          "height": 251
        }
      },
      "source": [
        "print(pd.Series([1, 100]))\n",
        "print('-'*30)\n",
        "print(ages + pd.Series([1, 100]))"
      ],
      "execution_count": 26,
      "outputs": [
        {
          "output_type": "stream",
          "text": [
            "0      1\n",
            "1    100\n",
            "dtype: int64\n",
            "------------------------------\n",
            "0     38.0\n",
            "1    161.0\n",
            "2      NaN\n",
            "3      NaN\n",
            "4      NaN\n",
            "5      NaN\n",
            "6      NaN\n",
            "7      NaN\n",
            "dtype: float64\n"
          ],
          "name": "stdout"
        }
      ]
    },
    {
      "cell_type": "markdown",
      "metadata": {
        "id": "EVhQS_7P6Ox1",
        "colab_type": "text"
      },
      "source": [
        "#### _4._ sort_index 메서드\n",
        ">다음은 sort_index 메서드를 사용한 것입니다. 이때 ascending 인자로 False를 전달하여 인덱스 역순으로 데이터를 정렬했습니다.\n",
        ">\n",
        ">참고 : 데이터의 역순이 아닙니다."
      ]
    },
    {
      "cell_type": "code",
      "metadata": {
        "id": "fypnEYLP6FuU",
        "colab_type": "code",
        "outputId": "1cf92ac2-91d1-4fc4-9b01-5311f5c1c16c",
        "colab": {
          "base_uri": "https://localhost:8080/",
          "height": 179
        }
      },
      "source": [
        "rev_ages = ages.sort_index(ascending=False)\n",
        "print(rev_ages)"
      ],
      "execution_count": 27,
      "outputs": [
        {
          "output_type": "stream",
          "text": [
            "7    77\n",
            "6    41\n",
            "5    45\n",
            "4    56\n",
            "3    66\n",
            "2    90\n",
            "1    61\n",
            "0    37\n",
            "Name: Age, dtype: int64\n"
          ],
          "name": "stdout"
        }
      ]
    },
    {
      "cell_type": "markdown",
      "metadata": {
        "id": "Y2iFLxQi64nq",
        "colab_type": "text"
      },
      "source": [
        "#### _5._ 벡터, 벡터 연산에서의 인덱스\n",
        ">그러면 인덱스 순서대로 정렬된 ages와 인덱스의 역순으로 정렬된 rev_ages를 연산하면 어떻게 될까요? age의 데이터와 rev_ages의 데이터를 순서대로 더할 것 같지만 그렇지 않습니다. 다름은 ages * 2와 ages + rev_ages의 결괏값을 출력한 것입니다. 어떤가요?\n",
        "> ages * 2와 ages + rev_ages의 결괏값이 동일합니다. ages의 인덱스(0-7)와 rev_ages의 인덱스 (0-7)가 일치하는 값끼리 연산했기 때문입니다. 벡터와 벡터의 연산은 일치하는 인덱스의 값끼리 수행한다는 것을 잊지 마세요."
      ]
    },
    {
      "cell_type": "code",
      "metadata": {
        "id": "owPlGTEs7tJN",
        "colab_type": "code",
        "outputId": "b2435431-2807-4d9e-bac8-1b17848c2a56",
        "colab": {
          "base_uri": "https://localhost:8080/",
          "height": 359
        }
      },
      "source": [
        "print(ages * 2)\n",
        "print('-'*30)\n",
        "print(ages + rev_ages)"
      ],
      "execution_count": 28,
      "outputs": [
        {
          "output_type": "stream",
          "text": [
            "0     74\n",
            "1    122\n",
            "2    180\n",
            "3    132\n",
            "4    112\n",
            "5     90\n",
            "6     82\n",
            "7    154\n",
            "Name: Age, dtype: int64\n",
            "------------------------------\n",
            "0     74\n",
            "1    122\n",
            "2    180\n",
            "3    132\n",
            "4    112\n",
            "5     90\n",
            "6     82\n",
            "7    154\n",
            "Name: Age, dtype: int64\n"
          ],
          "name": "stdout"
        }
      ]
    },
    {
      "cell_type": "markdown",
      "metadata": {
        "id": "l16wEIfD8JV6",
        "colab_type": "text"
      },
      "source": [
        "# 03-4 데이터프레임 다루기\n",
        ">데이터프레임도 시리즈와 마찬가디로 불린 추출과 브로드캐스팅을 할 수 있습니다. 그러면 불린 추출부터 실습해 보겠습니다."
      ]
    },
    {
      "cell_type": "markdown",
      "metadata": {
        "id": "MqmYYxn88Y2g",
        "colab_type": "text"
      },
      "source": [
        "## [1]"
      ]
    },
    {
      "cell_type": "markdown",
      "metadata": {
        "id": "oV4up8Q58bvL",
        "colab_type": "text"
      },
      "source": [
        "### (1) 불린 추출과 브로드캐스팅"
      ]
    },
    {
      "cell_type": "markdown",
      "metadata": {
        "id": "ogLXdjCJ8rP6",
        "colab_type": "text"
      },
      "source": [
        "#### _1._ 불린 추출하기\n",
        "> 데이터프레임도 불린추출을 할 수 있습니다. 다음은 데이터프레임의 Age 열의 평균보다 높은 행만 출력합니다."
      ]
    },
    {
      "cell_type": "code",
      "metadata": {
        "id": "hZCoOpZc83LU",
        "colab_type": "code",
        "outputId": "1d17380f-a740-4cdc-e771-7af69c202f16",
        "colab": {
          "base_uri": "https://localhost:8080/",
          "height": 107
        }
      },
      "source": [
        "print(scientists[scientists['Age'] > scientists['Age'].mean()])"
      ],
      "execution_count": 29,
      "outputs": [
        {
          "output_type": "stream",
          "text": [
            "                   Name        Born        Died  Age     Occupation\n",
            "1        William Gosset  1876-06-13  1937-10-16   61   Statistician\n",
            "2  Florence Nightingale  1820-05-12  1910-08-13   90          Nurse\n",
            "3           Marie Curie  1867-11-07  1934-07-04   66        Chemist\n",
            "7          Johann Gauss  1777-04-30  1855-02-23   77  Mathematician\n"
          ],
          "name": "stdout"
        }
      ]
    },
    {
      "cell_type": "markdown",
      "metadata": {
        "id": "eYBMg3Oo9ZZG",
        "colab_type": "text"
      },
      "source": [
        "#### _2._\n",
        ">시리즈에 리스트를 참, 거짓을 전달하여 데이터를 추출했던 것을 기억하나요? 참, 거짓을 담은 리스트를 bool 벡터라고 부릅니다. 만약 bool 벡터의 길이가 데이터프레임의 행 길이보다 짧으면 bool 벡터의 길이만큼만 연산합니다. 다음은 데이터프레임의 loc속성에 길이가 4인 bool 벡터를 전달한 것입니다.\n",
        ">\n",
        "> 참고 : 위의 사항은 [ padas 0.23.0 ] 버전기준이며\n",
        ">        현재의 [ pandas 0.25.3 ] 의 경우 bool 벡터와 데이터프레임의 행 길이가 일치해야만 견잔이 이루어진다."
      ]
    },
    {
      "cell_type": "code",
      "metadata": {
        "id": "KGEtY4ht-w2E",
        "colab_type": "code",
        "outputId": "acac530f-bf60-4482-c99f-5ceb347b855e",
        "colab": {
          "base_uri": "https://localhost:8080/",
          "height": 143
        }
      },
      "source": [
        "# print(scientists.loc[[True, True, False, True]])        # error\n",
        "print(scientists.loc[[True, True, False, True, True, True, False, True]])    \n",
        "                      # 길이가 일치해야만 정상적인 연산이 이루어진다.\n",
        "                      # 인덱스가 2, 6인 행 데이터는 bool값이 False이기 때문에 출력되지 않는다."
      ],
      "execution_count": 30,
      "outputs": [
        {
          "output_type": "stream",
          "text": [
            "                Name        Born        Died  Age     Occupation\n",
            "0  Rosaline Franklin  1920-07-25  1958-04-16   37        Chemist\n",
            "1     William Gosset  1876-06-13  1937-10-16   61   Statistician\n",
            "3        Marie Curie  1867-11-07  1934-07-04   66        Chemist\n",
            "4      Rachel Carson  1907-05-27  1964-04-14   56      Biologist\n",
            "5          John Snow  1813-03-15  1858-06-16   45      Physician\n",
            "7       Johann Gauss  1777-04-30  1855-02-23   77  Mathematician\n"
          ],
          "name": "stdout"
        }
      ]
    },
    {
      "cell_type": "markdown",
      "metadata": {
        "id": "0JVi7GxAE0Go",
        "colab_type": "text"
      },
      "source": [
        "#### _3._ 브로드캐스팅하기\n",
        ">데이터프레임에 스칼라 연산을 적용하면 어떻게 될까요? 앞에서 스칼라 연산을 적용할 때는 모든 요서에 스칼라를 적용하여 연산했습니다. 데이터프레임에도 마찬가지입니다. sciectists 데이터프레임에 2를 곱하면 정수데이터는 2를 곱한 숫자가 되고 문자열데이터는 문자열이 2배로 늘어납니다."
      ]
    },
    {
      "cell_type": "code",
      "metadata": {
        "id": "nOpx4CEbFaUW",
        "colab_type": "code",
        "outputId": "796486fe-d3da-4fba-b030-acfec2489ee6",
        "colab": {
          "base_uri": "https://localhost:8080/",
          "height": 215
        }
      },
      "source": [
        "print(scientists * 2)"
      ],
      "execution_count": 31,
      "outputs": [
        {
          "output_type": "stream",
          "text": [
            "                                       Name  ...                            Occupation\n",
            "0        Rosaline FranklinRosaline Franklin  ...                        ChemistChemist\n",
            "1              William GossetWilliam Gosset  ...              StatisticianStatistician\n",
            "2  Florence NightingaleFlorence Nightingale  ...                            NurseNurse\n",
            "3                    Marie CurieMarie Curie  ...                        ChemistChemist\n",
            "4                Rachel CarsonRachel Carson  ...                    BiologistBiologist\n",
            "5                        John SnowJohn Snow  ...                    PhysicianPhysician\n",
            "6                    Alan TuringAlan Turing  ...  Computer ScientistComputer Scientist\n",
            "7                  Johann GaussJohann Gauss  ...            MathematicianMathematician\n",
            "\n",
            "[8 rows x 5 columns]\n"
          ],
          "name": "stdout"
        }
      ]
    },
    {
      "cell_type": "markdown",
      "metadata": {
        "id": "0ixEv7kTFjAG",
        "colab_type": "text"
      },
      "source": [
        "#### 03-5 시리즈와 데이터프레임의 데이터 처리하기\n",
        "> 지금까지는 시리즈와 데이터프레임에서 데이터를추출하는 여러 방법에 대해 알아보았습니다. 이번에는 시리즈와 데이터프레임에 있는 데이터를 처리하는 방법에 대해 알아보겠습니다."
      ]
    },
    {
      "cell_type": "markdown",
      "metadata": {
        "id": "OscOcwYWFxlh",
        "colab_type": "text"
      },
      "source": [
        "## [1]"
      ]
    },
    {
      "cell_type": "markdown",
      "metadata": {
        "id": "XBQXH58oF1jn",
        "colab_type": "text"
      },
      "source": [
        "### (1) 시리즈와 데이터프레임의 데이터 처리하기"
      ]
    },
    {
      "cell_type": "markdown",
      "metadata": {
        "id": "74mcvAgHF6tn",
        "colab_type": "text"
      },
      "source": [
        "#### _1._ 열의 자료형 바꾸기와 새로운 열 추가하기\n",
        "> scientists 데이터프레임의 Born과 Died 열의 자료형을 확인해 보겠습니다.\n",
        ">\n",
        ">참고 : 파이썬의 문자열은 판다스에서 오브젝트로 취급합니다.([ 2 장 ])"
      ]
    },
    {
      "cell_type": "code",
      "metadata": {
        "id": "R9uwhkBIGSh6",
        "colab_type": "code",
        "outputId": "6ce68ee8-a6c6-47f7-d8a4-d5b5d20b2161",
        "colab": {
          "base_uri": "https://localhost:8080/",
          "height": 71
        }
      },
      "source": [
        "print(scientists['Born'].dtype)\n",
        "print('-'*15)\n",
        "print(scientists['Died'].dtype)"
      ],
      "execution_count": 32,
      "outputs": [
        {
          "output_type": "stream",
          "text": [
            "object\n",
            "---------------\n",
            "object\n"
          ],
          "name": "stdout"
        }
      ]
    },
    {
      "cell_type": "markdown",
      "metadata": {
        "id": "mjGCeX5tGv99",
        "colab_type": "text"
      },
      "source": [
        "#### _2._\n",
        ">날짜를 문자열로 저장한 데이터는 시간 관련 작업을 할 수 있도록 datetime 자료형으로 바꾸는 것이 더 좋습니다. 다음은 Born과 Died 열의 자료형을 datetime이라는 자료형으로 바꾼다음 format 속성을 '%Y-%m-%d'로 지정하여 날짜 형식을 지정한 것입니다.\n",
        ">\n",
        ">참고 : datetime 자료형은 12장에서 더 자세히 설명합니다."
      ]
    },
    {
      "cell_type": "code",
      "metadata": {
        "id": "xQ83_HT2HMIF",
        "colab_type": "code",
        "outputId": "58274003-feec-4beb-a4f2-f026239e76bd",
        "colab": {
          "base_uri": "https://localhost:8080/",
          "height": 359
        }
      },
      "source": [
        "born_datetime = pd.to_datetime(scientists['Born'], format='%Y-%m-%d')\n",
        "print(born_datetime)\n",
        "print('-'*40)\n",
        "\n",
        "died_datetime = pd.to_datetime(scientists['Died'], format='%Y-%m-%d')\n",
        "print(died_datetime)"
      ],
      "execution_count": 33,
      "outputs": [
        {
          "output_type": "stream",
          "text": [
            "0   1920-07-25\n",
            "1   1876-06-13\n",
            "2   1820-05-12\n",
            "3   1867-11-07\n",
            "4   1907-05-27\n",
            "5   1813-03-15\n",
            "6   1912-06-23\n",
            "7   1777-04-30\n",
            "Name: Born, dtype: datetime64[ns]\n",
            "----------------------------------------\n",
            "0   1958-04-16\n",
            "1   1937-10-16\n",
            "2   1910-08-13\n",
            "3   1934-07-04\n",
            "4   1964-04-14\n",
            "5   1858-06-16\n",
            "6   1954-06-07\n",
            "7   1855-02-23\n",
            "Name: Died, dtype: datetime64[ns]\n"
          ],
          "name": "stdout"
        }
      ]
    },
    {
      "cell_type": "markdown",
      "metadata": {
        "id": "HDAIUEuvOcM1",
        "colab_type": "text"
      },
      "source": [
        "#### _3._\n",
        ">[ 과정 2 ]에서 각 데이터의 자료형을 datetime으로 바꿔 born_datetime, died_datetime에 저장했으니 이제 데이터프레임에 각각의 값을 새로운 열로 추가해 보겠습니다. 다음은 scientists 데이터프레임에 born_dt, died_dt열을 추가한 것입니다. shape 속성으로 데이터프레임의 형태를 살펴보면(8, 5)에서 (8,7)로 2개의 열이 추가되었다는 것을 알 수 있습니다. "
      ]
    },
    {
      "cell_type": "code",
      "metadata": {
        "id": "DA1EPM0LQPXJ",
        "colab_type": "code",
        "outputId": "a9651f93-b61a-4893-f9a9-b1308ce1e866",
        "colab": {
          "base_uri": "https://localhost:8080/",
          "height": 197
        }
      },
      "source": [
        "scientists['born_dt'], scientists['died_dt'] = (born_datetime, died_datetime)\n",
        "print(scientists.head())\n",
        "print('-'*100)\n",
        "print(scientists.shape)     # shape의 두번째 값을 열을 의미합니다."
      ],
      "execution_count": 34,
      "outputs": [
        {
          "output_type": "stream",
          "text": [
            "                   Name        Born  ...    born_dt    died_dt\n",
            "0     Rosaline Franklin  1920-07-25  ... 1920-07-25 1958-04-16\n",
            "1        William Gosset  1876-06-13  ... 1876-06-13 1937-10-16\n",
            "2  Florence Nightingale  1820-05-12  ... 1820-05-12 1910-08-13\n",
            "3           Marie Curie  1867-11-07  ... 1867-11-07 1934-07-04\n",
            "4         Rachel Carson  1907-05-27  ... 1907-05-27 1964-04-14\n",
            "\n",
            "[5 rows x 7 columns]\n",
            "----------------------------------------------------------------------------------------------------\n",
            "(8, 7)\n"
          ],
          "name": "stdout"
        }
      ]
    },
    {
      "cell_type": "markdown",
      "metadata": {
        "id": "RFnRFBatROA6",
        "colab_type": "text"
      },
      "source": [
        "#### _4._\n",
        ">이제 시간 계산을 해볼까요? died_dt 열에서 born_dt를 빼면 과학자가 얼마동안 세상을 살다가 떠났는지 계산할 수 있습니다. 만약 결괏값이 제대로 출력되지 않는다면 [ 과정 1~3 ]을 다시 실행해 보세요."
      ]
    },
    {
      "cell_type": "code",
      "metadata": {
        "id": "lG0tVzdlR51w",
        "colab_type": "code",
        "outputId": "8458bb67-5d11-4eca-e7d7-1eddcefd4ddd",
        "colab": {
          "base_uri": "https://localhost:8080/",
          "height": 359
        }
      },
      "source": [
        "scientists['age_days_dt'] = (scientists['died_dt'] - scientists['born_dt'])\n",
        "print(scientists.loc[:,['born_dt', 'died_dt', 'age_days_dt']])\n",
        "print('-'*40)\n",
        "print(scientists.iloc[:, -3:])"
      ],
      "execution_count": 35,
      "outputs": [
        {
          "output_type": "stream",
          "text": [
            "     born_dt    died_dt age_days_dt\n",
            "0 1920-07-25 1958-04-16  13779 days\n",
            "1 1876-06-13 1937-10-16  22404 days\n",
            "2 1820-05-12 1910-08-13  32964 days\n",
            "3 1867-11-07 1934-07-04  24345 days\n",
            "4 1907-05-27 1964-04-14  20777 days\n",
            "5 1813-03-15 1858-06-16  16529 days\n",
            "6 1912-06-23 1954-06-07  15324 days\n",
            "7 1777-04-30 1855-02-23  28422 days\n",
            "----------------------------------------\n",
            "     born_dt    died_dt age_days_dt\n",
            "0 1920-07-25 1958-04-16  13779 days\n",
            "1 1876-06-13 1937-10-16  22404 days\n",
            "2 1820-05-12 1910-08-13  32964 days\n",
            "3 1867-11-07 1934-07-04  24345 days\n",
            "4 1907-05-27 1964-04-14  20777 days\n",
            "5 1813-03-15 1858-06-16  16529 days\n",
            "6 1912-06-23 1954-06-07  15324 days\n",
            "7 1777-04-30 1855-02-23  28422 days\n"
          ],
          "name": "stdout"
        }
      ]
    },
    {
      "cell_type": "markdown",
      "metadata": {
        "id": "Vfh2gf2yTt1y",
        "colab_type": "text"
      },
      "source": [
        "#### _5._\n",
        ">시리즈 데이터를 적당히 섞어야 하는 경우도 있습니다. 판다스는 시리즈나 데이터프레임의 데이터를 무작위로 섞어볼 수도 있습니다. 먼저 Age 값을 출력하여 살펴보겠습니다."
      ]
    },
    {
      "cell_type": "code",
      "metadata": {
        "id": "jWAEImwRXj-R",
        "colab_type": "code",
        "outputId": "e017974f-0678-4c7a-a9d1-960bddfe39cb",
        "colab": {
          "base_uri": "https://localhost:8080/",
          "height": 179
        }
      },
      "source": [
        "print(scientists['Age'])"
      ],
      "execution_count": 36,
      "outputs": [
        {
          "output_type": "stream",
          "text": [
            "0    37\n",
            "1    61\n",
            "2    90\n",
            "3    66\n",
            "4    56\n",
            "5    45\n",
            "6    41\n",
            "7    77\n",
            "Name: Age, dtype: int64\n"
          ],
          "name": "stdout"
        }
      ]
    },
    {
      "cell_type": "markdown",
      "metadata": {
        "id": "9EpjEoUMXpCk",
        "colab_type": "text"
      },
      "source": [
        "#### _6._\n",
        ">Age 열의 데이터를 섞으려면 random 라이브러리를 불러와야 합니다. random 라이브러리에는 데이터를 섞어주는 shuffle 메서드가 있습니다. shuffle 메서드에 Age열을 전달하여 데이터를 섞어보겠습니다. Age열을 출력해 보면 인덱스 0~7에 해당하는 값이 잘 섞여 있음을 알수있습니다."
      ]
    },
    {
      "cell_type": "code",
      "metadata": {
        "id": "O46oKviXYJ40",
        "colab_type": "code",
        "outputId": "76adb6b4-4d86-46d7-b3b0-8df966fe3c4e",
        "colab": {
          "base_uri": "https://localhost:8080/",
          "height": 289
        }
      },
      "source": [
        "import random\n",
        "\n",
        "random.seed(42)     # seed 메서드는 컴퓨터가 생성하는 난수의 기준값을 정하기 위해 사용합니다.\n",
        "random.shuffle(scientists['Age'])\n",
        "print(scientists['Age'])"
      ],
      "execution_count": 37,
      "outputs": [
        {
          "output_type": "stream",
          "text": [
            "0    66\n",
            "1    56\n",
            "2    41\n",
            "3    77\n",
            "4    90\n",
            "5    45\n",
            "6    37\n",
            "7    61\n",
            "Name: Age, dtype: int64\n"
          ],
          "name": "stdout"
        },
        {
          "output_type": "stream",
          "text": [
            "/usr/lib/python3.6/random.py:277: SettingWithCopyWarning: \n",
            "A value is trying to be set on a copy of a slice from a DataFrame\n",
            "\n",
            "See the caveats in the documentation: http://pandas.pydata.org/pandas-docs/stable/user_guide/indexing.html#returning-a-view-versus-a-copy\n",
            "  x[i], x[j] = x[j], x[i]\n"
          ],
          "name": "stderr"
        }
      ]
    },
    {
      "cell_type": "markdown",
      "metadata": {
        "id": "PBu_ytAte_Db",
        "colab_type": "text"
      },
      "source": [
        "#### _7._ 데이터프레임의 열 삭제하기\n",
        ">때로는 열을 통째로 삭제해야 하는 경우도 있습니다. 먼저 scientists 데이터프레임의 열을 확인해 보겠습니다."
      ]
    },
    {
      "cell_type": "code",
      "metadata": {
        "id": "EXiZmQSffUO2",
        "colab_type": "code",
        "outputId": "a37b4823-5368-4c14-c8b6-3eed7996ad90",
        "colab": {
          "base_uri": "https://localhost:8080/",
          "height": 71
        }
      },
      "source": [
        "print(scientists.columns)"
      ],
      "execution_count": 38,
      "outputs": [
        {
          "output_type": "stream",
          "text": [
            "Index(['Name', 'Born', 'Died', 'Age', 'Occupation', 'born_dt', 'died_dt',\n",
            "       'age_days_dt'],\n",
            "      dtype='object')\n"
          ],
          "name": "stdout"
        }
      ]
    },
    {
      "cell_type": "markdown",
      "metadata": {
        "id": "WGDAb2q7fZei",
        "colab_type": "text"
      },
      "source": [
        "#### _8._\n",
        ">데이터프레임에서 열을 삭제하면 데이터프레임의 drop 메서드를 사용해야 합니다.shupple 메서드로 섞은 Age 열을 삭제해 보겠습니다. Drop 메서드의 첫 번째 인자에 열 이름을 리스트에 담아 전달하고 두 번째 인자에는 axis=1을 전달하면 Age 열을 삭제할 수 있습니다.\n",
        ">\n",
        ">참고 : drop 메서드는 삭제한 열을 반환합니다."
      ]
    },
    {
      "cell_type": "code",
      "metadata": {
        "id": "DQgYejXwf4bh",
        "colab_type": "code",
        "outputId": "dce447ff-0cb2-41cf-9482-70ce77e65d11",
        "colab": {
          "base_uri": "https://localhost:8080/",
          "height": 71
        }
      },
      "source": [
        "scientists_droped = scientists.drop(['Age'], axis=1)\n",
        "print(scientists_droped.columns)"
      ],
      "execution_count": 39,
      "outputs": [
        {
          "output_type": "stream",
          "text": [
            "Index(['Name', 'Born', 'Died', 'Occupation', 'born_dt', 'died_dt',\n",
            "       'age_days_dt'],\n",
            "      dtype='object')\n"
          ],
          "name": "stdout"
        }
      ]
    },
    {
      "cell_type": "markdown",
      "metadata": {
        "id": "0sSksXkJganw",
        "colab_type": "text"
      },
      "source": [
        "# 03-6 데이터 저장하고 불러오기\n",
        ">지금까지 데이터를 추출하고 처리하는 방법에 대해 알아보았습니다. 일종의 '데이터 가공처리'를 거친 것입니다. 이렇게 잘 가공한 데이터는 안전하게 보관해야 다음에 또 사용할 수 있습니다. 판다스는 데이터를 저장하는 다양한 방법을 제공합니다. 여기서는 가공한 데이터를 피클, CSV, TSV 파일로 저장하고 다시 불러오는 방법에 대해 살펴봅니다."
      ]
    },
    {
      "cell_type": "markdown",
      "metadata": {
        "id": "_3CZlGR_g7b5",
        "colab_type": "text"
      },
      "source": [
        "## [1]"
      ]
    },
    {
      "cell_type": "markdown",
      "metadata": {
        "id": "sKX2PNsBg_Ht",
        "colab_type": "text"
      },
      "source": [
        "### (1) 데이터를 피클, CSV, TSV 파일로 저장하고 불러오기"
      ]
    },
    {
      "cell_type": "markdown",
      "metadata": {
        "id": "ThV8v2f-hHxW",
        "colab_type": "text"
      },
      "source": [
        "#### _1._ 피클로 저장하기\n",
        ">피클은 데이터를 바이너리 형태로 직렬화한 오브젝트를 저장하는 방법입니다. 피클로 저장하면 스프레드시트보다 더 작은 용량으로 데이터를 저장할 수 있어 매우 편리합니다. 시리즈를 피클로 저장하려면 ro_pickle 메서드를 사용하면 되는데, 이때 저장 경로를 문자열로 전달해야 합니다.\n",
        ">\n",
        ">참고 : 데이터를 오래 보관한다는 뜻으로 피클이라는 이름이 붙여니 것입니다."
      ]
    },
    {
      "cell_type": "code",
      "metadata": {
        "id": "mzJ4KSy5huWT",
        "colab_type": "code",
        "colab": {}
      },
      "source": [
        "names = scientists['Name']\n",
        "names.to_pickle('/content/drive/My Drive/Colab Notebooks/pandas/write_data/scientists_name_series.pickle')"
      ],
      "execution_count": 0,
      "outputs": []
    },
    {
      "cell_type": "markdown",
      "metadata": {
        "id": "CHrhshC6ikgW",
        "colab_type": "text"
      },
      "source": [
        "#### _4._\n",
        ">데이터프레임도 피클로 저장할 수 있습니다."
      ]
    },
    {
      "cell_type": "code",
      "metadata": {
        "id": "XZ5ZpDFGir8w",
        "colab_type": "code",
        "colab": {}
      },
      "source": [
        "scientists.to_pickle('/content/drive/My Drive/Colab Notebooks/pandas/write_data/scientists_df.pickle')"
      ],
      "execution_count": 0,
      "outputs": []
    },
    {
      "cell_type": "markdown",
      "metadata": {
        "id": "53g3rUh0i93t",
        "colab_type": "text"
      },
      "source": [
        "#### _4._\n",
        ">피클은 바이너리 형태의 오브젝트이기 때문에 저장된 피클 데이터를 편집기와 같은 프로그램으로 열면 이상한 문자가 나타납니다. 피클 데이터는 반드시 read_pickle 메서드로 읽어 들여야 합니다."
      ]
    },
    {
      "cell_type": "code",
      "metadata": {
        "id": "Hz9H5SNgjR1y",
        "colab_type": "code",
        "outputId": "c41030a8-4f2d-4b50-cad6-690c7ba5b68a",
        "colab": {
          "base_uri": "https://localhost:8080/",
          "height": 395
        }
      },
      "source": [
        "scientists_names_from_pickle = pd.read_pickle(\"/content/drive/My Drive/Colab Notebooks/pandas/write_data/scientists_name_series.pickle\")\n",
        "print(scientists_names_from_pickle)\n",
        "print('-'*90)\n",
        "\n",
        "scientists_from_pickle = pd.read_pickle('/content/drive/My Drive/Colab Notebooks/pandas/write_data/scientists_df.pickle')\n",
        "print(scientists_from_pickle)"
      ],
      "execution_count": 44,
      "outputs": [
        {
          "output_type": "stream",
          "text": [
            "0       Rosaline Franklin\n",
            "1          William Gosset\n",
            "2    Florence Nightingale\n",
            "3             Marie Curie\n",
            "4           Rachel Carson\n",
            "5               John Snow\n",
            "6             Alan Turing\n",
            "7            Johann Gauss\n",
            "Name: Name, dtype: object\n",
            "------------------------------------------------------------------------------------------\n",
            "                   Name        Born  ...    died_dt  age_days_dt\n",
            "0     Rosaline Franklin  1920-07-25  ... 1958-04-16   13779 days\n",
            "1        William Gosset  1876-06-13  ... 1937-10-16   22404 days\n",
            "2  Florence Nightingale  1820-05-12  ... 1910-08-13   32964 days\n",
            "3           Marie Curie  1867-11-07  ... 1934-07-04   24345 days\n",
            "4         Rachel Carson  1907-05-27  ... 1964-04-14   20777 days\n",
            "5             John Snow  1813-03-15  ... 1858-06-16   16529 days\n",
            "6           Alan Turing  1912-06-23  ... 1954-06-07   15324 days\n",
            "7          Johann Gauss  1777-04-30  ... 1855-02-23   28422 days\n",
            "\n",
            "[8 rows x 8 columns]\n"
          ],
          "name": "stdout"
        }
      ]
    },
    {
      "cell_type": "markdown",
      "metadata": {
        "id": "KZcklY6IlPPX",
        "colab_type": "text"
      },
      "source": [
        "#### _4._ CSV 파일과 TSV 파일로 저장하기\n",
        "> CSV파일은 데이터를 쉼표로 구분하여 저장한 파일이고 TSV 파일은 데이터를 탭으로 구분하여 저장한 파일입니다. 실제로 각각의 파일을 텍스트 편집기로 열어 살펴보면 데이터가 쉼표, 탭으로 구분되어 있는 것을 알 수 있습니다. "
      ]
    },
    {
      "cell_type": "markdown",
      "metadata": {
        "id": "kDQizLmSkkQF",
        "colab_type": "text"
      },
      "source": [
        "#### _5._\n",
        ">to_csv 메서드로 시리즈(names)와 데이터프레임(scientists)을 SCV 파일로 저장할 수 있습니다. 이때 sep 인자를 추가하여 '\\t'를 지정하고 파일의 확장자를 '.tsv'로 지정하면 TSV 파일로 저잘할 수 있습니다."
      ]
    },
    {
      "cell_type": "code",
      "metadata": {
        "id": "OXcOisBLnIsr",
        "colab_type": "code",
        "outputId": "b413020c-26d3-4128-8fb6-d6cc7572c611",
        "colab": {
          "base_uri": "https://localhost:8080/",
          "height": 73
        }
      },
      "source": [
        "names.to_csv('/content/drive/My Drive/Colab Notebooks/pandas/write_data/scientists_names_series.csv')\n",
        "scientists.to_csv('/content/drive/My Drive/Colab Notebooks/pandas/write_data/scientists_df.tsv', sep = '\\t')"
      ],
      "execution_count": 45,
      "outputs": [
        {
          "output_type": "stream",
          "text": [
            "/usr/local/lib/python3.6/dist-packages/ipykernel_launcher.py:1: FutureWarning: The signature of `Series.to_csv` was aligned to that of `DataFrame.to_csv`, and argument 'header' will change its default value from False to True: please pass an explicit value to suppress this warning.\n",
            "  \"\"\"Entry point for launching an IPython kernel.\n"
          ],
          "name": "stderr"
        }
      ]
    },
    {
      "cell_type": "markdown",
      "metadata": {
        "id": "AF4iRplMoBDz",
        "colab_type": "text"
      },
      "source": [
        "#### _+_ 시리즈와 데이터프레임을 엑셀 파일로 저장하기\n",
        ">시리즈는 엑셀 구조와 맞지 않기 때문에 엑셀 파일로 저장할 수 없습니다. 엑셀 파일로 저장할 수 있는 데이터프레임으로 변환해야 합니다. 물론 데이터프레임은 엑셀 파일로 바로 저장할 수 있습니다. 단, xls 파일로 저장하려면 xlwt 라이브러리가 필요하고, xlsx 파일로 저장하려면 openpyxl 라이브러리가 필요합니다. 다음 명령어를 프롬프트에 입력하여 xlwt 라이브러리와 openpyxl 라이브러리를 설치하세요.(colab의 경우 두 라이브러리 모두 내장되어있습니다.)\n",
        "```\n",
        "pip install xlwt\n",
        "pip install openpyxl\n",
        "```\n",
        ">시리즈는 to_frame 메서드를 사용해 데이터프레임으로 변환한 다음 엑셀 파일로 저장해야 합니다. 다음은 시리즈를 데이터프레임으로 변환한 다음 엑셀 파일(확장자 xls, xlsx)로 저장한 것입니다."
      ]
    },
    {
      "cell_type": "code",
      "metadata": {
        "id": "S0cdHzAApIrj",
        "colab_type": "code",
        "colab": {}
      },
      "source": [
        "names_df = names.to_frame()\n",
        "\n",
        "import xlwt\n",
        "names_df.to_excel('/content/drive/My Drive/Colab Notebooks/pandas/write_data/names_df.xls')\n",
        "\n",
        "import openpyxl\n",
        "names_df.to_excel('/content/drive/My Drive/Colab Notebooks/pandas/write_data/names_df.xlsx')"
      ],
      "execution_count": 0,
      "outputs": []
    }
  ]
}