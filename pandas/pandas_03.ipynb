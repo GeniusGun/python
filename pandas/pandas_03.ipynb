{
  "nbformat": 4,
  "nbformat_minor": 0,
  "metadata": {
    "colab": {
      "name": "pandas_03.ipynb",
      "provenance": [],
      "toc_visible": true,
      "authorship_tag": "ABX9TyNwCtzc/FNBYiy6KZJhowfJ",
      "include_colab_link": true
    },
    "kernelspec": {
      "name": "python3",
      "display_name": "Python 3"
    }
  },
  "cells": [
    {
      "cell_type": "markdown",
      "metadata": {
        "id": "view-in-github",
        "colab_type": "text"
      },
      "source": [
        "<a href=\"https://colab.research.google.com/github/GeniusGun/python/blob/master/pandas/pandas_03.ipynb\" target=\"_parent\"><img src=\"https://colab.research.google.com/assets/colab-badge.svg\" alt=\"Open In Colab\"/></a>"
      ]
    },
    {
      "cell_type": "code",
      "metadata": {
        "id": "jjIH4kGE6igs",
        "colab_type": "code",
        "outputId": "ff9c2e2a-c6c2-45d4-e2b3-2a356f8dfe42",
        "colab": {
          "base_uri": "https://localhost:8080/",
          "height": 127
        }
      },
      "source": [
        "from google.colab import drive\n",
        "drive.mount('/content/drive')"
      ],
      "execution_count": 1,
      "outputs": [
        {
          "output_type": "stream",
          "text": [
            "Go to this URL in a browser: https://accounts.google.com/o/oauth2/auth?client_id=947318989803-6bn6qk8qdgf4n4g3pfee6491hc0brc4i.apps.googleusercontent.com&redirect_uri=urn%3aietf%3awg%3aoauth%3a2.0%3aoob&response_type=code&scope=email%20https%3a%2f%2fwww.googleapis.com%2fauth%2fdocs.test%20https%3a%2f%2fwww.googleapis.com%2fauth%2fdrive%20https%3a%2f%2fwww.googleapis.com%2fauth%2fdrive.photos.readonly%20https%3a%2f%2fwww.googleapis.com%2fauth%2fpeopleapi.readonly\n",
            "\n",
            "Enter your authorization code:\n",
            "··········\n",
            "Mounted at /content/drive\n"
          ],
          "name": "stdout"
        }
      ]
    },
    {
      "cell_type": "markdown",
      "metadata": {
        "id": "aW-0kvfM7IpK",
        "colab_type": "text"
      },
      "source": [
        "# 03-1 나만의 데이터 만들기"
      ]
    },
    {
      "cell_type": "markdown",
      "metadata": {
        "id": "WHNCC2ZM9wSK",
        "colab_type": "text"
      },
      "source": [
        "## [1]"
      ]
    },
    {
      "cell_type": "markdown",
      "metadata": {
        "id": "2xJn8IxB7PDV",
        "colab_type": "text"
      },
      "source": [
        "### (1) 시리즈와 데이터프레임 직접 만들기"
      ]
    },
    {
      "cell_type": "markdown",
      "metadata": {
        "id": "_KYNM_p28B0m",
        "colab_type": "text"
      },
      "source": [
        " #### _1._\n",
        ">판다스의 Series 메서드에 리스트를 전달하여 시리즈를 생성합니다."
      ]
    },
    {
      "cell_type": "code",
      "metadata": {
        "id": "GOABRcRU6d3h",
        "colab_type": "code",
        "outputId": "2f403487-f22b-4ea6-8e23-6e6c488cb355",
        "colab": {
          "base_uri": "https://localhost:8080/",
          "height": 71
        }
      },
      "source": [
        "import pandas as pd\n",
        "s = pd.Series(['banana', 42])\n",
        "print(s)"
      ],
      "execution_count": 2,
      "outputs": [
        {
          "output_type": "stream",
          "text": [
            "0    banana\n",
            "1        42\n",
            "dtype: object\n"
          ],
          "name": "stdout"
        }
      ]
    },
    {
      "cell_type": "markdown",
      "metadata": {
        "id": "-ZZfBY918juc",
        "colab_type": "text"
      },
      "source": [
        " #### _2._\n",
        ">[ 02 장 ]에서 인덱스는 보통 0부터 시작한다고 설명했던 것을 기억하나요? 하지만 시리즈를 생성할 때 문자열을 인덱스로 지정할 수도 있습니다. 문자열을 인덱스로 지정하려면 Series 메서드의 index 인자를 통해 인덱스로 사용하고자 하는 문자열을 리스트에 담아 전달하면 됩니다."
      ]
    },
    {
      "cell_type": "code",
      "metadata": {
        "id": "3zZ32n-49J9f",
        "colab_type": "code",
        "outputId": "90eca19c-8b99-4832-df0b-61fea752d79f",
        "colab": {
          "base_uri": "https://localhost:8080/",
          "height": 143
        }
      },
      "source": [
        "s = pd.Series(['Wes McKinny', 'Creator of Pandas'])\n",
        "print(s)\n",
        "print('-'*30)\n",
        "\n",
        "s = pd.Series(['Wes McKinny', 'Creator of Pandas'], index=['Person', 'Who'])\n",
        "print(s)"
      ],
      "execution_count": 3,
      "outputs": [
        {
          "output_type": "stream",
          "text": [
            "0          Wes McKinny\n",
            "1    Creator of Pandas\n",
            "dtype: object\n",
            "------------------------------\n",
            "Person          Wes McKinny\n",
            "Who       Creator of Pandas\n",
            "dtype: object\n"
          ],
          "name": "stdout"
        }
      ]
    },
    {
      "cell_type": "markdown",
      "metadata": {
        "id": "hhdpCtxB9-lO",
        "colab_type": "text"
      },
      "source": [
        "#### _3._ 데이터프레임 만들기\n",
        "> 데이터프레임을 만들기 위해서는 딕셔너리를 DataFrame 클래스에 전달해야 합니다."
      ]
    },
    {
      "cell_type": "code",
      "metadata": {
        "id": "eEFUWo0B-JwE",
        "colab_type": "code",
        "outputId": "bfec6bde-7d2b-4d9f-bcff-ebb2d69c58a3",
        "colab": {
          "base_uri": "https://localhost:8080/",
          "height": 71
        }
      },
      "source": [
        "scientists = pd.DataFrame({\n",
        "    'Name' : ['Rosaline Franklin', 'William Gosset'],\n",
        "    'Occupation' : ['Chemist', 'Statistician'],\n",
        "    'Born' : ['1920-07-25', '1876-06-13'],\n",
        "    'Died' : ['1958-04-16', '1937-10-16'],\n",
        "    'Age' : [37, 61]\n",
        "})\n",
        "print(scientists)"
      ],
      "execution_count": 4,
      "outputs": [
        {
          "output_type": "stream",
          "text": [
            "                Name    Occupation        Born        Died  Age\n",
            "0  Rosaline Franklin       Chemist  1920-07-25  1958-04-16   37\n",
            "1     William Gosset  Statistician  1876-06-13  1937-10-16   61\n"
          ],
          "name": "stdout"
        }
      ]
    },
    {
      "cell_type": "markdown",
      "metadata": {
        "id": "i4sri3_X_wIb",
        "colab_type": "text"
      },
      "source": [
        " #### _4._\n",
        ">시리즈와 마찬가지로 데이터프레임도 인덱스를 따로 지정하지 않으면 인덱스를 0부터 자동으로 생성합니다. 인덱스를 따로 지정하려면 index 인자에 리스트를 전달하면 됩니다. 또 columns인자를 사용하면 데이터프레임의 열 순서를 지정할 수 있습니다. 예를 들어 데이터프레임을 만들때 Occuptaion, Born, Died, Age의 순으로 딕셔너리를 전달했어도 columns 인자에 Occuption, Born, Age, Died의 순서로 열 이름을 전달하면 생성된 데이터프레임의 열 순서는 columns에 전달한 값을 따라갑니다."
      ]
    },
    {
      "cell_type": "code",
      "metadata": {
        "id": "3u9pVOk1Ae6P",
        "colab_type": "code",
        "outputId": "f91219d6-c3c8-4caf-8a4e-8a168cea967e",
        "colab": {
          "base_uri": "https://localhost:8080/",
          "height": 71
        }
      },
      "source": [
        "scientists = pd.DataFrame(\n",
        "    data = {'Occupation' : ['Chemist', 'Statistician'],\n",
        "            'Born' : ['1920-07-25', '1876-06-13'],\n",
        "            'Died' : ['1958-04-16', '1937-10-16'],\n",
        "            'Age' : [37, 61]},\n",
        "    index = ['Rosaline Franklin', 'William Gosset'],\n",
        "    columns = ['Occupation', 'Born', 'Age', 'Died']\n",
        ")\n",
        "\n",
        "print(scientists)"
      ],
      "execution_count": 5,
      "outputs": [
        {
          "output_type": "stream",
          "text": [
            "                     Occupation        Born  Age        Died\n",
            "Rosaline Franklin       Chemist  1920-07-25   37  1958-04-16\n",
            "William Gosset     Statistician  1876-06-13   61  1937-10-16\n"
          ],
          "name": "stdout"
        }
      ]
    },
    {
      "cell_type": "markdown",
      "metadata": {
        "id": "DRbvUurXBu_H",
        "colab_type": "text"
      },
      "source": [
        "#### _5._\n",
        ">[ 과정 1 ]에서 데이터프레임을 만들 때 딕셔너리를 전달한다고 했습니다.그런데 딕셔너리는 키(Key)와 값(Value)으로 이루어진 한 쌍의 데이터들의 순서는 보장하지 않습니다. 만약 순서가 보장된 딕셔너리를 전달하려면 OrderedDict를 사용해야 합니다. 다음과 같이 입력하면 딕셔너리의 데이터 수너를 그대로 유지하면서 데이터프레임을 만들 수 있습니다."
      ]
    },
    {
      "cell_type": "code",
      "metadata": {
        "id": "b4C4wshZCqOp",
        "colab_type": "code",
        "outputId": "46d81acd-5332-472e-9562-a4dcf3d5f263",
        "colab": {
          "base_uri": "https://localhost:8080/",
          "height": 71
        }
      },
      "source": [
        "from collections import OrderedDict\n",
        "\n",
        "scientists = pd.DataFrame(OrderedDict([\n",
        "                                       ('Name', ['Rosaline Franklin', 'William Gosset']),\n",
        "                                       ('Occupation', ['Chemist', 'Statistician']),\n",
        "                                       ('Born', ['1920-07-25', '1876-06-13']),\n",
        "                                       ('Died', ['1958-04-16', '1937-10-16']),\n",
        "                                       ('Age', [37, 61])\n",
        "]))\n",
        "print(scientists)"
      ],
      "execution_count": 6,
      "outputs": [
        {
          "output_type": "stream",
          "text": [
            "                Name    Occupation        Born        Died  Age\n",
            "0  Rosaline Franklin       Chemist  1920-07-25  1958-04-16   37\n",
            "1     William Gosset  Statistician  1876-06-13  1937-10-16   61\n"
          ],
          "name": "stdout"
        }
      ]
    },
    {
      "cell_type": "markdown",
      "metadata": {
        "id": "SShSijA1x0yy",
        "colab_type": "text"
      },
      "source": [
        "# 03-2 시리즈 다루기 - 기초\n",
        ">판다스의 데이터를 구성하는 가장 기본 단위는 시리즈입니다. 이번에는 데이터프레임에서 시리즈를 선택하는 방법에 대해 알아보겠습니다."
      ]
    },
    {
      "cell_type": "markdown",
      "metadata": {
        "id": "bNLlpE_9yGua",
        "colab_type": "text"
      },
      "source": [
        "## [1]"
      ]
    },
    {
      "cell_type": "markdown",
      "metadata": {
        "id": "c8qj77csyI0_",
        "colab_type": "text"
      },
      "source": [
        "### (1) 데이터프레임에서 시리즈 선택하기"
      ]
    },
    {
      "cell_type": "markdown",
      "metadata": {
        "id": "LEuCyXYtyNKf",
        "colab_type": "text"
      },
      "source": [
        "#### _1._\n",
        ">먼저 변수 Scientists에 데이터프레임을 준비합니다."
      ]
    },
    {
      "cell_type": "code",
      "metadata": {
        "id": "dUZp2FEGyW3O",
        "colab_type": "code",
        "colab": {
          "base_uri": "https://localhost:8080/",
          "height": 71
        },
        "outputId": "f071c8d1-a9cc-4109-a828-898581f901bb"
      },
      "source": [
        "scientists = pd.DataFrame(\n",
        "    data = {'Occupation': ['Chemist', 'Statistician'],\n",
        "            'Born' : ['1920-07-25', '1876-06-13'],\n",
        "            'Died' : ['1958-04-16', '1937-10-16'],\n",
        "            'Age' : [37, 61]},   \n",
        "    index = ['Rosaline Franklin', 'William Gosset'],\n",
        "    columns = ['Occupation', 'Born', 'Died', 'Age']\n",
        ");print(scientists)"
      ],
      "execution_count": 19,
      "outputs": [
        {
          "output_type": "stream",
          "text": [
            "                     Occupation        Born        Died  Age\n",
            "Rosaline Franklin       Chemist  1920-07-25  1958-04-16   37\n",
            "William Gosset     Statistician  1876-06-13  1937-10-16   61\n"
          ],
          "name": "stdout"
        }
      ]
    },
    {
      "cell_type": "markdown",
      "metadata": {
        "id": "fgXvoGFrznME",
        "colab_type": "text"
      },
      "source": [
        "#### _2._\n",
        ">데이터프레임에서 시리즈를 선택하려면 loc 속성에 인덱스(과학자 이름)를 전달하면 됩니다. 절말 시리즈를 선택한 것인지 확인하기 위해 type으로 한 번 더 검사합니다."
      ]
    },
    {
      "cell_type": "code",
      "metadata": {
        "id": "cBu6721xz79d",
        "colab_type": "code",
        "colab": {
          "base_uri": "https://localhost:8080/",
          "height": 35
        },
        "outputId": "859603fd-fe7e-4c77-d4df-58936c6c9e61"
      },
      "source": [
        "first_row = scientists.loc['William Gosset']\n",
        "print(type(first_row))"
      ],
      "execution_count": 14,
      "outputs": [
        {
          "output_type": "stream",
          "text": [
            "<class 'pandas.core.series.Series'>\n"
          ],
          "name": "stdout"
        }
      ]
    },
    {
      "cell_type": "markdown",
      "metadata": {
        "id": "aqf73C4k0kp_",
        "colab_type": "text"
      },
      "source": [
        "#### _3._\n",
        ">forst_row를 출력해 보겠습니다. 여기서 주목해야 할 점은 데이터프레임을 만들 때 Age열에 정수형 리스트를 전달해도 시리즈(first_row)를 출력해 보면 시리즈의 자료형을 오브젝트로 인식한다는 점입니다."
      ]
    },
    {
      "cell_type": "code",
      "metadata": {
        "id": "OX-IaYdU08Gn",
        "colab_type": "code",
        "colab": {
          "base_uri": "https://localhost:8080/",
          "height": 107
        },
        "outputId": "852feb36-89ee-470c-a1d8-153a64374abc"
      },
      "source": [
        "print(first_row)        # Age의 자료형은 무시합니다."
      ],
      "execution_count": 15,
      "outputs": [
        {
          "output_type": "stream",
          "text": [
            "Occupation    Statistician\n",
            "Born            1876-06-13\n",
            "Died            1937-10-16\n",
            "Age                     61\n",
            "Name: William Gosset, dtype: object\n"
          ],
          "name": "stdout"
        }
      ]
    },
    {
      "cell_type": "markdown",
      "metadata": {
        "id": "fVCdXWkK1HKI",
        "colab_type": "text"
      },
      "source": [
        "## [2] 시리즈 속성과 메서드 사용하기 - index, values, keys"
      ]
    },
    {
      "cell_type": "markdown",
      "metadata": {
        "id": "IxJG5OV11Pn6",
        "colab_type": "text"
      },
      "source": [
        "### (1) index, values 속성과 keys 메서드 사용하기"
      ]
    },
    {
      "cell_type": "markdown",
      "metadata": {
        "id": "7E5Yy8zE1fIJ",
        "colab_type": "text"
      },
      "source": [
        "#### _1._ index 속성 사용하기\n",
        ">먼저 index 속성을 사용해 보겠습니다. index 속성에는 시리즈의 인덱스가 들어 있습니다."
      ]
    },
    {
      "cell_type": "code",
      "metadata": {
        "id": "1HTNlJ8D1v2s",
        "colab_type": "code",
        "colab": {
          "base_uri": "https://localhost:8080/",
          "height": 35
        },
        "outputId": "7419e779-02b3-43c4-91e9-3ef364aa1268"
      },
      "source": [
        "print(first_row.index)"
      ],
      "execution_count": 17,
      "outputs": [
        {
          "output_type": "stream",
          "text": [
            "Index(['Occupation', 'Born', 'Died', 'Age'], dtype='object')\n"
          ],
          "name": "stdout"
        }
      ]
    },
    {
      "cell_type": "markdown",
      "metadata": {
        "id": "K-QyvuEV3FiG",
        "colab_type": "text"
      },
      "source": [
        "#### _2._ values 속성 사용하기\n",
        ">values 속성에는 시리즈의 데이터가 저장되어 있습니다."
      ]
    },
    {
      "cell_type": "code",
      "metadata": {
        "id": "_AZffRqU3B4R",
        "colab_type": "code",
        "colab": {
          "base_uri": "https://localhost:8080/",
          "height": 35
        },
        "outputId": "98d5e192-68f6-4048-88b4-a8ecd08f7396"
      },
      "source": [
        "print(first_row.values)"
      ],
      "execution_count": 18,
      "outputs": [
        {
          "output_type": "stream",
          "text": [
            "['Statistician' '1876-06-13' '1937-10-16' 61]\n"
          ],
          "name": "stdout"
        }
      ]
    },
    {
      "cell_type": "markdown",
      "metadata": {
        "id": "mkQWiLpk34hx",
        "colab_type": "text"
      },
      "source": [
        "#### _3._ keys 메서드 사용하기\n",
        ">keys는 속성이 아니라 메서드 입니다. keys 메서드의 기능은 무엇일까요? keys 메서드는 index 속성과 같은 역할을 합니다. 즉 [ 과정 1 ] 의 결과와 동일한 결과값을 얻을 수 있습니다."
      ]
    },
    {
      "cell_type": "code",
      "metadata": {
        "id": "0v4l-UTE4PZj",
        "colab_type": "code",
        "colab": {
          "base_uri": "https://localhost:8080/",
          "height": 35
        },
        "outputId": "6d0edaee-3a45-4bf3-e10b-a044dc2c7816"
      },
      "source": [
        "print(first_row.keys())"
      ],
      "execution_count": 20,
      "outputs": [
        {
          "output_type": "stream",
          "text": [
            "Index(['Occupation', 'Born', 'Died', 'Age'], dtype='object')\n"
          ],
          "name": "stdout"
        }
      ]
    },
    {
      "cell_type": "markdown",
      "metadata": {
        "id": "LdfwRk4o4h5h",
        "colab_type": "text"
      },
      "source": [
        "#### _4._ index 속성 응용하기\n",
        "> 만약 index 속성의 첫 번째 값을 추출하려면 다음과 같이 코드를 작성하면 됩니다."
      ]
    },
    {
      "cell_type": "code",
      "metadata": {
        "id": "W4dj5Tmm4wfN",
        "colab_type": "code",
        "colab": {
          "base_uri": "https://localhost:8080/",
          "height": 35
        },
        "outputId": "c10f4a8e-c0a8-4b6e-87f5-b4c946e6fd13"
      },
      "source": [
        "print(first_row.index[0])"
      ],
      "execution_count": 21,
      "outputs": [
        {
          "output_type": "stream",
          "text": [
            "Occupation\n"
          ],
          "name": "stdout"
        }
      ]
    },
    {
      "cell_type": "markdown",
      "metadata": {
        "id": "AEihRrRE44RY",
        "colab_type": "text"
      },
      "source": [
        "#### _5._ keys 메서드 응용하기\n",
        "> 시리즈에는 keys 메서드의 결과값을 이욜하여 인덱스의 첫 번째 값을 추출하는 방법은 다음과 같습니다."
      ]
    },
    {
      "cell_type": "code",
      "metadata": {
        "id": "bL6mnUKw5HWY",
        "colab_type": "code",
        "colab": {
          "base_uri": "https://localhost:8080/",
          "height": 35
        },
        "outputId": "5f848106-e957-4625-b080-0ae043a82107"
      },
      "source": [
        "print(first_row.keys()[0])"
      ],
      "execution_count": 23,
      "outputs": [
        {
          "output_type": "stream",
          "text": [
            "Occupation\n"
          ],
          "name": "stdout"
        }
      ]
    },
    {
      "cell_type": "markdown",
      "metadata": {
        "id": "aOnSE9fr7LXS",
        "colab_type": "text"
      },
      "source": [
        "## [3] 시리즈의 기초 통계 메서드 사용하기\n",
        ">시리즈에는 keys 메서드 외에도 다양한 메서드가 있습니다. 이번에는 시리즈에 미리 정의되어 있는 mean, min, max, std 메서드의 사용방법을 알아보겠습니다."
      ]
    },
    {
      "cell_type": "markdown",
      "metadata": {
        "id": "lZuqO91u7l7A",
        "colab_type": "text"
      },
      "source": [
        "### (1) 시리즈의 mean, min, max, std 메서드 사용하기"
      ]
    },
    {
      "cell_type": "markdown",
      "metadata": {
        "id": "Wj9JTjt27ub_",
        "colab_type": "text"
      },
      "source": [
        "#### _1._\n",
        "> 이번에는 scientists의 Age 열을 추출해 보겠습니다."
      ]
    },
    {
      "cell_type": "code",
      "metadata": {
        "id": "4s9wTaCM783V",
        "colab_type": "code",
        "colab": {
          "base_uri": "https://localhost:8080/",
          "height": 71
        },
        "outputId": "060b1dd0-907e-4a34-c11c-1c4c5b1cf9a3"
      },
      "source": [
        "ages = scientists['Age']\n",
        "print(ages)"
      ],
      "execution_count": 25,
      "outputs": [
        {
          "output_type": "stream",
          "text": [
            "Rosaline Franklin    37\n",
            "William Gosset       61\n",
            "Name: Age, dtype: int64\n"
          ],
          "name": "stdout"
        }
      ]
    },
    {
      "cell_type": "markdown",
      "metadata": {
        "id": "7feb3Lna8Wd5",
        "colab_type": "text"
      },
      "source": [
        "#### _2._\n",
        ">만약 시리즈를 구성하는 데이터가 정수라면 mean, min, max, std와 같은 통계 메서드를 사용할 수 있습니다."
      ]
    },
    {
      "cell_type": "code",
      "metadata": {
        "id": "x9pdqNRW8iFj",
        "colab_type": "code",
        "colab": {
          "base_uri": "https://localhost:8080/",
          "height": 143
        },
        "outputId": "f183835f-8128-4ac2-d9a3-c6f66df6f39e"
      },
      "source": [
        "print(ages.mean())\n",
        "print('-'*20)\n",
        "\n",
        "print(ages.min())\n",
        "print('-'*20)\n",
        "\n",
        "print(ages.max())\n",
        "print('-'*20)\n",
        "\n",
        "print(ages.std())"
      ],
      "execution_count": 32,
      "outputs": [
        {
          "output_type": "stream",
          "text": [
            "49.0\n",
            "--------------------\n",
            "37\n",
            "--------------------\n",
            "61\n",
            "--------------------\n",
            "16.97056274847714\n"
          ],
          "name": "stdout"
        }
      ]
    },
    {
      "cell_type": "markdown",
      "metadata": {
        "id": "0Z9MoQF39GC8",
        "colab_type": "text"
      },
      "source": [
        "#### _6._ 시리즈 메서드 정리\n",
        "> 다음은 시리즈에서 자주 사용하는 메서드를 정리한 표입니다. 앞으로 종종 사용할 메서드이므로 한 번 읽어보고 넘어가기 바랍니다.\n",
        ">```\n",
        ">시리즈 메서드       설명\n",
        ">-----------------------------------------------------------------\n",
        "append              2개 이상의 시리즈 연결\n",
        "describe            요약 통계량 계산\n",
        "drop_duplicates     중복값이 없는 시리즈 반환\n",
        "equals              시리즈에 해당 값을 가진 요소가 있는지 확인\n",
        "get_values          시리즈 값 구하기(value 속성과 동일)\n",
        "isin                시리즈에 포함된 값이 있는지 확인\n",
        "min                 최소값 반환\n",
        "max                 최대값 반환\n",
        "mean                산술 평균 반환\n",
        "median              중간값 반환\n",
        "replace             특정 값을 가진 시리즈 값을 교체\n",
        "sample              시리즈에서 임의의 값을 반환\n",
        "sort_values         값을 정렬\n",
        "to_frame            시리즈를 데이터프레임으로 변환\n",
        "```"
      ]
    }
  ]
}