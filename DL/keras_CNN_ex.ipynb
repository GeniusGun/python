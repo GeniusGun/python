{
  "nbformat": 4,
  "nbformat_minor": 0,
  "metadata": {
    "colab": {
      "name": "keras_CNN_ex.ipynb",
      "provenance": [],
      "collapsed_sections": [],
      "authorship_tag": "ABX9TyM3e04WcBuhuExou4623iMJ",
      "include_colab_link": true
    },
    "kernelspec": {
      "name": "python3",
      "display_name": "Python 3"
    },
    "accelerator": "GPU"
  },
  "cells": [
    {
      "cell_type": "markdown",
      "metadata": {
        "id": "view-in-github",
        "colab_type": "text"
      },
      "source": [
        "<a href=\"https://colab.research.google.com/github/GeniusGun/python/blob/master/DL/keras_CNN_ex.ipynb\" target=\"_parent\"><img src=\"https://colab.research.google.com/assets/colab-badge.svg\" alt=\"Open In Colab\"/></a>"
      ]
    },
    {
      "cell_type": "code",
      "metadata": {
        "id": "7KYU5IYDEP72",
        "colab_type": "code",
        "outputId": "083ce397-5928-470f-d471-12785655dcad",
        "colab": {
          "base_uri": "https://localhost:8080/",
          "height": 35
        }
      },
      "source": [
        "# !pip install --upgrade tensorflow\n",
        "# !pip install --upgrade tensorflow_gpu==2.1.0-rc2\n",
        "# !pip install --upgrade grpcio\n",
        "# !pip install --upgrade google-auth\n",
        "\n",
        "import tensorflow as tf\n",
        "import matplotlib.pyplot as plt\n",
        "import numpy as np\n",
        "tf.__version__"
      ],
      "execution_count": 4,
      "outputs": [
        {
          "output_type": "execute_result",
          "data": {
            "text/plain": [
              "'2.1.0-rc2'"
            ]
          },
          "metadata": {
            "tags": []
          },
          "execution_count": 4
        }
      ]
    },
    {
      "cell_type": "code",
      "metadata": {
        "id": "-pZ9xFWrRjfn",
        "colab_type": "code",
        "colab": {}
      },
      "source": [
        "w = np.array([2, 1, 5, 3])\n",
        "x = np.array([2, 8, 3, 7, 1, 2, 0, 4, 5])"
      ],
      "execution_count": 0,
      "outputs": []
    },
    {
      "cell_type": "code",
      "metadata": {
        "id": "BI_GZrxxRoNB",
        "colab_type": "code",
        "colab": {}
      },
      "source": [
        "w = np.array([2, 1, 5, 3])\n",
        "x = np.array([2, 8, 3, 7, 1, 2, 0, 4, 5])"
      ],
      "execution_count": 0,
      "outputs": []
    },
    {
      "cell_type": "code",
      "metadata": {
        "id": "3EFkqHhlRop4",
        "colab_type": "code",
        "outputId": "2d150f22-7164-451b-e92f-1f8481be7485",
        "colab": {
          "base_uri": "https://localhost:8080/",
          "height": 35
        }
      },
      "source": [
        "w_r = np.flip(w)\n",
        "print(w_r)"
      ],
      "execution_count": 7,
      "outputs": [
        {
          "output_type": "stream",
          "text": [
            "[3 5 1 2]\n"
          ],
          "name": "stdout"
        }
      ]
    },
    {
      "cell_type": "code",
      "metadata": {
        "id": "p3Ec2gM9RrAe",
        "colab_type": "code",
        "outputId": "0edbbc76-f353-4c13-c50e-98adfd33e1f5",
        "colab": {
          "base_uri": "https://localhost:8080/",
          "height": 35
        }
      },
      "source": [
        "w[0:4:2]"
      ],
      "execution_count": 8,
      "outputs": [
        {
          "output_type": "execute_result",
          "data": {
            "text/plain": [
              "array([2, 5])"
            ]
          },
          "metadata": {
            "tags": []
          },
          "execution_count": 8
        }
      ]
    },
    {
      "cell_type": "code",
      "metadata": {
        "id": "if0DcH6nRsSr",
        "colab_type": "code",
        "outputId": "1505153c-2b0b-4d3b-be7d-224ebc628c68",
        "colab": {
          "base_uri": "https://localhost:8080/",
          "height": 125
        }
      },
      "source": [
        "for i in range(6):\n",
        "    print(np.dot(x[i:i+4], w_r))"
      ],
      "execution_count": 9,
      "outputs": [
        {
          "output_type": "stream",
          "text": [
            "63\n",
            "48\n",
            "49\n",
            "28\n",
            "21\n",
            "20\n"
          ],
          "name": "stdout"
        }
      ]
    },
    {
      "cell_type": "code",
      "metadata": {
        "colab_type": "code",
        "id": "LcHrNGFuep0T",
        "colab": {}
      },
      "source": [
        "from scipy.signal import convolve"
      ],
      "execution_count": 0,
      "outputs": []
    },
    {
      "cell_type": "code",
      "metadata": {
        "id": "INh3q3xIRusQ",
        "colab_type": "code",
        "outputId": "ed588668-6f5f-4ecd-e4ac-7d35672e8edc",
        "colab": {
          "base_uri": "https://localhost:8080/",
          "height": 35
        }
      },
      "source": [
        "convolve(x, w, mode='valid')"
      ],
      "execution_count": 11,
      "outputs": [
        {
          "output_type": "execute_result",
          "data": {
            "text/plain": [
              "array([63, 48, 49, 28, 21, 20])"
            ]
          },
          "metadata": {
            "tags": []
          },
          "execution_count": 11
        }
      ]
    },
    {
      "cell_type": "code",
      "metadata": {
        "id": "A2h_AsnURwif",
        "colab_type": "code",
        "colab": {}
      },
      "source": [
        "from scipy.signal import correlate"
      ],
      "execution_count": 0,
      "outputs": []
    },
    {
      "cell_type": "code",
      "metadata": {
        "id": "N2lsQLnXRx9m",
        "colab_type": "code",
        "outputId": "93f4b063-3073-43ac-e6fa-0d70678b93d7",
        "colab": {
          "base_uri": "https://localhost:8080/",
          "height": 35
        }
      },
      "source": [
        "correlate(x, w, mode='valid')"
      ],
      "execution_count": 13,
      "outputs": [
        {
          "output_type": "execute_result",
          "data": {
            "text/plain": [
              "array([48, 57, 24, 25, 16, 39])"
            ]
          },
          "metadata": {
            "tags": []
          },
          "execution_count": 13
        }
      ]
    },
    {
      "cell_type": "code",
      "metadata": {
        "id": "9-oJIiwlRzf8",
        "colab_type": "code",
        "outputId": "73247652-54d5-4c92-b5d1-cbc00f7b1d62",
        "colab": {
          "base_uri": "https://localhost:8080/",
          "height": 35
        }
      },
      "source": [
        "correlate(x, w, mode='full')"
      ],
      "execution_count": 14,
      "outputs": [
        {
          "output_type": "execute_result",
          "data": {
            "text/plain": [
              "array([ 6, 34, 51, 48, 57, 24, 25, 16, 39, 29, 13, 10])"
            ]
          },
          "metadata": {
            "tags": []
          },
          "execution_count": 14
        }
      ]
    },
    {
      "cell_type": "code",
      "metadata": {
        "id": "fQXmdJ7ZR1kX",
        "colab_type": "code",
        "outputId": "e2c38d98-b0b3-4549-ba1c-ad6920f86f01",
        "colab": {
          "base_uri": "https://localhost:8080/",
          "height": 35
        }
      },
      "source": [
        "correlate(x, w, mode='same')"
      ],
      "execution_count": 15,
      "outputs": [
        {
          "output_type": "execute_result",
          "data": {
            "text/plain": [
              "array([34, 51, 48, 57, 24, 25, 16, 39, 29])"
            ]
          },
          "metadata": {
            "tags": []
          },
          "execution_count": 15
        }
      ]
    },
    {
      "cell_type": "code",
      "metadata": {
        "id": "9Dpm3kAdR3hX",
        "colab_type": "code",
        "colab": {}
      },
      "source": [
        "x = np.array([[1, 2, 3],\n",
        "              [4, 5, 6],\n",
        "              [7, 8, 9]])\n",
        "w = np.array([[2, 0], [0, 0]])"
      ],
      "execution_count": 0,
      "outputs": []
    },
    {
      "cell_type": "code",
      "metadata": {
        "id": "ArR2Yie-R4rm",
        "colab_type": "code",
        "outputId": "d61cdef4-867b-4df6-ac15-d8736bb13dec",
        "colab": {
          "base_uri": "https://localhost:8080/",
          "height": 53
        }
      },
      "source": [
        "from scipy.signal import correlate2d\n",
        "\n",
        "correlate2d(x, w, mode='valid')"
      ],
      "execution_count": 17,
      "outputs": [
        {
          "output_type": "execute_result",
          "data": {
            "text/plain": [
              "array([[ 2,  4],\n",
              "       [ 8, 10]])"
            ]
          },
          "metadata": {
            "tags": []
          },
          "execution_count": 17
        }
      ]
    },
    {
      "cell_type": "code",
      "metadata": {
        "id": "F5-HyLPnR5tP",
        "colab_type": "code",
        "outputId": "d39dbe80-3b86-48e9-d1e2-bb9fb3d5e02b",
        "colab": {
          "base_uri": "https://localhost:8080/",
          "height": 53
        }
      },
      "source": [
        "np.flip(w)"
      ],
      "execution_count": 18,
      "outputs": [
        {
          "output_type": "execute_result",
          "data": {
            "text/plain": [
              "array([[0, 0],\n",
              "       [0, 2]])"
            ]
          },
          "metadata": {
            "tags": []
          },
          "execution_count": 18
        }
      ]
    },
    {
      "cell_type": "code",
      "metadata": {
        "id": "TbchPtrSR7FR",
        "colab_type": "code",
        "outputId": "3285de3a-2886-4c0c-e2fb-bdd9c57f9687",
        "colab": {
          "base_uri": "https://localhost:8080/",
          "height": 53
        }
      },
      "source": [
        "from scipy.signal import convolve2d\n",
        "\n",
        "convolve2d(x, w, mode='valid')"
      ],
      "execution_count": 19,
      "outputs": [
        {
          "output_type": "execute_result",
          "data": {
            "text/plain": [
              "array([[10, 12],\n",
              "       [16, 18]])"
            ]
          },
          "metadata": {
            "tags": []
          },
          "execution_count": 19
        }
      ]
    },
    {
      "cell_type": "code",
      "metadata": {
        "id": "bpRWwzOiR8hT",
        "colab_type": "code",
        "outputId": "266b3426-9bb7-4d47-85f6-05d39cac3c5f",
        "colab": {
          "base_uri": "https://localhost:8080/",
          "height": 71
        }
      },
      "source": [
        "correlate2d(x, w, mode='same')"
      ],
      "execution_count": 20,
      "outputs": [
        {
          "output_type": "execute_result",
          "data": {
            "text/plain": [
              "array([[ 2,  4,  6],\n",
              "       [ 8, 10, 12],\n",
              "       [14, 16, 18]])"
            ]
          },
          "metadata": {
            "tags": []
          },
          "execution_count": 20
        }
      ]
    },
    {
      "cell_type": "code",
      "metadata": {
        "id": "5jqbt2aYR9qx",
        "colab_type": "code",
        "colab": {}
      },
      "source": [
        "x_4d = x.astype(np.float).reshape(1, 3, 3, 1)\n",
        "w_4d = w.reshape(2, 2, 1, 1)"
      ],
      "execution_count": 0,
      "outputs": []
    },
    {
      "cell_type": "code",
      "metadata": {
        "id": "qYoI6R5HR_F6",
        "colab_type": "code",
        "outputId": "6ccfea13-70d3-4271-bdfa-3a23b6c76c50",
        "colab": {
          "base_uri": "https://localhost:8080/",
          "height": 71
        }
      },
      "source": [
        "c_out = tf.nn.conv2d(x_4d, w_4d, strides=1, padding='SAME')\n",
        "c_out.numpy().reshape(3, 3)"
      ],
      "execution_count": 22,
      "outputs": [
        {
          "output_type": "execute_result",
          "data": {
            "text/plain": [
              "array([[ 2.,  4.,  6.],\n",
              "       [ 8., 10., 12.],\n",
              "       [14., 16., 18.]])"
            ]
          },
          "metadata": {
            "tags": []
          },
          "execution_count": 22
        }
      ]
    },
    {
      "cell_type": "markdown",
      "metadata": {
        "id": "c_hTNTRuR__Q",
        "colab_type": "text"
      },
      "source": [
        "### 풀링"
      ]
    },
    {
      "cell_type": "code",
      "metadata": {
        "id": "UQCY6EtxSFkm",
        "colab_type": "code",
        "colab": {}
      },
      "source": [
        "x = np.array([[1, 2, 3, 4],\n",
        "              [5, 6, 7, 8],\n",
        "              [9, 10, 11, 12],\n",
        "              [13, 14, 15, 16]])\n",
        "x = x.reshape(1, 4, 4, 1)"
      ],
      "execution_count": 0,
      "outputs": []
    },
    {
      "cell_type": "code",
      "metadata": {
        "id": "QVbRyPK2SG4k",
        "colab_type": "code",
        "outputId": "3a074eaf-5e56-4412-d598-3ea34e8b7cf7",
        "colab": {
          "base_uri": "https://localhost:8080/",
          "height": 53
        }
      },
      "source": [
        "p_out = tf.nn.max_pool2d(x, ksize=2, strides=2, padding='VALID')\n",
        "p_out.numpy().reshape(2, 2)"
      ],
      "execution_count": 24,
      "outputs": [
        {
          "output_type": "execute_result",
          "data": {
            "text/plain": [
              "array([[ 6,  8],\n",
              "       [14, 16]])"
            ]
          },
          "metadata": {
            "tags": []
          },
          "execution_count": 24
        }
      ]
    },
    {
      "cell_type": "markdown",
      "metadata": {
        "id": "gDC0xeqqSTX4",
        "colab_type": "text"
      },
      "source": [
        "### 합성곱 싱경망 구조"
      ]
    },
    {
      "cell_type": "code",
      "metadata": {
        "id": "ArU8tDouSIp4",
        "colab_type": "code",
        "colab": {}
      },
      "source": [
        "def relu(x):\n",
        "    return np.maximum(x, 0)"
      ],
      "execution_count": 0,
      "outputs": []
    },
    {
      "cell_type": "code",
      "metadata": {
        "id": "cXieFDZMSXsU",
        "colab_type": "code",
        "outputId": "1321d473-0546-4c09-af3b-bcfc621c3030",
        "colab": {
          "base_uri": "https://localhost:8080/",
          "height": 35
        }
      },
      "source": [
        "x = np.array([-1, 2, -3, 4, -5])\n",
        "\n",
        "relu(x)"
      ],
      "execution_count": 26,
      "outputs": [
        {
          "output_type": "execute_result",
          "data": {
            "text/plain": [
              "array([0, 2, 0, 4, 0])"
            ]
          },
          "metadata": {
            "tags": []
          },
          "execution_count": 26
        }
      ]
    },
    {
      "cell_type": "code",
      "metadata": {
        "id": "A8T3thnHSYMa",
        "colab_type": "code",
        "outputId": "52ee242e-c6c7-48b3-f129-b4cf149e2648",
        "colab": {
          "base_uri": "https://localhost:8080/",
          "height": 35
        }
      },
      "source": [
        "r_out = tf.nn.relu(x)\n",
        "r_out.numpy()"
      ],
      "execution_count": 27,
      "outputs": [
        {
          "output_type": "execute_result",
          "data": {
            "text/plain": [
              "array([0, 2, 0, 4, 0])"
            ]
          },
          "metadata": {
            "tags": []
          },
          "execution_count": 27
        }
      ]
    },
    {
      "cell_type": "markdown",
      "metadata": {
        "id": "dpP_00doSaGg",
        "colab_type": "text"
      },
      "source": [
        "### 합성곱 신경망"
      ]
    },
    {
      "cell_type": "code",
      "metadata": {
        "id": "cuzCw9o4SgX6",
        "colab_type": "code",
        "colab": {}
      },
      "source": [
        "import tensorflow as tf\n",
        "\n",
        "class ConvolutionNetwork:\n",
        "    \n",
        "    def __init__(self, n_kernels=10, units=10, batch_size=32, learning_rate=0.1):\n",
        "        self.n_kernels = n_kernels  # 합성곱의 커널 개수\n",
        "        self.kernel_size = 3        # 커널 크기\n",
        "        self.optimizer = None       # 옵티마이저\n",
        "        self.conv_w = None          # 합성곱 층의 가중치\n",
        "        self.conv_b = None          # 합성곱 층의 절편\n",
        "        self.units = units          # 은닉층의 뉴런 개수\n",
        "        self.batch_size = batch_size  # 배치 크기\n",
        "        self.w1 = None              # 은닉층의 가중치\n",
        "        self.b1 = None              # 은닉층의 절편\n",
        "        self.w2 = None              # 출력층의 가중치\n",
        "        self.b2 = None              # 출력층의 절편\n",
        "        self.a1 = None              # 은닉층의 활성화 출력\n",
        "        self.losses = []            # 훈련 손실\n",
        "        self.val_losses = []        # 검증 손실\n",
        "        self.lr = learning_rate     # 학습률\n",
        "\n",
        "    def forpass(self, x):\n",
        "        # 3x3 합성곱 연산을 수행합니다.\n",
        "        c_out = tf.nn.conv2d(x, self.conv_w, strides=1, padding='SAME') + self.conv_b\n",
        "        # 렐루 활성화 함수를 적용합니다.\n",
        "        r_out = tf.nn.relu(c_out)\n",
        "        # 2x2 최대 풀링을 적용합니다.\n",
        "        p_out = tf.nn.max_pool2d(r_out, ksize=2, strides=2, padding='VALID')\n",
        "        # 첫 번째 배치 차원을 제외하고 출력을 일렬로 펼칩니다.\n",
        "        f_out = tf.reshape(p_out, [x.shape[0], -1])\n",
        "        z1 = tf.matmul(f_out, self.w1) + self.b1     # 첫 번째 층의 선형 식을 계산합니다\n",
        "        a1 = tf.nn.relu(z1)                          # 활성화 함수를 적용합니다\n",
        "        z2 = tf.matmul(a1, self.w2) + self.b2        # 두 번째 층의 선형 식을 계산합니다.\n",
        "        return z2\n",
        "    \n",
        "    def init_weights(self, input_shape, n_classes):\n",
        "        g = tf.initializers.glorot_uniform()\n",
        "        self.conv_w = tf.Variable(g((3, 3, 1, self.n_kernels)))\n",
        "        self.conv_b = tf.Variable(np.zeros(self.n_kernels), dtype=float)\n",
        "        n_features = 14 * 14 * self.n_kernels\n",
        "        self.w1 = tf.Variable(g((n_features, self.units)))          # (특성 개수, 은닉층의 크기)\n",
        "        self.b1 = tf.Variable(np.zeros(self.units), dtype=float)    # 은닉층의 크기\n",
        "        self.w2 = tf.Variable(g((self.units, n_classes)))           # (은닉층의 크기, 클래스 개수)\n",
        "        self.b2 = tf.Variable(np.zeros(n_classes), dtype=float)     # 클래스 개수\n",
        "        \n",
        "    def fit(self, x, y, epochs=100, x_val=None, y_val=None):\n",
        "        self.init_weights(x.shape, y.shape[1])    # 은닉층과 출력층의 가중치를 초기화합니다.\n",
        "        self.optimizer = tf.optimizers.SGD(learning_rate=self.lr)\n",
        "        # epochs만큼 반복합니다.\n",
        "        for i in range(epochs):\n",
        "            print('epoch', i, end=' ')\n",
        "            # 제너레이터 함수에서 반환한 미니배치를 순환합니다.\n",
        "            batch_losses = []\n",
        "            for x_batch, y_batch in self.gen_batch(x, y):\n",
        "                print('.', end='')\n",
        "                self.training(x_batch, y_batch)\n",
        "                # 배치 손실을 기록합니다.\n",
        "                batch_losses.append(self.get_loss(x_batch, y_batch))\n",
        "            print()\n",
        "            # 배치 손실 평균내어 훈련 손실 값으로 저장합니다.\n",
        "            self.losses.append(np.mean(batch_losses))\n",
        "            # 검증 세트에 대한 손실을 계산합니다.\n",
        "            self.val_losses.append(self.get_loss(x_val, y_val))\n",
        "\n",
        "    # 미니배치 제너레이터 함수\n",
        "    def gen_batch(self, x, y):\n",
        "        bins = len(x) // self.batch_size                   # 미니배치 횟수\n",
        "        indexes = np.random.permutation(np.arange(len(x))) # 인덱스를 섞습니다.\n",
        "        x = x[indexes]\n",
        "        y = y[indexes]\n",
        "        for i in range(bins):\n",
        "            start = self.batch_size * i\n",
        "            end = self.batch_size * (i + 1)\n",
        "            yield x[start:end], y[start:end]   # batch_size만큼 슬라이싱하여 반환합니다.\n",
        "            \n",
        "    def training(self, x, y):\n",
        "        m = len(x)                    # 샘플 개수를 저장합니다.\n",
        "        with tf.GradientTape() as tape:\n",
        "            z = self.forpass(x)       # 정방향 계산을 수행합니다.\n",
        "            # 손실을 계산합니다.\n",
        "            loss = tf.nn.softmax_cross_entropy_with_logits(y, z)\n",
        "            loss = tf.reduce_mean(loss)\n",
        "\n",
        "        weights_list = [self.conv_w, self.conv_b,\n",
        "                        self.w1, self.b1, self.w2, self.b2]\n",
        "        # 가중치에 대한 그래디언트를 계산합니다.\n",
        "        grads = tape.gradient(loss, weights_list)\n",
        "        # 가중치를 업데이트합니다.\n",
        "        self.optimizer.apply_gradients(zip(grads, weights_list))\n",
        "        \n",
        "    def predict(self, x):\n",
        "        z = self.forpass(x)                 # 정방향 계산을 수행합니다.\n",
        "        return np.argmax(z.numpy(), axis=1) # 가장 큰 값의 인덱스를 반환합니다.\n",
        "    \n",
        "    def score(self, x, y):\n",
        "        # 예측과 타깃 열 벡터를 비교하여 True의 비율을 반환합니다.\n",
        "        return np.mean(self.predict(x) == np.argmax(y, axis=1))\n",
        "\n",
        "    def get_loss(self, x, y):\n",
        "        z = self.forpass(x)                 # 정방향 계산을 수행합니다.\n",
        "        # 손실을 계산하여 저장합니다.\n",
        "        loss = tf.reduce_mean(tf.nn.softmax_cross_entropy_with_logits(y, z))\n",
        "        return loss.numpy()"
      ],
      "execution_count": 0,
      "outputs": []
    },
    {
      "cell_type": "code",
      "metadata": {
        "id": "Ztv460MlShiU",
        "colab_type": "code",
        "outputId": "4fc5e09c-4244-412b-b32a-06199a51740e",
        "colab": {
          "base_uri": "https://localhost:8080/",
          "height": 35
        }
      },
      "source": [
        "x = tf.Variable(np.array([1.0, 2.0, 3.0]))\n",
        "with tf.GradientTape() as tape:\n",
        "    y = x ** 3 + 2 * x + 5\n",
        "\n",
        "# 그래디언트를 계산합니\n",
        "print(tape.gradient(y, x))"
      ],
      "execution_count": 29,
      "outputs": [
        {
          "output_type": "stream",
          "text": [
            "tf.Tensor([ 5. 14. 29.], shape=(3,), dtype=float64)\n"
          ],
          "name": "stdout"
        }
      ]
    },
    {
      "cell_type": "code",
      "metadata": {
        "id": "Xj39p-TCSjl5",
        "colab_type": "code",
        "outputId": "58b65d2c-3661-4704-b1f1-99ec125e8d3f",
        "colab": {
          "base_uri": "https://localhost:8080/",
          "height": 35
        }
      },
      "source": [
        "x = tf.Variable(np.array([1.0, 2.0, 3.0]))\n",
        "with tf.GradientTape() as tape:\n",
        "    y = tf.nn.softmax(x)\n",
        "\n",
        "# 그래디언트를 계산합니다.\n",
        "print(tape.gradient(y, x))"
      ],
      "execution_count": 30,
      "outputs": [
        {
          "output_type": "stream",
          "text": [
            "tf.Tensor([9.99540153e-18 2.71703183e-17 7.38565826e-17], shape=(3,), dtype=float64)\n"
          ],
          "name": "stdout"
        }
      ]
    },
    {
      "cell_type": "code",
      "metadata": {
        "id": "k4-XJaxwSkt3",
        "colab_type": "code",
        "colab": {
          "base_uri": "https://localhost:8080/",
          "height": 161
        },
        "outputId": "3b749af7-e467-4281-c5c5-52100d74714a"
      },
      "source": [
        "(x_train_all, y_train_all), (x_test, y_test) = tf.keras.datasets.fashion_mnist.load_data()"
      ],
      "execution_count": 31,
      "outputs": [
        {
          "output_type": "stream",
          "text": [
            "Downloading data from https://storage.googleapis.com/tensorflow/tf-keras-datasets/train-labels-idx1-ubyte.gz\n",
            "32768/29515 [=================================] - 0s 0us/step\n",
            "Downloading data from https://storage.googleapis.com/tensorflow/tf-keras-datasets/train-images-idx3-ubyte.gz\n",
            "26427392/26421880 [==============================] - 0s 0us/step\n",
            "Downloading data from https://storage.googleapis.com/tensorflow/tf-keras-datasets/t10k-labels-idx1-ubyte.gz\n",
            "8192/5148 [===============================================] - 0s 0us/step\n",
            "Downloading data from https://storage.googleapis.com/tensorflow/tf-keras-datasets/t10k-images-idx3-ubyte.gz\n",
            "4423680/4422102 [==============================] - 0s 0us/step\n"
          ],
          "name": "stdout"
        }
      ]
    },
    {
      "cell_type": "code",
      "metadata": {
        "id": "nyUutZMXSmIF",
        "colab_type": "code",
        "colab": {}
      },
      "source": [
        "from sklearn.model_selection import train_test_split\n",
        "x_train, x_val, y_train, y_val = train_test_split(x_train_all, y_train_all, stratify=y_train_all, \n",
        "                                                  test_size=0.2, random_state=42)"
      ],
      "execution_count": 0,
      "outputs": []
    },
    {
      "cell_type": "code",
      "metadata": {
        "id": "ZxUTAaxXSocT",
        "colab_type": "code",
        "colab": {}
      },
      "source": [
        "y_train_encoded = tf.keras.utils.to_categorical(y_train)\n",
        "y_val_encoded = tf.keras.utils.to_categorical(y_val)"
      ],
      "execution_count": 0,
      "outputs": []
    },
    {
      "cell_type": "code",
      "metadata": {
        "id": "O-lG6iSkSqeW",
        "colab_type": "code",
        "colab": {}
      },
      "source": [
        "x_train = x_train.reshape(-1, 28, 28, 1)\n",
        "x_val = x_val.reshape(-1, 28, 28, 1)"
      ],
      "execution_count": 0,
      "outputs": []
    },
    {
      "cell_type": "code",
      "metadata": {
        "id": "MAiO9_EkSsGu",
        "colab_type": "code",
        "outputId": "58f35d22-9b0e-4488-f7fd-597add758930",
        "colab": {
          "base_uri": "https://localhost:8080/",
          "height": 35
        }
      },
      "source": [
        "x_train.shape"
      ],
      "execution_count": 35,
      "outputs": [
        {
          "output_type": "execute_result",
          "data": {
            "text/plain": [
              "(48000, 28, 28, 1)"
            ]
          },
          "metadata": {
            "tags": []
          },
          "execution_count": 35
        }
      ]
    },
    {
      "cell_type": "code",
      "metadata": {
        "id": "N7skT_2USuav",
        "colab_type": "code",
        "colab": {}
      },
      "source": [
        "x_train = x_train / 255\n",
        "x_val = x_val / 255"
      ],
      "execution_count": 0,
      "outputs": []
    },
    {
      "cell_type": "code",
      "metadata": {
        "id": "IAV-HVpNSvlO",
        "colab_type": "code",
        "outputId": "7f8a280d-1899-4c12-9651-757dcc219408",
        "colab": {
          "base_uri": "https://localhost:8080/",
          "height": 397
        }
      },
      "source": [
        "cn = ConvolutionNetwork(n_kernels=10, units=100, batch_size=128, learning_rate=0.01)\n",
        "cn.fit(x_train, y_train_encoded, \n",
        "       x_val=x_val, y_val=y_val_encoded, epochs=20)"
      ],
      "execution_count": 37,
      "outputs": [
        {
          "output_type": "stream",
          "text": [
            "epoch 0 .......................................................................................................................................................................................................................................................................................................................................................................................\n",
            "epoch 1 .......................................................................................................................................................................................................................................................................................................................................................................................\n",
            "epoch 2 .......................................................................................................................................................................................................................................................................................................................................................................................\n",
            "epoch 3 .......................................................................................................................................................................................................................................................................................................................................................................................\n",
            "epoch 4 .......................................................................................................................................................................................................................................................................................................................................................................................\n",
            "epoch 5 .......................................................................................................................................................................................................................................................................................................................................................................................\n",
            "epoch 6 .......................................................................................................................................................................................................................................................................................................................................................................................\n",
            "epoch 7 .......................................................................................................................................................................................................................................................................................................................................................................................\n",
            "epoch 8 .......................................................................................................................................................................................................................................................................................................................................................................................\n",
            "epoch 9 .......................................................................................................................................................................................................................................................................................................................................................................................\n",
            "epoch 10 .......................................................................................................................................................................................................................................................................................................................................................................................\n",
            "epoch 11 .......................................................................................................................................................................................................................................................................................................................................................................................\n",
            "epoch 12 .......................................................................................................................................................................................................................................................................................................................................................................................\n",
            "epoch 13 .......................................................................................................................................................................................................................................................................................................................................................................................\n",
            "epoch 14 .......................................................................................................................................................................................................................................................................................................................................................................................\n",
            "epoch 15 .......................................................................................................................................................................................................................................................................................................................................................................................\n",
            "epoch 16 .......................................................................................................................................................................................................................................................................................................................................................................................\n",
            "epoch 17 .......................................................................................................................................................................................................................................................................................................................................................................................\n",
            "epoch 18 .......................................................................................................................................................................................................................................................................................................................................................................................\n",
            "epoch 19 .......................................................................................................................................................................................................................................................................................................................................................................................\n"
          ],
          "name": "stdout"
        }
      ]
    },
    {
      "cell_type": "code",
      "metadata": {
        "id": "vZ_SgCeZSwmr",
        "colab_type": "code",
        "outputId": "ea634714-293f-4140-964a-ca21474277f9",
        "colab": {
          "base_uri": "https://localhost:8080/",
          "height": 279
        }
      },
      "source": [
        "plt.plot(cn.losses)\n",
        "plt.plot(cn.val_losses)\n",
        "plt.ylabel('loss')\n",
        "plt.xlabel('iteration')\n",
        "plt.legend(['train_loss', 'val_loss'])\n",
        "plt.show()"
      ],
      "execution_count": 38,
      "outputs": [
        {
          "output_type": "display_data",
          "data": {
            "image/png": "[encoded data removed]",
            "text/plain": [
              "<Figure size 432x288 with 1 Axes>"
            ]
          },
          "metadata": {
            "tags": []
          }
        }
      ]
    },
    {
      "cell_type": "code",
      "metadata": {
        "id": "yDTl_e_5Sy8w",
        "colab_type": "code",
        "outputId": "b4a1a1d2-b49a-44da-b0f7-fcae781fcda3",
        "colab": {
          "base_uri": "https://localhost:8080/",
          "height": 35
        }
      },
      "source": [
        "cn.score(x_val, y_val_encoded)"
      ],
      "execution_count": 39,
      "outputs": [
        {
          "output_type": "execute_result",
          "data": {
            "text/plain": [
              "0.8814166666666666"
            ]
          },
          "metadata": {
            "tags": []
          },
          "execution_count": 39
        }
      ]
    },
    {
      "cell_type": "markdown",
      "metadata": {
        "id": "_MHq0B0TS0mq",
        "colab_type": "text"
      },
      "source": [
        "### 케라스 합성곱 신경망"
      ]
    },
    {
      "cell_type": "code",
      "metadata": {
        "id": "1Cv3YCRtS5L_",
        "colab_type": "code",
        "colab": {}
      },
      "source": [
        "from tensorflow.keras.layers import Conv2D, MaxPooling2D, Flatten, Dense"
      ],
      "execution_count": 0,
      "outputs": []
    },
    {
      "cell_type": "code",
      "metadata": {
        "id": "Bw3EdDGNS8mp",
        "colab_type": "code",
        "colab": {}
      },
      "source": [
        "conv1 = tf.keras.Sequential()\n",
        "conv1.add(Conv2D(10, (3, 3), activation='relu', padding='same', input_shape=(28, 28, 1)))\n",
        "conv1.add(MaxPooling2D((2, 2)))\n",
        "conv1.add(Flatten())\n",
        "conv1.add(Dense(100, activation='relu'))\n",
        "conv1.add(Dense(10, activation='softmax'))"
      ],
      "execution_count": 0,
      "outputs": []
    },
    {
      "cell_type": "code",
      "metadata": {
        "id": "Su0qz7WjS-gm",
        "colab_type": "code",
        "outputId": "d2a6a2ab-5854-4222-ad9d-a3684d718155",
        "colab": {
          "base_uri": "https://localhost:8080/",
          "height": 341
        }
      },
      "source": [
        "conv1.summary()"
      ],
      "execution_count": 42,
      "outputs": [
        {
          "output_type": "stream",
          "text": [
            "Model: \"sequential\"\n",
            "_________________________________________________________________\n",
            "Layer (type)                 Output Shape              Param #   \n",
            "=================================================================\n",
            "conv2d (Conv2D)              (None, 28, 28, 10)        100       \n",
            "_________________________________________________________________\n",
            "max_pooling2d (MaxPooling2D) (None, 14, 14, 10)        0         \n",
            "_________________________________________________________________\n",
            "flatten (Flatten)            (None, 1960)              0         \n",
            "_________________________________________________________________\n",
            "dense (Dense)                (None, 100)               196100    \n",
            "_________________________________________________________________\n",
            "dense_1 (Dense)              (None, 10)                1010      \n",
            "=================================================================\n",
            "Total params: 197,210\n",
            "Trainable params: 197,210\n",
            "Non-trainable params: 0\n",
            "_________________________________________________________________\n"
          ],
          "name": "stdout"
        }
      ]
    },
    {
      "cell_type": "code",
      "metadata": {
        "id": "7BFUrA-gS_pt",
        "colab_type": "code",
        "colab": {}
      },
      "source": [
        "conv1.compile(optimizer='adam', loss='categorical_crossentropy',\n",
        "              metrics=['accuracy'])"
      ],
      "execution_count": 0,
      "outputs": []
    },
    {
      "cell_type": "code",
      "metadata": {
        "id": "EhEY9PbtTDTK",
        "colab_type": "code",
        "outputId": "883f1942-ab80-4bc1-9dd7-1b483440a892",
        "colab": {
          "base_uri": "https://localhost:8080/",
          "height": 755
        }
      },
      "source": [
        "history = conv1.fit(x_train, y_train_encoded, epochs=20, \n",
        "                    validation_data=(x_val, y_val_encoded))"
      ],
      "execution_count": 44,
      "outputs": [
        {
          "output_type": "stream",
          "text": [
            "Train on 48000 samples, validate on 12000 samples\n",
            "Epoch 1/20\n",
            "48000/48000 [==============================] - 5s 106us/sample - loss: 0.4341 - accuracy: 0.8485 - val_loss: 0.3262 - val_accuracy: 0.8844\n",
            "Epoch 2/20\n",
            "48000/48000 [==============================] - 5s 100us/sample - loss: 0.2971 - accuracy: 0.8939 - val_loss: 0.2772 - val_accuracy: 0.8987\n",
            "Epoch 3/20\n",
            "48000/48000 [==============================] - 5s 100us/sample - loss: 0.2528 - accuracy: 0.9072 - val_loss: 0.2611 - val_accuracy: 0.9051\n",
            "Epoch 4/20\n",
            "48000/48000 [==============================] - 5s 100us/sample - loss: 0.2229 - accuracy: 0.9174 - val_loss: 0.2556 - val_accuracy: 0.9078\n",
            "Epoch 5/20\n",
            "48000/48000 [==============================] - 5s 101us/sample - loss: 0.2005 - accuracy: 0.9259 - val_loss: 0.2607 - val_accuracy: 0.9066\n",
            "Epoch 6/20\n",
            "48000/48000 [==============================] - 5s 99us/sample - loss: 0.1803 - accuracy: 0.9326 - val_loss: 0.2388 - val_accuracy: 0.9160\n",
            "Epoch 7/20\n",
            "48000/48000 [==============================] - 5s 99us/sample - loss: 0.1614 - accuracy: 0.9403 - val_loss: 0.2618 - val_accuracy: 0.9080\n",
            "Epoch 8/20\n",
            "48000/48000 [==============================] - 5s 100us/sample - loss: 0.1445 - accuracy: 0.9468 - val_loss: 0.2492 - val_accuracy: 0.9160\n",
            "Epoch 9/20\n",
            "48000/48000 [==============================] - 5s 100us/sample - loss: 0.1304 - accuracy: 0.9516 - val_loss: 0.2535 - val_accuracy: 0.9171\n",
            "Epoch 10/20\n",
            "48000/48000 [==============================] - 5s 100us/sample - loss: 0.1157 - accuracy: 0.9572 - val_loss: 0.2692 - val_accuracy: 0.9153\n",
            "Epoch 11/20\n",
            "48000/48000 [==============================] - 5s 101us/sample - loss: 0.1038 - accuracy: 0.9615 - val_loss: 0.2733 - val_accuracy: 0.9168\n",
            "Epoch 12/20\n",
            "48000/48000 [==============================] - 5s 100us/sample - loss: 0.0923 - accuracy: 0.9658 - val_loss: 0.3022 - val_accuracy: 0.9136\n",
            "Epoch 13/20\n",
            "48000/48000 [==============================] - 5s 102us/sample - loss: 0.0818 - accuracy: 0.9701 - val_loss: 0.3144 - val_accuracy: 0.9119\n",
            "Epoch 14/20\n",
            "48000/48000 [==============================] - 5s 103us/sample - loss: 0.0750 - accuracy: 0.9724 - val_loss: 0.3314 - val_accuracy: 0.9142\n",
            "Epoch 15/20\n",
            "48000/48000 [==============================] - 5s 99us/sample - loss: 0.0652 - accuracy: 0.9758 - val_loss: 0.3318 - val_accuracy: 0.9153\n",
            "Epoch 16/20\n",
            "48000/48000 [==============================] - 5s 100us/sample - loss: 0.0588 - accuracy: 0.9781 - val_loss: 0.3246 - val_accuracy: 0.9164\n",
            "Epoch 17/20\n",
            "48000/48000 [==============================] - 5s 99us/sample - loss: 0.0531 - accuracy: 0.9800 - val_loss: 0.3634 - val_accuracy: 0.9142\n",
            "Epoch 18/20\n",
            "48000/48000 [==============================] - 5s 99us/sample - loss: 0.0464 - accuracy: 0.9837 - val_loss: 0.3870 - val_accuracy: 0.9133\n",
            "Epoch 19/20\n",
            "48000/48000 [==============================] - 5s 100us/sample - loss: 0.0435 - accuracy: 0.9837 - val_loss: 0.4231 - val_accuracy: 0.9118\n",
            "Epoch 20/20\n",
            "48000/48000 [==============================] - 5s 104us/sample - loss: 0.0376 - accuracy: 0.9866 - val_loss: 0.4254 - val_accuracy: 0.9120\n"
          ],
          "name": "stdout"
        }
      ]
    },
    {
      "cell_type": "code",
      "metadata": {
        "id": "vQya3c1cTFqZ",
        "colab_type": "code",
        "outputId": "e8ed3cc8-69fc-4963-da30-e4217a9a8fda",
        "colab": {
          "base_uri": "https://localhost:8080/",
          "height": 281
        }
      },
      "source": [
        "plt.plot(history.history['loss'])\n",
        "plt.plot(history.history['val_loss'])\n",
        "plt.ylabel('loss')\n",
        "plt.xlabel('epoch')\n",
        "plt.legend(['train_loss', 'val_loss'])\n",
        "plt.show()"
      ],
      "execution_count": 45,
      "outputs": [
        {
          "output_type": "display_data",
          "data": {
            "image/png": "[encoded data removed]",
            "text/plain": [
              "<Figure size 432x288 with 1 Axes>"
            ]
          },
          "metadata": {
            "tags": []
          }
        }
      ]
    },
    {
      "cell_type": "code",
      "metadata": {
        "id": "s950Ajj_TIUx",
        "colab_type": "code",
        "outputId": "99b2d18e-ef26-46cf-cc54-39dcaaf77ec1",
        "colab": {
          "base_uri": "https://localhost:8080/",
          "height": 279
        }
      },
      "source": [
        "plt.plot(history.history['accuracy'])\n",
        "plt.plot(history.history['val_accuracy'])\n",
        "plt.ylabel('loss')\n",
        "plt.xlabel('epoch')\n",
        "plt.legend(['train_accuracy', 'val_accuracy'])\n",
        "plt.show()"
      ],
      "execution_count": 46,
      "outputs": [
        {
          "output_type": "display_data",
          "data": {
            "image/png": "[encoded data removed]",
            "text/plain": [
              "<Figure size 432x288 with 1 Axes>"
            ]
          },
          "metadata": {
            "tags": []
          }
        }
      ]
    },
    {
      "cell_type": "code",
      "metadata": {
        "id": "oC7ASCfTTJfO",
        "colab_type": "code",
        "colab": {}
      },
      "source": [
        "loss, accuracy = conv1.evaluate(x_val, y_val_encoded, verbose=0)"
      ],
      "execution_count": 0,
      "outputs": []
    },
    {
      "cell_type": "code",
      "metadata": {
        "id": "LeM_TUVvTK_F",
        "colab_type": "code",
        "outputId": "55392b1a-7d83-40c6-f81c-b62538e75fec",
        "colab": {
          "base_uri": "https://localhost:8080/",
          "height": 35
        }
      },
      "source": [
        "print(accuracy)"
      ],
      "execution_count": 48,
      "outputs": [
        {
          "output_type": "stream",
          "text": [
            "0.912\n"
          ],
          "name": "stdout"
        }
      ]
    },
    {
      "cell_type": "code",
      "metadata": {
        "id": "umb5MbfKTMTn",
        "colab_type": "code",
        "colab": {}
      },
      "source": [
        "from tensorflow.keras.layers import Dropout"
      ],
      "execution_count": 0,
      "outputs": []
    },
    {
      "cell_type": "code",
      "metadata": {
        "id": "9Yfj3ePqTOrF",
        "colab_type": "code",
        "colab": {}
      },
      "source": [
        "conv2 = tf.keras.Sequential()\n",
        "conv2.add(Conv2D(10, (3, 3), activation='relu', padding='same', input_shape=(28, 28, 1)))\n",
        "conv2.add(MaxPooling2D((2, 2)))\n",
        "conv2.add(Flatten())\n",
        "conv2.add(Dropout(0.5))\n",
        "conv2.add(Dense(100, activation='relu'))\n",
        "conv2.add(Dense(10, activation='softmax'))"
      ],
      "execution_count": 0,
      "outputs": []
    },
    {
      "cell_type": "code",
      "metadata": {
        "id": "wyFJ-DYaTQwi",
        "colab_type": "code",
        "outputId": "417ea500-6a5e-4f45-f8b6-e43690a90665",
        "colab": {
          "base_uri": "https://localhost:8080/",
          "height": 377
        }
      },
      "source": [
        "conv2.summary()"
      ],
      "execution_count": 51,
      "outputs": [
        {
          "output_type": "stream",
          "text": [
            "Model: \"sequential_1\"\n",
            "_________________________________________________________________\n",
            "Layer (type)                 Output Shape              Param #   \n",
            "=================================================================\n",
            "conv2d_1 (Conv2D)            (None, 28, 28, 10)        100       \n",
            "_________________________________________________________________\n",
            "max_pooling2d_1 (MaxPooling2 (None, 14, 14, 10)        0         \n",
            "_________________________________________________________________\n",
            "flatten_1 (Flatten)          (None, 1960)              0         \n",
            "_________________________________________________________________\n",
            "dropout (Dropout)            (None, 1960)              0         \n",
            "_________________________________________________________________\n",
            "dense_2 (Dense)              (None, 100)               196100    \n",
            "_________________________________________________________________\n",
            "dense_3 (Dense)              (None, 10)                1010      \n",
            "=================================================================\n",
            "Total params: 197,210\n",
            "Trainable params: 197,210\n",
            "Non-trainable params: 0\n",
            "_________________________________________________________________\n"
          ],
          "name": "stdout"
        }
      ]
    },
    {
      "cell_type": "code",
      "metadata": {
        "id": "6xsAjXoITSFp",
        "colab_type": "code",
        "colab": {}
      },
      "source": [
        "conv2.compile(optimizer='adam', loss='categorical_crossentropy',\n",
        "              metrics=['accuracy'])"
      ],
      "execution_count": 0,
      "outputs": []
    },
    {
      "cell_type": "code",
      "metadata": {
        "id": "qS5ZiFmQTT3F",
        "colab_type": "code",
        "outputId": "3fe2c0a7-1b0f-4019-d0df-a14e0a756291",
        "colab": {
          "base_uri": "https://localhost:8080/",
          "height": 755
        }
      },
      "source": [
        "history = conv2.fit(x_train, y_train_encoded, epochs=20, \n",
        "                    validation_data=(x_val, y_val_encoded))"
      ],
      "execution_count": 53,
      "outputs": [
        {
          "output_type": "stream",
          "text": [
            "Train on 48000 samples, validate on 12000 samples\n",
            "Epoch 1/20\n",
            "48000/48000 [==============================] - 5s 110us/sample - loss: 0.4970 - accuracy: 0.8220 - val_loss: 0.3722 - val_accuracy: 0.8641\n",
            "Epoch 2/20\n",
            "48000/48000 [==============================] - 5s 102us/sample - loss: 0.3683 - accuracy: 0.8660 - val_loss: 0.3075 - val_accuracy: 0.8891\n",
            "Epoch 3/20\n",
            "48000/48000 [==============================] - 5s 104us/sample - loss: 0.3333 - accuracy: 0.8774 - val_loss: 0.2885 - val_accuracy: 0.8972\n",
            "Epoch 4/20\n",
            "48000/48000 [==============================] - 5s 103us/sample - loss: 0.3055 - accuracy: 0.8871 - val_loss: 0.2701 - val_accuracy: 0.9039\n",
            "Epoch 5/20\n",
            "48000/48000 [==============================] - 5s 101us/sample - loss: 0.2855 - accuracy: 0.8936 - val_loss: 0.2665 - val_accuracy: 0.9026\n",
            "Epoch 6/20\n",
            "48000/48000 [==============================] - 5s 104us/sample - loss: 0.2751 - accuracy: 0.8979 - val_loss: 0.2536 - val_accuracy: 0.9102\n",
            "Epoch 7/20\n",
            "48000/48000 [==============================] - 5s 101us/sample - loss: 0.2611 - accuracy: 0.9025 - val_loss: 0.2569 - val_accuracy: 0.9078\n",
            "Epoch 8/20\n",
            "48000/48000 [==============================] - 5s 103us/sample - loss: 0.2509 - accuracy: 0.9061 - val_loss: 0.2479 - val_accuracy: 0.9119\n",
            "Epoch 9/20\n",
            "48000/48000 [==============================] - 5s 103us/sample - loss: 0.2433 - accuracy: 0.9092 - val_loss: 0.2475 - val_accuracy: 0.9114\n",
            "Epoch 10/20\n",
            "48000/48000 [==============================] - 5s 102us/sample - loss: 0.2334 - accuracy: 0.9112 - val_loss: 0.2409 - val_accuracy: 0.9154\n",
            "Epoch 11/20\n",
            "48000/48000 [==============================] - 5s 103us/sample - loss: 0.2250 - accuracy: 0.9147 - val_loss: 0.2407 - val_accuracy: 0.9153\n",
            "Epoch 12/20\n",
            "48000/48000 [==============================] - 5s 104us/sample - loss: 0.2210 - accuracy: 0.9181 - val_loss: 0.2406 - val_accuracy: 0.9128\n",
            "Epoch 13/20\n",
            "48000/48000 [==============================] - 5s 104us/sample - loss: 0.2158 - accuracy: 0.9181 - val_loss: 0.2380 - val_accuracy: 0.9158\n",
            "Epoch 14/20\n",
            "48000/48000 [==============================] - 5s 101us/sample - loss: 0.2106 - accuracy: 0.9190 - val_loss: 0.2309 - val_accuracy: 0.9183\n",
            "Epoch 15/20\n",
            "48000/48000 [==============================] - 5s 102us/sample - loss: 0.2046 - accuracy: 0.9233 - val_loss: 0.2349 - val_accuracy: 0.9170\n",
            "Epoch 16/20\n",
            "48000/48000 [==============================] - 5s 103us/sample - loss: 0.2007 - accuracy: 0.9237 - val_loss: 0.2445 - val_accuracy: 0.9152\n",
            "Epoch 17/20\n",
            "48000/48000 [==============================] - 5s 105us/sample - loss: 0.1972 - accuracy: 0.9259 - val_loss: 0.2404 - val_accuracy: 0.9155\n",
            "Epoch 18/20\n",
            "48000/48000 [==============================] - 5s 103us/sample - loss: 0.1928 - accuracy: 0.9290 - val_loss: 0.2304 - val_accuracy: 0.9203\n",
            "Epoch 19/20\n",
            "48000/48000 [==============================] - 5s 103us/sample - loss: 0.1843 - accuracy: 0.9298 - val_loss: 0.2354 - val_accuracy: 0.9196\n",
            "Epoch 20/20\n",
            "48000/48000 [==============================] - 5s 107us/sample - loss: 0.1840 - accuracy: 0.9303 - val_loss: 0.2318 - val_accuracy: 0.9227\n"
          ],
          "name": "stdout"
        }
      ]
    },
    {
      "cell_type": "code",
      "metadata": {
        "id": "Xfu1svIgTVR7",
        "colab_type": "code",
        "outputId": "bf261b8b-5df6-479d-cbcd-61d32d937753",
        "colab": {
          "base_uri": "https://localhost:8080/",
          "height": 279
        }
      },
      "source": [
        "plt.plot(history.history['loss'])\n",
        "plt.plot(history.history['val_loss'])\n",
        "plt.ylabel('loss')\n",
        "plt.xlabel('epoch')\n",
        "plt.legend(['train_loss', 'val_loss'])\n",
        "plt.show()"
      ],
      "execution_count": 54,
      "outputs": [
        {
          "output_type": "display_data",
          "data": {
            "image/png": "[encoded data removed]",
            "text/plain": [
              "<Figure size 432x288 with 1 Axes>"
            ]
          },
          "metadata": {
            "tags": []
          }
        }
      ]
    },
    {
      "cell_type": "code",
      "metadata": {
        "id": "ldh255r0TW5f",
        "colab_type": "code",
        "outputId": "e3962646-2807-4d71-93b9-fc34f0875735",
        "colab": {
          "base_uri": "https://localhost:8080/",
          "height": 279
        }
      },
      "source": [
        "plt.plot(history.history['accuracy'])\n",
        "plt.plot(history.history['val_accuracy'])\n",
        "plt.ylabel('loss')\n",
        "plt.xlabel('epoch')\n",
        "plt.legend(['train_accuracy', 'val_accuracy'])\n",
        "plt.show()"
      ],
      "execution_count": 55,
      "outputs": [
        {
          "output_type": "display_data",
          "data": {
            "image/png": "[encoded data removed]",
            "text/plain": [
              "<Figure size 432x288 with 1 Axes>"
            ]
          },
          "metadata": {
            "tags": []
          }
        }
      ]
    },
    {
      "cell_type": "code",
      "metadata": {
        "id": "GrTjVhDwTYF9",
        "colab_type": "code",
        "colab": {}
      },
      "source": [
        "loss, accuracy = conv2.evaluate(x_val, y_val_encoded, verbose=0)"
      ],
      "execution_count": 0,
      "outputs": []
    },
    {
      "cell_type": "code",
      "metadata": {
        "id": "akyRMqxATZZf",
        "colab_type": "code",
        "outputId": "0b0f2310-72c9-4f42-f77f-fec3f0e9386a",
        "colab": {
          "base_uri": "https://localhost:8080/",
          "height": 35
        }
      },
      "source": [
        "print(accuracy)"
      ],
      "execution_count": 57,
      "outputs": [
        {
          "output_type": "stream",
          "text": [
            "0.92266667\n"
          ],
          "name": "stdout"
        }
      ]
    }
  ]
}